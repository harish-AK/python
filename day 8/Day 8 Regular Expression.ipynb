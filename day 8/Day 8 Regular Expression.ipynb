{
 "cells": [
  {
   "cell_type": "code",
   "execution_count": 1,
   "metadata": {},
   "outputs": [
    {
     "name": "stdout",
     "output_type": "stream",
     "text": [
      "<re.Match object; span=(0, 4), match='rain'>\n"
     ]
    }
   ],
   "source": [
    "import re\n",
    "txt = \"rain in Spain The rain in Spain\"\n",
    "x = re.search(\"^rain\", txt) # ^ get the starting string\n",
    "print(x)"
   ]
  },
  {
   "cell_type": "code",
   "execution_count": 2,
   "metadata": {},
   "outputs": [
    {
     "name": "stdout",
     "output_type": "stream",
     "text": [
      "<re.Match object; span=(0, 35), match='The rain in Spain The rain in Spain'>\n"
     ]
    }
   ],
   "source": [
    "import re\n",
    "txt = \"The rain in Spain The rain in Spain\"\n",
    "#len(txt)\n",
    "x = re.search(\"^The.*n$\", txt) # ^ get the starting string\n",
    "print(x)"
   ]
  },
  {
   "cell_type": "code",
   "execution_count": 3,
   "metadata": {},
   "outputs": [
    {
     "name": "stdout",
     "output_type": "stream",
     "text": [
      "<re.Match object; span=(0, 29), match='The rain in Spain is not here'>\n"
     ]
    }
   ],
   "source": [
    "import re\n",
    "txt = \"The rain in Spain is not here\"\n",
    "#len(txt)\n",
    "x = re.search(\"^The.*re$\", txt) # ^ get the starting string, $ end of the string\n",
    "print(x)"
   ]
  },
  {
   "cell_type": "code",
   "execution_count": 4,
   "metadata": {},
   "outputs": [
    {
     "name": "stdout",
     "output_type": "stream",
     "text": [
      "None\n"
     ]
    }
   ],
   "source": [
    "import re\n",
    "txt = \"The rain in Spain is not here\"\n",
    "#len(txt)\n",
    "x = re.search(\"^The.*not$\", txt) # ^ get the starting string, $ end of the string\n",
    "print(x)"
   ]
  },
  {
   "cell_type": "code",
   "execution_count": 5,
   "metadata": {},
   "outputs": [
    {
     "name": "stdout",
     "output_type": "stream",
     "text": [
      "<re.Match object; span=(8, 10), match='to'>\n"
     ]
    }
   ],
   "source": [
    "txt = \"Welcome to SRET, SRIHER, Welcome to SRET, SRIHER\"   #find\n",
    "x = re.search(\"to\", txt)\n",
    "print(x)"
   ]
  },
  {
   "cell_type": "code",
   "execution_count": 6,
   "metadata": {},
   "outputs": [
    {
     "name": "stdout",
     "output_type": "stream",
     "text": [
      "<re.Match object; span=(7, 8), match=' '>\n"
     ]
    }
   ],
   "source": [
    "txt = \"Welcome to SRET, SRIHER, Welcome to SRET, SRIHER\"   #checks for the whitespace\n",
    "x = re.search(\"\\s\", txt)\n",
    "print(x)"
   ]
  },
  {
   "cell_type": "code",
   "execution_count": 7,
   "metadata": {},
   "outputs": [
    {
     "name": "stdout",
     "output_type": "stream",
     "text": [
      "['Welcome', 'to', 'SRET,', 'SRIHER,', 'Welcome', 'to', 'SRET,', 'SRIHER']\n"
     ]
    }
   ],
   "source": [
    "txt = \"Welcome to SRET, SRIHER, Welcome to SRET, SRIHER\"   #split\n",
    "x = re.split(\"\\s\", txt)\n",
    "print(x)"
   ]
  },
  {
   "cell_type": "code",
   "execution_count": 8,
   "metadata": {},
   "outputs": [
    {
     "name": "stdout",
     "output_type": "stream",
     "text": [
      "['SRET', 'SRET']\n"
     ]
    }
   ],
   "source": [
    "txt = \"Welcome to SRET, SRIHER, Welcome to SRET, SRIHER\"  #findall\n",
    "x = re.findall(\"SRET\", txt)\n",
    "print(x)"
   ]
  },
  {
   "cell_type": "code",
   "execution_count": 9,
   "metadata": {},
   "outputs": [
    {
     "name": "stdout",
     "output_type": "stream",
     "text": [
      "<re.Match object; span=(11, 15), match='SRET'>\n"
     ]
    }
   ],
   "source": [
    "txt = \"Welcome to SRET, SRIHER, Welcome to SRET, SRIHER\"  \n",
    "x = re.search(r\"\\bS\\w+\", txt)\n",
    "print(x)"
   ]
  },
  {
   "cell_type": "code",
   "execution_count": 10,
   "metadata": {},
   "outputs": [
    {
     "data": {
      "text/plain": [
       "['SRIHER', 'SRET,', 'to', 'Welcome', 'SRIHER,', 'SRET,', 'to', 'Welcome']"
      ]
     },
     "execution_count": 10,
     "metadata": {},
     "output_type": "execute_result"
    }
   ],
   "source": [
    "txt = \"Welcome to SRET, SRIHER, Welcome to SRET, SRIHER\"  #inverse\n",
    "txt.split()[::-1]"
   ]
  },
  {
   "cell_type": "code",
   "execution_count": 11,
   "metadata": {},
   "outputs": [
    {
     "name": "stdout",
     "output_type": "stream",
     "text": [
      "hi a my a name a is a danie\n"
     ]
    }
   ],
   "source": [
    "import re             #the value will be replaces by another value\n",
    "name = 'hi my name is danie'\n",
    "n = re.sub(\"\\s\", \" a \", name)\n",
    "print(n)"
   ]
  },
  {
   "cell_type": "code",
   "execution_count": 12,
   "metadata": {},
   "outputs": [
    {
     "name": "stdout",
     "output_type": "stream",
     "text": [
      "matchObj.group() :  Cats are smarter than dogs\n",
      "matchObj.group(1) :  smarter\n",
      "matchObj.group(2) :  smarter\n"
     ]
    }
   ],
   "source": [
    "import re\n",
    "\n",
    "line = \"Cats are smarter than dogs\"\n",
    "\n",
    "matchObj = re.match( r'(.*) are (.*?) .*', line, re.M|re.I)\n",
    "\n",
    "if matchObj:\n",
    "    print (\"matchObj.group() : \", matchObj.group())\n",
    "    print (\"matchObj.group(1) : \", matchObj.group(2))\n",
    "    print (\"matchObj.group(2) : \", matchObj.group(2))\n",
    "else:\n",
    "    print (\"No match!!\")"
   ]
  },
  {
   "cell_type": "code",
   "execution_count": 13,
   "metadata": {},
   "outputs": [
    {
     "name": "stdout",
     "output_type": "stream",
     "text": [
      "No match!!\n",
      "search --> searchObj.group() :  dogs\n"
     ]
    }
   ],
   "source": [
    "import re\n",
    "\n",
    "line = \"Cats are smarter than dogs\";\n",
    "\n",
    "matchObj = re.match( r'dogs', line, re.M|re.I)\n",
    "if matchObj:\n",
    "    print (\"match --> matchObj.group() : \", matchObj.group())\n",
    "else:\n",
    "    print (\"No match!!\")\n",
    "\n",
    "searchObj = re.search( r'dogs', line, re.M|re.I)\n",
    "if searchObj:\n",
    "    print (\"search --> searchObj.group() : \", searchObj.group())\n",
    "else:\n",
    "    print (\"Nothing found!!\")"
   ]
  },
  {
   "cell_type": "code",
   "execution_count": 14,
   "metadata": {},
   "outputs": [
    {
     "name": "stdout",
     "output_type": "stream",
     "text": [
      "<re.Match object; span=(19, 25), match='Python'>\n",
      "Python\n",
      "Start Index: 19\n",
      "End Index: 25\n"
     ]
    }
   ],
   "source": [
    "import re\n",
    "  \n",
    "match = re.search(r'Python', 'A computer science Python code')\n",
    "print(match)\n",
    "print(match.group())\n",
    "  \n",
    "print('Start Index:', match.start())\n",
    "print('End Index:', match.end())"
   ]
  },
  {
   "cell_type": "code",
   "execution_count": 15,
   "metadata": {},
   "outputs": [
    {
     "name": "stdout",
     "output_type": "stream",
     "text": [
      "Date{mm-dd-yyyy}: <re.Match object; span=(0, 10), match='21-12-2021'>\n"
     ]
    }
   ],
   "source": [
    "import re\n",
    "  \n",
    "print('Date{mm-dd-yyyy}:', re.search(r'[\\d]{2}-[\\d]{2}-[\\d]{4}',\n",
    "                                     '21-12-2021'))"
   ]
  },
  {
   "cell_type": "code",
   "execution_count": 16,
   "metadata": {},
   "outputs": [
    {
     "name": "stdout",
     "output_type": "stream",
     "text": [
      "26-08-2020\n"
     ]
    }
   ],
   "source": [
    "import re\n",
    "  \n",
    "grp = re.search(r'([\\d]{2})-([\\d]{2})-([\\d]{4})','26-08-2020')\n",
    "print(grp.group())"
   ]
  },
  {
   "cell_type": "code",
   "execution_count": 17,
   "metadata": {},
   "outputs": [
    {
     "name": "stdout",
     "output_type": "stream",
     "text": [
      "08\n"
     ]
    }
   ],
   "source": [
    "import re\n",
    "  \n",
    "match = re.search(r'(?P<dd>[\\d]{2})-(?P<mm>[\\d]{2})-(?P<yyyy>[\\d]{4})',\n",
    "                  '26-08-2020') #'P' is for Capturing group\n",
    "print(match.group('mm'))"
   ]
  },
  {
   "cell_type": "code",
   "execution_count": 18,
   "metadata": {},
   "outputs": [
    {
     "name": "stdout",
     "output_type": "stream",
     "text": [
      "Phone number found: 423-952-8546\n"
     ]
    }
   ],
   "source": [
    "import re\n",
    "phoneNumRegex = re.compile(r'\\d\\d\\d-\\d\\d\\d-\\d\\d\\d\\d') #compile avoids rewriting\n",
    "mo = phoneNumRegex.search('My number is 423-952-8546.')\n",
    "print('Phone number found: ' + mo.group())"
   ]
  },
  {
   "cell_type": "code",
   "execution_count": 19,
   "metadata": {},
   "outputs": [
    {
     "name": "stdout",
     "output_type": "stream",
     "text": [
      "abc99@google.com\n",
      "careerabc99@hotmail.com\n",
      "users@yahoomail.com\n"
     ]
    }
   ],
   "source": [
    "abc = 'abc99@google.com, careerabc99@hotmail.com, users@yahoomail.com'\n",
    "emails = re.findall(r'[\\w\\.-]+@[\\w\\.-]+', abc) #w - [^a-zA-Z0-9].\n",
    "for email in emails:\n",
    "    print(email)"
   ]
  },
  {
   "cell_type": "code",
   "execution_count": 20,
   "metadata": {},
   "outputs": [],
   "source": [
    "class Car:\n",
    "    def __init__(self):\n",
    "        print (\"Engine started\")\n",
    "        self.name = \"corolla\"\n",
    "        self.__make = \"toyota\"\n",
    "        self._model = 1999"
   ]
  },
  {
   "cell_type": "code",
   "execution_count": 21,
   "metadata": {},
   "outputs": [
    {
     "name": "stdout",
     "output_type": "stream",
     "text": [
      "Engine started\n",
      "corolla\n"
     ]
    }
   ],
   "source": [
    "car_a = Car()\n",
    "print(car_a.name)"
   ]
  },
  {
   "cell_type": "code",
   "execution_count": 22,
   "metadata": {},
   "outputs": [
    {
     "ename": "AttributeError",
     "evalue": "'Car' object has no attribute 'make'",
     "output_type": "error",
     "traceback": [
      "\u001b[1;31m---------------------------------------------------------------------------\u001b[0m",
      "\u001b[1;31mAttributeError\u001b[0m                            Traceback (most recent call last)",
      "\u001b[1;32m<ipython-input-22-d3cec27cc813>\u001b[0m in \u001b[0;36m<module>\u001b[1;34m\u001b[0m\n\u001b[1;32m----> 1\u001b[1;33m \u001b[0mprint\u001b[0m\u001b[1;33m(\u001b[0m\u001b[0mcar_a\u001b[0m\u001b[1;33m.\u001b[0m\u001b[0mmake\u001b[0m\u001b[1;33m)\u001b[0m\u001b[1;33m\u001b[0m\u001b[1;33m\u001b[0m\u001b[0m\n\u001b[0m",
      "\u001b[1;31mAttributeError\u001b[0m: 'Car' object has no attribute 'make'"
     ]
    }
   ],
   "source": [
    "print(car_a.make)"
   ]
  },
  {
   "cell_type": "code",
   "execution_count": 23,
   "metadata": {},
   "outputs": [
    {
     "name": "stdout",
     "output_type": "stream",
     "text": [
      "Name:  R2J\n",
      "Age:  20\n"
     ]
    }
   ],
   "source": [
    "class modifier: #public access modifier\n",
    "      \n",
    "    def __init__(self, name, age): # constructor\n",
    "        self.Name = name # public data members\n",
    "        self.Age = age\n",
    "     # public member function     \n",
    "    def displayAge(self):           \n",
    "           # accessing public data member\n",
    "        print(\"Age: \", self.Age)\n",
    " # creating object of the class\n",
    "obj = modifier(\"R2J\", 20) \n",
    "# accessing public data member\n",
    "print(\"Name: \", obj.Name)\n",
    "# calling public member function of the class\n",
    "obj.displayAge()"
   ]
  },
  {
   "cell_type": "code",
   "execution_count": 24,
   "metadata": {},
   "outputs": [
    {
     "name": "stdout",
     "output_type": "stream",
     "text": [
      "Name:  R2J\n",
      "Roll:  1706256\n",
      "Branch:  Information Technology\n"
     ]
    }
   ],
   "source": [
    "class python:   #private access modifier\n",
    "    __name = None # private members\n",
    "    __roll = None\n",
    "    __branch = None\n",
    "    def __init__(self, name, roll, branch): # constructor\n",
    "        self.__name = name\n",
    "        self.__roll = roll\n",
    "        self.__branch = branch \n",
    "    def __displayDetails(self):  # private member function            \n",
    "        print(\"Name: \", self.__name)  # accessing private data members\n",
    "        print(\"Roll: \", self.__roll)\n",
    "        print(\"Branch: \", self.__branch)\n",
    "    def accessPrivateFunction(self):     # public member function         \n",
    "        self.__displayDetails() # accesing private member function\n",
    "obj =python(\"R2J\", 1706256, \"Information Technology\")  # creating object    \n",
    "obj.accessPrivateFunction() # calling public member function of the class"
   ]
  },
  {
   "cell_type": "code",
   "execution_count": null,
   "metadata": {},
   "outputs": [],
   "source": []
  }
 ],
 "metadata": {
  "kernelspec": {
   "display_name": "Python 3",
   "language": "python",
   "name": "python3"
  },
  "language_info": {
   "codemirror_mode": {
    "name": "ipython",
    "version": 3
   },
   "file_extension": ".py",
   "mimetype": "text/x-python",
   "name": "python",
   "nbconvert_exporter": "python",
   "pygments_lexer": "ipython3",
   "version": "3.8.8"
  }
 },
 "nbformat": 4,
 "nbformat_minor": 4
}
