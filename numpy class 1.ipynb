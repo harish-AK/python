{
 "cells": [
  {
   "cell_type": "code",
   "execution_count": 6,
   "id": "6a9e3d34",
   "metadata": {},
   "outputs": [],
   "source": [
    "import numpy as np\n",
    "dis=[10,15,17,26]\n",
    "time=[.30,.47,.55,1.20]\n",
    "ndis=np.array(dis)\n",
    "ntime=np.array(time)\n",
    "speed=ndis/ntime"
   ]
  },
  {
   "cell_type": "code",
   "execution_count": 7,
   "id": "103965a3",
   "metadata": {},
   "outputs": [
    {
     "data": {
      "text/plain": [
       "array([33.33333333, 31.91489362, 30.90909091, 21.66666667])"
      ]
     },
     "execution_count": 7,
     "metadata": {},
     "output_type": "execute_result"
    }
   ],
   "source": [
    "speed"
   ]
  },
  {
   "cell_type": "code",
   "execution_count": 9,
   "id": "09ef3940",
   "metadata": {},
   "outputs": [
    {
     "data": {
      "text/plain": [
       "1"
      ]
     },
     "execution_count": 9,
     "metadata": {},
     "output_type": "execute_result"
    }
   ],
   "source": [
    "ndis.ndim"
   ]
  },
  {
   "cell_type": "code",
   "execution_count": 10,
   "id": "d56c9b56",
   "metadata": {},
   "outputs": [
    {
     "data": {
      "text/plain": [
       "(4,)"
      ]
     },
     "execution_count": 10,
     "metadata": {},
     "output_type": "execute_result"
    }
   ],
   "source": [
    "ndis.shape"
   ]
  },
  {
   "cell_type": "code",
   "execution_count": 11,
   "id": "4953c708",
   "metadata": {},
   "outputs": [
    {
     "data": {
      "text/plain": [
       "4"
      ]
     },
     "execution_count": 11,
     "metadata": {},
     "output_type": "execute_result"
    }
   ],
   "source": [
    "ndis.size #how many cells in a array (rows * columns)"
   ]
  },
  {
   "cell_type": "code",
   "execution_count": 12,
   "id": "81ed18c8",
   "metadata": {},
   "outputs": [
    {
     "data": {
      "text/plain": [
       "dtype('int32')"
      ]
     },
     "execution_count": 12,
     "metadata": {},
     "output_type": "execute_result"
    }
   ],
   "source": [
    "ndis.dtype"
   ]
  },
  {
   "cell_type": "code",
   "execution_count": 16,
   "id": "0caf9bb4",
   "metadata": {},
   "outputs": [
    {
     "data": {
      "text/plain": [
       "array([[1, 2, 3],\n",
       "       [4, 5, 6],\n",
       "       [7, 8, 9]])"
      ]
     },
     "execution_count": 16,
     "metadata": {},
     "output_type": "execute_result"
    }
   ],
   "source": [
    "matrix=[[1,2,3],[4,5,6],[7,8,9]]\n",
    "matrix\n",
    "m=np.array(matrix)\n",
    "m"
   ]
  },
  {
   "cell_type": "code",
   "execution_count": 14,
   "id": "fef30df8",
   "metadata": {},
   "outputs": [],
   "source": [
    "dis=[5,10,21,42]\n",
    "time=[0.5,1.1,2.5,5.8]\n",
    "ndis=np.array(dis)\n",
    "ntime=np.array(time)\n",
    "speed=ndis/ntime"
   ]
  },
  {
   "cell_type": "code",
   "execution_count": 15,
   "id": "442fa480",
   "metadata": {},
   "outputs": [
    {
     "data": {
      "text/plain": [
       "array([10.        ,  9.09090909,  8.4       ,  7.24137931])"
      ]
     },
     "execution_count": 15,
     "metadata": {},
     "output_type": "execute_result"
    }
   ],
   "source": [
    "speed"
   ]
  },
  {
   "cell_type": "code",
   "execution_count": 18,
   "id": "d5fb072b",
   "metadata": {},
   "outputs": [],
   "source": [
    "new=np.arange(1,10).reshape(3,3)"
   ]
  },
  {
   "cell_type": "code",
   "execution_count": 19,
   "id": "7f9e940b",
   "metadata": {},
   "outputs": [
    {
     "data": {
      "text/plain": [
       "array([[1, 2, 3],\n",
       "       [4, 5, 6],\n",
       "       [7, 8, 9]])"
      ]
     },
     "execution_count": 19,
     "metadata": {},
     "output_type": "execute_result"
    }
   ],
   "source": [
    "new"
   ]
  },
  {
   "cell_type": "code",
   "execution_count": 20,
   "id": "439271ea",
   "metadata": {},
   "outputs": [
    {
     "data": {
      "text/plain": [
       "array([[ 1,  4,  9],\n",
       "       [16, 25, 36],\n",
       "       [49, 64, 81]])"
      ]
     },
     "execution_count": 20,
     "metadata": {},
     "output_type": "execute_result"
    }
   ],
   "source": [
    "m*new"
   ]
  },
  {
   "cell_type": "code",
   "execution_count": 21,
   "id": "9c84f652",
   "metadata": {},
   "outputs": [
    {
     "data": {
      "text/plain": [
       "array([[1, 4, 7],\n",
       "       [2, 5, 8],\n",
       "       [3, 6, 9]])"
      ]
     },
     "execution_count": 21,
     "metadata": {},
     "output_type": "execute_result"
    }
   ],
   "source": [
    "new.T #transpose"
   ]
  },
  {
   "cell_type": "code",
   "execution_count": 22,
   "id": "f71a2333",
   "metadata": {},
   "outputs": [
    {
     "data": {
      "text/plain": [
       "(array([[1, 2, 3],\n",
       "        [4, 5, 6],\n",
       "        [7, 8, 9]]),\n",
       " array([[1, 2, 3],\n",
       "        [4, 5, 6],\n",
       "        [7, 8, 9]]))"
      ]
     },
     "execution_count": 22,
     "metadata": {},
     "output_type": "execute_result"
    }
   ],
   "source": [
    "m,new"
   ]
  },
  {
   "cell_type": "code",
   "execution_count": 23,
   "id": "df7ea4a3",
   "metadata": {},
   "outputs": [
    {
     "data": {
      "text/plain": [
       "array([[ 0,  3,  6,  9, 12],\n",
       "       [15, 18, 21, 24, 27]])"
      ]
     },
     "execution_count": 23,
     "metadata": {},
     "output_type": "execute_result"
    }
   ],
   "source": [
    "#built in methods\n",
    "np.arange(0,30,3).reshape(2,5) #2 rows 5 columns"
   ]
  },
  {
   "cell_type": "code",
   "execution_count": 24,
   "id": "1f18551d",
   "metadata": {},
   "outputs": [
    {
     "data": {
      "text/plain": [
       "array([ 7, 14, 21, 28, 35, 42, 49, 56, 63, 70])"
      ]
     },
     "execution_count": 24,
     "metadata": {},
     "output_type": "execute_result"
    }
   ],
   "source": [
    "np.arange(7,71,7) #  1.start ,2.stop,3.step values"
   ]
  },
  {
   "cell_type": "code",
   "execution_count": 29,
   "id": "f7a101c0",
   "metadata": {},
   "outputs": [
    {
     "data": {
      "text/plain": [
       "array([[0., 0., 0.],\n",
       "       [0., 0., 0.],\n",
       "       [0., 0., 0.]])"
      ]
     },
     "execution_count": 29,
     "metadata": {},
     "output_type": "execute_result"
    }
   ],
   "source": [
    "z=np.zeros(9)\n",
    "z.reshape(3,3)"
   ]
  },
  {
   "cell_type": "code",
   "execution_count": 37,
   "id": "06f37d4f",
   "metadata": {},
   "outputs": [
    {
     "data": {
      "text/plain": [
       "array([[[[0., 0., 0.],\n",
       "         [0., 0., 0.],\n",
       "         [0., 0., 0.]],\n",
       "\n",
       "        [[0., 0., 0.],\n",
       "         [0., 0., 0.],\n",
       "         [0., 0., 0.]],\n",
       "\n",
       "        [[0., 0., 0.],\n",
       "         [0., 0., 0.],\n",
       "         [0., 0., 0.]]],\n",
       "\n",
       "\n",
       "       [[[0., 0., 0.],\n",
       "         [0., 0., 0.],\n",
       "         [0., 0., 0.]],\n",
       "\n",
       "        [[0., 0., 0.],\n",
       "         [0., 0., 0.],\n",
       "         [0., 0., 0.]],\n",
       "\n",
       "        [[0., 0., 0.],\n",
       "         [0., 0., 0.],\n",
       "         [0., 0., 0.]]],\n",
       "\n",
       "\n",
       "       [[[0., 0., 0.],\n",
       "         [0., 0., 0.],\n",
       "         [0., 0., 0.]],\n",
       "\n",
       "        [[0., 0., 0.],\n",
       "         [0., 0., 0.],\n",
       "         [0., 0., 0.]],\n",
       "\n",
       "        [[0., 0., 0.],\n",
       "         [0., 0., 0.],\n",
       "         [0., 0., 0.]]]])"
      ]
     },
     "execution_count": 37,
     "metadata": {},
     "output_type": "execute_result"
    }
   ],
   "source": [
    "z=np.zeros((3,3,3,3))\n",
    "z"
   ]
  },
  {
   "cell_type": "code",
   "execution_count": 38,
   "id": "9ac34432",
   "metadata": {},
   "outputs": [
    {
     "data": {
      "text/plain": [
       "array([[1., 0., 0., 0., 0., 0., 0., 0., 0., 0., 0., 0.],\n",
       "       [0., 1., 0., 0., 0., 0., 0., 0., 0., 0., 0., 0.],\n",
       "       [0., 0., 1., 0., 0., 0., 0., 0., 0., 0., 0., 0.],\n",
       "       [0., 0., 0., 1., 0., 0., 0., 0., 0., 0., 0., 0.],\n",
       "       [0., 0., 0., 0., 1., 0., 0., 0., 0., 0., 0., 0.],\n",
       "       [0., 0., 0., 0., 0., 1., 0., 0., 0., 0., 0., 0.],\n",
       "       [0., 0., 0., 0., 0., 0., 1., 0., 0., 0., 0., 0.],\n",
       "       [0., 0., 0., 0., 0., 0., 0., 1., 0., 0., 0., 0.],\n",
       "       [0., 0., 0., 0., 0., 0., 0., 0., 1., 0., 0., 0.],\n",
       "       [0., 0., 0., 0., 0., 0., 0., 0., 0., 1., 0., 0.],\n",
       "       [0., 0., 0., 0., 0., 0., 0., 0., 0., 0., 1., 0.],\n",
       "       [0., 0., 0., 0., 0., 0., 0., 0., 0., 0., 0., 1.]])"
      ]
     },
     "execution_count": 38,
     "metadata": {},
     "output_type": "execute_result"
    }
   ],
   "source": [
    "np.eye(12) #eye makes the diagnoal value"
   ]
  },
  {
   "cell_type": "code",
   "execution_count": 40,
   "id": "49e57083",
   "metadata": {},
   "outputs": [
    {
     "data": {
      "text/plain": [
       "array([ 1.        ,  3.22222222,  5.44444444,  7.66666667,  9.88888889,\n",
       "       12.11111111, 14.33333333, 16.55555556, 18.77777778, 21.        ])"
      ]
     },
     "execution_count": 40,
     "metadata": {},
     "output_type": "execute_result"
    }
   ],
   "source": [
    "#linespace\n",
    "np.linspace(1,21,10)  #start value is 1 stop value is 21 in between we seperate 10 parts(values)"
   ]
  },
  {
   "cell_type": "code",
   "execution_count": 48,
   "id": "e6d5be89",
   "metadata": {},
   "outputs": [
    {
     "data": {
      "text/plain": [
       "array([[ 3.41749644,  7.45605166, 42.35436849, 42.7921984 , 40.97351159],\n",
       "       [85.17834847, 91.40258239,  7.38233089, 87.1526115 , 30.45047109],\n",
       "       [ 3.23071605, 94.12746447,  5.03236407, 26.38581369, 31.5491613 ],\n",
       "       [95.22943824,  6.19723649, 35.31547261, 45.18134721, 32.129782  ],\n",
       "       [25.52983126, 74.25421993, 78.06837895, 74.34689705,  6.00988094]])"
      ]
     },
     "execution_count": 48,
     "metadata": {},
     "output_type": "execute_result"
    }
   ],
   "source": [
    "#random\n",
    "np.random.rand(5,5)*100"
   ]
  },
  {
   "cell_type": "code",
   "execution_count": 51,
   "id": "353c9a55",
   "metadata": {},
   "outputs": [
    {
     "data": {
      "text/plain": [
       "(82, 80)"
      ]
     },
     "execution_count": 51,
     "metadata": {},
     "output_type": "execute_result"
    }
   ],
   "source": [
    "import math\n",
    "a=math.floor(np.random.rand()*100.1)\n",
    "b=int(np.random.rand()*100.1)\n",
    "a,b\n"
   ]
  },
  {
   "cell_type": "code",
   "execution_count": 53,
   "id": "a584bf39",
   "metadata": {},
   "outputs": [
    {
     "data": {
      "text/plain": [
       "0.8672196312903819"
      ]
     },
     "execution_count": 53,
     "metadata": {},
     "output_type": "execute_result"
    }
   ],
   "source": [
    "#rand\n",
    "np.random.rand() # never give the result as 1"
   ]
  },
  {
   "cell_type": "code",
   "execution_count": 55,
   "id": "f1e15913",
   "metadata": {},
   "outputs": [
    {
     "data": {
      "text/plain": [
       "array([[-0.68901091,  0.74818955,  0.53809465, -1.32843254, -0.81727889],\n",
       "       [ 1.54168525,  0.40343791,  0.04158539,  0.01749523, -0.89471757],\n",
       "       [ 0.61328066, -0.05000382, -0.85419296, -1.70247321,  3.14313184],\n",
       "       [-0.88882406,  0.09181452, -1.46381355,  0.32934298,  0.42425571],\n",
       "       [-0.94403445, -0.05699763,  1.12445966, -2.15960456, -1.41939567],\n",
       "       [ 0.14252401, -0.71039162,  0.42988086,  1.01612527,  0.5337355 ],\n",
       "       [ 1.59355172, -0.55042563, -1.0154171 ,  0.70378078,  0.52672476],\n",
       "       [-0.31962245, -0.01828259,  0.26627369,  1.0661089 , -0.45896775],\n",
       "       [-0.62457603, -1.18754308,  0.73462047,  0.87492315,  0.51195992],\n",
       "       [-0.03783541,  1.61625433,  0.46721606, -0.98024507, -1.4090443 ]])"
      ]
     },
     "execution_count": 55,
     "metadata": {},
     "output_type": "execute_result"
    }
   ],
   "source": [
    "#randn\n",
    "np.random.randn(10,5) #-3 to +3 is the range 10, 5 is row and column"
   ]
  },
  {
   "cell_type": "code",
   "execution_count": 62,
   "id": "13cb2150",
   "metadata": {},
   "outputs": [
    {
     "data": {
      "text/plain": [
       "88"
      ]
     },
     "execution_count": 62,
     "metadata": {},
     "output_type": "execute_result"
    }
   ],
   "source": [
    "#randint\n",
    "np.random.randint(101) # any number come upto 100 not 101 "
   ]
  },
  {
   "cell_type": "code",
   "execution_count": 63,
   "id": "56c5a06a",
   "metadata": {},
   "outputs": [
    {
     "data": {
      "text/plain": [
       "array([[98, 27, 26,  5, 82],\n",
       "       [24, 68, 20, 96,  1],\n",
       "       [87, 43, 93, 46, 86],\n",
       "       [ 8, 26, 13, 90, 35],\n",
       "       [22,  8, 61, 93, 15]])"
      ]
     },
     "execution_count": 63,
     "metadata": {},
     "output_type": "execute_result"
    }
   ],
   "source": [
    "np.random.randint(0,101,25).reshape(5,5) #start value 0 stop value 101 and we divide into 25 parts"
   ]
  },
  {
   "cell_type": "code",
   "execution_count": 65,
   "id": "9db9d21a",
   "metadata": {},
   "outputs": [
    {
     "data": {
      "text/plain": [
       "array([ 0,  1,  2,  3,  4,  5,  6,  7,  8,  9, 10, 11, 12, 13, 14, 15, 16,\n",
       "       17, 18, 19])"
      ]
     },
     "execution_count": 65,
     "metadata": {},
     "output_type": "execute_result"
    }
   ],
   "source": [
    "#array attributes and methods\n",
    "arr=np.arange(20)\n",
    "rar=np.random.randint(0,10,10)\n",
    "arr"
   ]
  },
  {
   "cell_type": "code",
   "execution_count": 66,
   "id": "0edcf7cc",
   "metadata": {},
   "outputs": [
    {
     "data": {
      "text/plain": [
       "array([4, 4, 4, 2, 2, 0, 2, 8, 7, 1])"
      ]
     },
     "execution_count": 66,
     "metadata": {},
     "output_type": "execute_result"
    }
   ],
   "source": [
    "rar"
   ]
  },
  {
   "cell_type": "code",
   "execution_count": 67,
   "id": "40a240d4",
   "metadata": {},
   "outputs": [
    {
     "data": {
      "text/plain": [
       "(10,)"
      ]
     },
     "execution_count": 67,
     "metadata": {},
     "output_type": "execute_result"
    }
   ],
   "source": [
    "rar.shape"
   ]
  },
  {
   "cell_type": "code",
   "execution_count": 68,
   "id": "0629af94",
   "metadata": {},
   "outputs": [
    {
     "data": {
      "text/plain": [
       "array([4, 4, 4, 2, 2, 0, 2, 8, 7, 1])"
      ]
     },
     "execution_count": 68,
     "metadata": {},
     "output_type": "execute_result"
    }
   ],
   "source": [
    "#max,min,argmax,argmin\n",
    "rar"
   ]
  },
  {
   "cell_type": "code",
   "execution_count": 69,
   "id": "6a7b5e8c",
   "metadata": {},
   "outputs": [
    {
     "data": {
      "text/plain": [
       "8"
      ]
     },
     "execution_count": 69,
     "metadata": {},
     "output_type": "execute_result"
    }
   ],
   "source": [
    "rar.max()"
   ]
  },
  {
   "cell_type": "code",
   "execution_count": 70,
   "id": "f918873f",
   "metadata": {},
   "outputs": [
    {
     "data": {
      "text/plain": [
       "7"
      ]
     },
     "execution_count": 70,
     "metadata": {},
     "output_type": "execute_result"
    }
   ],
   "source": [
    "rar.argmax() # gives the index "
   ]
  },
  {
   "cell_type": "code",
   "execution_count": 71,
   "id": "2a86fbc1",
   "metadata": {},
   "outputs": [
    {
     "data": {
      "text/plain": [
       "0"
      ]
     },
     "execution_count": 71,
     "metadata": {},
     "output_type": "execute_result"
    }
   ],
   "source": [
    "rar.min()"
   ]
  },
  {
   "cell_type": "code",
   "execution_count": 72,
   "id": "2bb3b971",
   "metadata": {},
   "outputs": [
    {
     "data": {
      "text/plain": [
       "5"
      ]
     },
     "execution_count": 72,
     "metadata": {},
     "output_type": "execute_result"
    }
   ],
   "source": [
    "rar.argmin()"
   ]
  },
  {
   "cell_type": "code",
   "execution_count": null,
   "id": "6a084ce8",
   "metadata": {},
   "outputs": [],
   "source": []
  }
 ],
 "metadata": {
  "kernelspec": {
   "display_name": "Python 3",
   "language": "python",
   "name": "python3"
  },
  "language_info": {
   "codemirror_mode": {
    "name": "ipython",
    "version": 3
   },
   "file_extension": ".py",
   "mimetype": "text/x-python",
   "name": "python",
   "nbconvert_exporter": "python",
   "pygments_lexer": "ipython3",
   "version": "3.8.8"
  }
 },
 "nbformat": 4,
 "nbformat_minor": 5
}
