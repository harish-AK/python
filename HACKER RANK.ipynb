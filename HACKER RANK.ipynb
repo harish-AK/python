{
 "cells": [
  {
   "cell_type": "code",
   "execution_count": 22,
   "id": "42a01fd0",
   "metadata": {},
   "outputs": [
    {
     "name": "stdout",
     "output_type": "stream",
     "text": [
      "enter the limit 5\n",
      "Fibonacci sequence:\n",
      "1\n",
      "1\n",
      "2\n",
      "3\n",
      "5\n"
     ]
    }
   ],
   "source": [
    "#hacker rank euler problem-2\n",
    "inp = int(input(\"enter the limit \"))\n",
    "\n",
    "n1, n2 = 0, 1\n",
    "count = 0\n",
    "\n",
    "if inp <= 0:\n",
    "    print(\"positive number only \")\n",
    "elif inp == 1:\n",
    "    print(\"Fibonacci sequence upto\",inp,\":\")\n",
    "    print(n1)\n",
    "#fibonacci \n",
    "else:\n",
    "    print(\"Fibonacci sequence:\")\n",
    "    while count < inp:\n",
    "        #print(n1)\n",
    "        nth = n1 + n2\n",
    "        n1 = n2\n",
    "        n2 = nth\n",
    "        count += 1\n",
    "       # if(n1==0):\n",
    "        print(n1)\n",
    "       # else:\n",
    "        #    print(\"work done\")"
   ]
  },
  {
   "cell_type": "code",
   "execution_count": null,
   "id": "2fc9b0a4",
   "metadata": {},
   "outputs": [],
   "source": []
  },
  {
   "cell_type": "code",
   "execution_count": 21,
   "id": "ba93e108",
   "metadata": {},
   "outputs": [
    {
     "name": "stdout",
     "output_type": "stream",
     "text": [
      "2\n",
      "10\n",
      "10\n",
      "100\n",
      "44\n"
     ]
    }
   ],
   "source": [
    "#sum of even fibonacci numbers\n",
    "n1 = 1\n",
    "n2 = 1\n",
    "fib = n1 + n2\n",
    "even = []\n",
    "question = int(input().strip())\n",
    "for i in range(question):\n",
    "    ip = int(input().strip())\n",
    "    while fib < ip:\n",
    "        even.append(fib) if fib % 2 == 0 else False\n",
    "        n1 = n2\n",
    "        n2 = fib\n",
    "        fib = n1 + n2\n",
    "    print(sum(even))"
   ]
  },
  {
   "cell_type": "code",
   "execution_count": 106,
   "id": "1d8f0165",
   "metadata": {},
   "outputs": [
    {
     "name": "stdout",
     "output_type": "stream",
     "text": [
      "enter the number3\n",
      "[1, 2, 3]\n",
      "Sum of square of  elements in given list:  14\n",
      "Sum of all elements in given list:  6\n",
      "whole square of elements 36\n",
      "22\n"
     ]
    }
   ],
   "source": [
    "#difference in squares\n",
    "n=int(input(\"enter the number\"))\n",
    "a = range(1,n+1)\n",
    "output = list(a)\n",
    "print(output)\n",
    "total = 0\n",
    "\n",
    "list1 = output\n",
    "\n",
    "for ele in range(0, len(list1)):\n",
    "    #sum of squares (1,4,9)\n",
    "    total = total + list1[ele]*list1[ele]\n",
    "\n",
    "print(\"Sum of square of  elements in given list: \", total)\n",
    "\n",
    "\n",
    "tot = 0\n",
    "\n",
    "for ele in range(0, len(list1)):\n",
    "    tot = tot + list1[ele]\n",
    "\n",
    "print(\"Sum of all elements in given list: \", tot)\n",
    "tot=tot*tot\n",
    "print(\"whole square of elements\",tot)\n",
    "\n",
    "\n",
    "diff=tot-total\n",
    "print(diff)"
   ]
  },
  {
   "cell_type": "code",
   "execution_count": 2,
   "id": "f1e5388b",
   "metadata": {},
   "outputs": [
    {
     "name": "stdout",
     "output_type": "stream",
     "text": [
      "2\n",
      "3\n",
      "22\n",
      "10\n",
      "2640\n"
     ]
    }
   ],
   "source": [
    "#3rd\n",
    "noi = int(input().strip())\n",
    "for i in range(noi):\n",
    "    n = int(input().strip())\n",
    "    A = n*(n + 1)*(2*(n) + 1)/6\n",
    "    B = n*(n+1)/2\n",
    "    C = B*B\n",
    "    print(int(C-A))"
   ]
  },
  {
   "cell_type": "code",
   "execution_count": 3,
   "id": "4e96a738",
   "metadata": {},
   "outputs": [
    {
     "name": "stdout",
     "output_type": "stream",
     "text": [
      "enter how many numbers you want to enter2\n",
      "enter the numbers5\n",
      "10\n",
      "enter the numbers10\n",
      "17\n"
     ]
    }
   ],
   "source": [
    "#4 sum of prime numbers\n",
    "n = int(input(\"enter how many numbers you want to enter\").strip())\n",
    "for i in range(n):\n",
    "    ip = int(input(\"enter the numbers\").strip())\n",
    "    def prime_numbers(ip):\n",
    "    \n",
    "        primes = []\n",
    "        for i in range(2, ip + 1):\n",
    "            for j in range(2, int(i ** 0.5) + 1):\n",
    "                if i%j == 0:\n",
    "                    break\n",
    "            else:\n",
    "                primes.append(i)\n",
    "        return primes\n",
    "\n",
    "    prime_list = prime_numbers(ip)\n",
    "    print(sum(prime_list))\n",
    "    "
   ]
  },
  {
   "cell_type": "code",
   "execution_count": 23,
   "id": "3e334ae2",
   "metadata": {},
   "outputs": [
    {
     "name": "stdout",
     "output_type": "stream",
     "text": [
      "enter number times to run2\n",
      "enter numbers 3\n",
      "6\n",
      "enter numbers 4\n",
      "12\n"
     ]
    }
   ],
   "source": [
    "#5 smaller multiple\n",
    "t = int(input(\"enter number times to run\"))\n",
    "for ip in range(t):\n",
    "    n = int(input(\"enter numbers \").strip())\n",
    "    num = 0\n",
    "    while True:\n",
    "        num = num+1\n",
    "        Output = True\n",
    "        for i in range(1, n + 1):\n",
    "            if num % i != 0:                                                             \n",
    "                Output = False\n",
    "                break\n",
    "        if Output:\n",
    "            break\n",
    "    print(num)"
   ]
  },
  {
   "cell_type": "code",
   "execution_count": 1,
   "id": "80201991",
   "metadata": {},
   "outputs": [
    {
     "name": "stdout",
     "output_type": "stream",
     "text": [
      "3\n"
     ]
    }
   ],
   "source": [
    "# check how many incorrect 'SOS'\n",
    "s=\"SOSSPSSQSSOR\"\n",
    "\n",
    "count = 0\n",
    "expected = \"SOS\" \n",
    "\n",
    "for i in range(len(s)):\n",
    "  if s[i] != expected[i % 3]:\n",
    "    count += 1\n",
    "\n",
    "print(count)"
   ]
  },
  {
   "cell_type": "code",
   "execution_count": 2,
   "id": "7ad325d5",
   "metadata": {},
   "outputs": [
    {
     "name": "stdout",
     "output_type": "stream",
     "text": [
      "2\n"
     ]
    }
   ],
   "source": [
    "# number of turns to find a page\n",
    "n=10\n",
    "p=5\n",
    "# Start from front\n",
    "front = p // 2 # // - takes whole value\n",
    "\n",
    "# Start from back\n",
    "back = (n//2) - (p//2)\n",
    "\n",
    "print(min(front,back))"
   ]
  },
  {
   "cell_type": "code",
   "execution_count": 3,
   "id": "f93ae877-2a38-4971-8ce8-884c459b5e40",
   "metadata": {},
   "outputs": [
    {
     "name": "stdin",
     "output_type": "stream",
     "text": [
      "enter the limit  3\n"
     ]
    },
    {
     "name": "stdout",
     "output_type": "stream",
     "text": [
      "Fibonacci sequence:\n",
      "1\n",
      "1\n",
      "2\n"
     ]
    }
   ],
   "source": [
    "#hacker rank euler problem-2\n",
    "inp = int(input(\"enter the limit \"))\n",
    "\n",
    "n1, n2 = 0, 1\n",
    "count = 0\n",
    "\n",
    "if inp <= 0:\n",
    "    print(\"positive number only \")\n",
    "elif inp == 1:\n",
    "    print(\"Fibonacci sequence upto\",inp,\":\")\n",
    "    print(n1)\n",
    "#fibonacci \n",
    "else:\n",
    "    print(\"Fibonacci sequence:\")\n",
    "    while count < inp:\n",
    "        #print(n1)\n",
    "        nth = n1 + n2\n",
    "        n1 = n2\n",
    "        n2 = nth\n",
    "        count += 1\n",
    "       # if(n1==0):\n",
    "        print(n1)\n",
    "       # else:\n",
    "        #    print(\"work done\")"
   ]
  },
  {
   "cell_type": "code",
   "execution_count": 7,
   "id": "c3e5568f-c024-478e-9e8f-648e38a2affe",
   "metadata": {},
   "outputs": [
    {
     "name": "stdin",
     "output_type": "stream",
     "text": [
      "enter the number 3\n"
     ]
    },
    {
     "name": "stdout",
     "output_type": "stream",
     "text": [
      "[1, 2, 3]\n",
      "Sum of square of  elements in given list:  14\n",
      "Sum of all elements in given list:  6\n",
      "whole square of elements 36\n",
      "22\n"
     ]
    }
   ],
   "source": [
    "#difference in squares\n",
    "n=int(input(\"enter the number\"))\n",
    "a = range(1,n+1)\n",
    "output = list(a)\n",
    "print(output)\n",
    "total = 0\n",
    "\n",
    "list1 = output\n",
    "\n",
    "for ele in range(0, len(list1)):\n",
    "    #sum of squares (1,4,9)\n",
    "    total = total + list1[ele]*list1[ele]\n",
    "\n",
    "print(\"Sum of square of  elements in given list: \", total)\n",
    "\n",
    "\n",
    "tot = 0\n",
    "\n",
    "for ele in range(0, len(list1)):\n",
    "    tot = tot + list1[ele]\n",
    "\n",
    "print(\"Sum of all elements in given list: \", tot)\n",
    "tot=tot*tot\n",
    "print(\"whole square of elements\",tot)\n",
    "\n",
    "\n",
    "diff=tot-total\n",
    "print(diff)"
   ]
  },
  {
   "cell_type": "code",
   "execution_count": 8,
   "id": "2768dea8-7d45-49c1-a0a3-580983f9574b",
   "metadata": {},
   "outputs": [
    {
     "name": "stdin",
     "output_type": "stream",
     "text": [
      " 2\n",
      " 2\n"
     ]
    },
    {
     "name": "stdout",
     "output_type": "stream",
     "text": [
      "4\n"
     ]
    },
    {
     "name": "stdin",
     "output_type": "stream",
     "text": [
      " 2\n"
     ]
    },
    {
     "name": "stdout",
     "output_type": "stream",
     "text": [
      "4\n"
     ]
    }
   ],
   "source": [
    "#3rd\n",
    "noi = int(input().strip())\n",
    "for i in range(noi):\n",
    "    n = int(input().strip())\n",
    "    A = n*(n + 1)*(2*(n) + 1)/6\n",
    "    B = n*(n+1)/2\n",
    "    C = B*B\n",
    "    print(int(C-A))"
   ]
  },
  {
   "cell_type": "code",
   "execution_count": 9,
   "id": "c53dd431-6352-44e4-9fc1-05514fb98c46",
   "metadata": {},
   "outputs": [
    {
     "name": "stdin",
     "output_type": "stream",
     "text": [
      "enter how many numbers you want to enter 6\n",
      "enter the numbers 5\n"
     ]
    },
    {
     "name": "stdout",
     "output_type": "stream",
     "text": [
      "10\n"
     ]
    },
    {
     "name": "stdin",
     "output_type": "stream",
     "text": [
      "enter the numbers 1\n"
     ]
    },
    {
     "name": "stdout",
     "output_type": "stream",
     "text": [
      "0\n"
     ]
    },
    {
     "name": "stdin",
     "output_type": "stream",
     "text": [
      "enter the numbers 2\n"
     ]
    },
    {
     "name": "stdout",
     "output_type": "stream",
     "text": [
      "2\n"
     ]
    },
    {
     "name": "stdin",
     "output_type": "stream",
     "text": [
      "enter the numbers 4\n"
     ]
    },
    {
     "name": "stdout",
     "output_type": "stream",
     "text": [
      "5\n"
     ]
    },
    {
     "name": "stdin",
     "output_type": "stream",
     "text": [
      "enter the numbers 5\n"
     ]
    },
    {
     "name": "stdout",
     "output_type": "stream",
     "text": [
      "10\n"
     ]
    },
    {
     "name": "stdin",
     "output_type": "stream",
     "text": [
      "enter the numbers 6\n"
     ]
    },
    {
     "name": "stdout",
     "output_type": "stream",
     "text": [
      "10\n"
     ]
    }
   ],
   "source": [
    "#4 sum of prime numbers\n",
    "n = int(input(\"enter how many numbers you want to enter\").strip())\n",
    "for i in range(n):\n",
    "    ip = int(input(\"enter the numbers\").strip())\n",
    "    def prime_numbers(ip):\n",
    "    \n",
    "        primes = []\n",
    "        for i in range(2, ip + 1):\n",
    "            for j in range(2, int(i ** 0.5) + 1):\n",
    "                if i%j == 0:\n",
    "                    break\n",
    "            else:\n",
    "                primes.append(i)\n",
    "        return primes\n",
    "\n",
    "    prime_list = prime_numbers(ip)\n",
    "    print(sum(prime_list))\n",
    "    "
   ]
  },
  {
   "cell_type": "code",
   "execution_count": 10,
   "id": "1ccd21bd-a666-49fd-a6e2-87dd91a52f9c",
   "metadata": {},
   "outputs": [
    {
     "name": "stdin",
     "output_type": "stream",
     "text": [
      "enter number times to run 2\n",
      "enter numbers  1\n"
     ]
    },
    {
     "name": "stdout",
     "output_type": "stream",
     "text": [
      "1\n"
     ]
    },
    {
     "name": "stdin",
     "output_type": "stream",
     "text": [
      "enter numbers  2\n"
     ]
    },
    {
     "name": "stdout",
     "output_type": "stream",
     "text": [
      "2\n"
     ]
    }
   ],
   "source": [
    "#5 smaller multiple\n",
    "t = int(input(\"enter number of times to run\"))\n",
    "for ip in range(t):\n",
    "    n = int(input(\"enter numbers \").strip())\n",
    "    num = 0\n",
    "    while True:\n",
    "        num = num+1\n",
    "        Output = True\n",
    "        for i in range(1, n + 1):\n",
    "            if num % i != 0:                                                             \n",
    "                Output = False\n",
    "                break\n",
    "        if Output:\n",
    "            break\n",
    "    print(num)"
   ]
  },
  {
   "cell_type": "code",
   "execution_count": 9,
   "id": "4379a2b8-3ec0-4904-854f-bdd6731d1795",
   "metadata": {},
   "outputs": [
    {
     "name": "stdin",
     "output_type": "stream",
     "text": [
      " 2\n",
      " 0\n"
     ]
    },
    {
     "name": "stdout",
     "output_type": "stream",
     "text": [
      "Error Code: not enough values to unpack (expected 2, got 1)\n"
     ]
    },
    {
     "name": "stdin",
     "output_type": "stream",
     "text": [
      " 2\n"
     ]
    },
    {
     "name": "stdout",
     "output_type": "stream",
     "text": [
      "Error Code: not enough values to unpack (expected 2, got 1)\n"
     ]
    }
   ],
   "source": [
    "t = int(input()) \n",
    "for _ in range(t):\n",
    "    try:\n",
    "        a, b = map(int, input().split())\n",
    "        print(a // b)  # Using floor division for integer division\n",
    "    except Exception as e:\n",
    "        print(\"Error Code:\",e)"
   ]
  },
  {
   "cell_type": "code",
   "execution_count": 10,
   "id": "bf6f1dc9-9ffb-441b-a91b-ab13a25c7e76",
   "metadata": {},
   "outputs": [
    {
     "name": "stdout",
     "output_type": "stream",
     "text": [
      "[[0, 1, 1], [1, 0, 1], [1, 1, 0]]\n"
     ]
    }
   ],
   "source": [
    "# list comprehenion\n",
    "result = [[i, j, k] for i in range(2) for j in range(2) for k in range(2) if i + j + k == 2]\n",
    "print(result)\n"
   ]
  },
  {
   "cell_type": "code",
   "execution_count": 14,
   "id": "454d188b-6b90-475a-b7bb-cab0170001cb",
   "metadata": {},
   "outputs": [
    {
     "name": "stdout",
     "output_type": "stream",
     "text": [
      "0 1 1\n",
      "1 0 1\n",
      "1 1 0\n"
     ]
    }
   ],
   "source": [
    "for i in range(2):\n",
    "    for j in range(2):\n",
    "        for k in range(2):\n",
    "            if i+j+k==2:\n",
    "                \n",
    "                print(i,j,k)"
   ]
  },
  {
   "cell_type": "code",
   "execution_count": 36,
   "id": "76d38c39-70a6-4540-8b91-f8e3bada9983",
   "metadata": {},
   "outputs": [
    {
     "name": "stdin",
     "output_type": "stream",
     "text": [
      " 10\n",
      " 161\n",
      " 182\n",
      " 161\n",
      " 154\n",
      " 176\n",
      " 170\n",
      " 167\n",
      " 171\n",
      " 170\n",
      " 174\n"
     ]
    },
    {
     "name": "stdout",
     "output_type": "stream",
     "text": [
      "Average is  168.6\n",
      "[161, 182, 161, 154, 176, 170, 167, 171, 170, 174]\n",
      "SUM is  1686\n"
     ]
    }
   ],
   "source": [
    "#### 161 182 161 154 176 170 167 171 170 174\n",
    "# set doesn't allow duplicate values\n",
    "n=int(input())\n",
    "lst=[]\n",
    "for i in range(n):\n",
    "    a=int(input())\n",
    "    lst.append(a)\n",
    "sum=0\n",
    "for x in lst:\n",
    "    sum=sum+x\n",
    "    avg=set(lst)\n",
    "avg=sum/len(lst)\n",
    "print(\"Average is \",avg)\n",
    "    \n",
    "print(lst)\n",
    "print(\"SUM is \",sum)"
   ]
  },
  {
   "cell_type": "code",
   "execution_count": 11,
   "id": "fed987de-ceef-41e1-915d-78c69bf56763",
   "metadata": {},
   "outputs": [
    {
     "name": "stdin",
     "output_type": "stream",
     "text": [
      " 1\n",
      " 2\n"
     ]
    },
    {
     "name": "stdout",
     "output_type": "stream",
     "text": [
      "6909455589863252355\n"
     ]
    }
   ],
   "source": [
    "# tuples\n",
    "n = int(input())\n",
    "integer_list = map(int, input().split())\n",
    "# map have (func,list of values)\n",
    "\n",
    "integer_list=tuple(integer_list)\n",
    "\n",
    "print(hash(integer_list));"
   ]
  },
  {
   "cell_type": "code",
   "execution_count": 50,
   "id": "9911beec-9a46-40cb-b708-dbcf738ca78f",
   "metadata": {},
   "outputs": [
    {
     "name": "stdin",
     "output_type": "stream",
     "text": [
      " 5\n",
      " 2\n",
      " 3\n",
      " 6\n",
      " 6\n",
      " 5\n"
     ]
    },
    {
     "name": "stdout",
     "output_type": "stream",
     "text": [
      "5\n"
     ]
    }
   ],
   "source": [
    "# Runner up\n",
    "lst=[]\n",
    "n = int(input())\n",
    "for i in range(n):\n",
    "    t=int(input())\n",
    "    lst.append(t)\n",
    "b=sorted(set(lst),reverse=True)\n",
    "print(b[1])"
   ]
  },
  {
   "cell_type": "code",
   "execution_count": null,
   "id": "730d5793-dd43-47a8-a8ae-11b98bea61f7",
   "metadata": {},
   "outputs": [],
   "source": []
  },
  {
   "cell_type": "code",
   "execution_count": null,
   "id": "10233511-12bb-4565-8d64-150de9e9c8a7",
   "metadata": {},
   "outputs": [],
   "source": []
  },
  {
   "cell_type": "code",
   "execution_count": null,
   "id": "518ee436-54ce-49c1-9d2b-51e298cc97a4",
   "metadata": {},
   "outputs": [],
   "source": []
  }
 ],
 "metadata": {
  "kernelspec": {
   "display_name": "Python 3 (ipykernel)",
   "language": "python",
   "name": "python3"
  },
  "language_info": {
   "codemirror_mode": {
    "name": "ipython",
    "version": 3
   },
   "file_extension": ".py",
   "mimetype": "text/x-python",
   "name": "python",
   "nbconvert_exporter": "python",
   "pygments_lexer": "ipython3",
   "version": "3.8.15"
  },
  "widgets": {
   "application/vnd.jupyter.widget-state+json": {
    "state": {},
    "version_major": 2,
    "version_minor": 0
   }
  }
 },
 "nbformat": 4,
 "nbformat_minor": 5
}
