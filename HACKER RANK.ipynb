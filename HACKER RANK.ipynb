{
 "cells": [
  {
   "cell_type": "code",
   "execution_count": 22,
   "id": "42a01fd0",
   "metadata": {},
   "outputs": [
    {
     "name": "stdout",
     "output_type": "stream",
     "text": [
      "enter the limit 5\n",
      "Fibonacci sequence:\n",
      "1\n",
      "1\n",
      "2\n",
      "3\n",
      "5\n"
     ]
    }
   ],
   "source": [
    "#hacker rank euler problem-2\n",
    "inp = int(input(\"enter the limit \"))\n",
    "\n",
    "n1, n2 = 0, 1\n",
    "count = 0\n",
    "\n",
    "if inp <= 0:\n",
    "    print(\"positive number only \")\n",
    "elif inp == 1:\n",
    "    print(\"Fibonacci sequence upto\",inp,\":\")\n",
    "    print(n1)\n",
    "#fibonacci \n",
    "else:\n",
    "    print(\"Fibonacci sequence:\")\n",
    "    while count < inp:\n",
    "        #print(n1)\n",
    "        nth = n1 + n2\n",
    "        n1 = n2\n",
    "        n2 = nth\n",
    "        count += 1\n",
    "       # if(n1==0):\n",
    "        print(n1)\n",
    "       # else:\n",
    "        #    print(\"work done\")"
   ]
  },
  {
   "cell_type": "code",
   "execution_count": null,
   "id": "2fc9b0a4",
   "metadata": {},
   "outputs": [],
   "source": []
  },
  {
   "cell_type": "code",
   "execution_count": 21,
   "id": "ba93e108",
   "metadata": {},
   "outputs": [
    {
     "name": "stdout",
     "output_type": "stream",
     "text": [
      "2\n",
      "10\n",
      "10\n",
      "100\n",
      "44\n"
     ]
    }
   ],
   "source": [
    "#sum of even fibonacci numbers\n",
    "n1 = 1\n",
    "n2 = 1\n",
    "fib = n1 + n2\n",
    "even = []\n",
    "question = int(input().strip())\n",
    "for i in range(question):\n",
    "    ip = int(input().strip())\n",
    "    while fib < ip:\n",
    "        even.append(fib) if fib % 2 == 0 else False\n",
    "        n1 = n2\n",
    "        n2 = fib\n",
    "        fib = n1 + n2\n",
    "    print(sum(even))"
   ]
  },
  {
   "cell_type": "code",
   "execution_count": 106,
   "id": "1d8f0165",
   "metadata": {},
   "outputs": [
    {
     "name": "stdout",
     "output_type": "stream",
     "text": [
      "enter the number3\n",
      "[1, 2, 3]\n",
      "Sum of square of  elements in given list:  14\n",
      "Sum of all elements in given list:  6\n",
      "whole square of elements 36\n",
      "22\n"
     ]
    }
   ],
   "source": [
    "#difference in squares\n",
    "n=int(input(\"enter the number\"))\n",
    "a = range(1,n+1)\n",
    "output = list(a)\n",
    "print(output)\n",
    "total = 0\n",
    "\n",
    "list1 = output\n",
    "\n",
    "for ele in range(0, len(list1)):\n",
    "    #sum of squares (1,4,9)\n",
    "    total = total + list1[ele]*list1[ele]\n",
    "\n",
    "print(\"Sum of square of  elements in given list: \", total)\n",
    "\n",
    "\n",
    "tot = 0\n",
    "\n",
    "for ele in range(0, len(list1)):\n",
    "    tot = tot + list1[ele]\n",
    "\n",
    "print(\"Sum of all elements in given list: \", tot)\n",
    "tot=tot*tot\n",
    "print(\"whole square of elements\",tot)\n",
    "\n",
    "\n",
    "diff=tot-total\n",
    "print(diff)"
   ]
  },
  {
   "cell_type": "code",
   "execution_count": 2,
   "id": "f1e5388b",
   "metadata": {},
   "outputs": [
    {
     "name": "stdout",
     "output_type": "stream",
     "text": [
      "2\n",
      "3\n",
      "22\n",
      "10\n",
      "2640\n"
     ]
    }
   ],
   "source": [
    "#3rd\n",
    "noi = int(input().strip())\n",
    "for i in range(noi):\n",
    "    n = int(input().strip())\n",
    "    A = n*(n + 1)*(2*(n) + 1)/6\n",
    "    B = n*(n+1)/2\n",
    "    C = B*B\n",
    "    print(int(C-A))"
   ]
  },
  {
   "cell_type": "code",
   "execution_count": 3,
   "id": "4e96a738",
   "metadata": {},
   "outputs": [
    {
     "name": "stdout",
     "output_type": "stream",
     "text": [
      "enter how many numbers you want to enter2\n",
      "enter the numbers5\n",
      "10\n",
      "enter the numbers10\n",
      "17\n"
     ]
    }
   ],
   "source": [
    "#4 sum of prime numbers\n",
    "n = int(input(\"enter how many numbers you want to enter\").strip())\n",
    "for i in range(n):\n",
    "    ip = int(input(\"enter the numbers\").strip())\n",
    "    def prime_numbers(ip):\n",
    "    \n",
    "        primes = []\n",
    "        for i in range(2, ip + 1):\n",
    "            for j in range(2, int(i ** 0.5) + 1):\n",
    "                if i%j == 0:\n",
    "                    break\n",
    "            else:\n",
    "                primes.append(i)\n",
    "        return primes\n",
    "\n",
    "    prime_list = prime_numbers(ip)\n",
    "    print(sum(prime_list))\n",
    "    "
   ]
  },
  {
   "cell_type": "code",
   "execution_count": 23,
   "id": "3e334ae2",
   "metadata": {},
   "outputs": [
    {
     "name": "stdout",
     "output_type": "stream",
     "text": [
      "enter number times to run2\n",
      "enter numbers 3\n",
      "6\n",
      "enter numbers 4\n",
      "12\n"
     ]
    }
   ],
   "source": [
    "#5 smaller multiple\n",
    "t = int(input(\"enter number times to run\"))\n",
    "for ip in range(t):\n",
    "    n = int(input(\"enter numbers \").strip())\n",
    "    num = 0\n",
    "    while True:\n",
    "        num = num+1\n",
    "        Output = True\n",
    "        for i in range(1, n + 1):\n",
    "            if num % i != 0:                                                             \n",
    "                Output = False\n",
    "                break\n",
    "        if Output:\n",
    "            break\n",
    "    print(num)"
   ]
  },
  {
   "cell_type": "code",
   "execution_count": 1,
   "id": "80201991",
   "metadata": {},
   "outputs": [
    {
     "name": "stdout",
     "output_type": "stream",
     "text": [
      "3\n"
     ]
    }
   ],
   "source": [
    "# check how many incorrect 'SOS'\n",
    "s=\"SOSSPSSQSSOR\"\n",
    "\n",
    "count = 0\n",
    "expected = \"SOS\" \n",
    "\n",
    "for i in range(len(s)):\n",
    "  if s[i] != expected[i % 3]:\n",
    "    count += 1\n",
    "\n",
    "print(count)"
   ]
  },
  {
   "cell_type": "code",
   "execution_count": 2,
   "id": "7ad325d5",
   "metadata": {},
   "outputs": [
    {
     "name": "stdout",
     "output_type": "stream",
     "text": [
      "2\n"
     ]
    }
   ],
   "source": [
    "# number of turns to find a page\n",
    "n=10\n",
    "p=5\n",
    "# Start from front\n",
    "front = p // 2 # // - takes whole value\n",
    "\n",
    "# Start from back\n",
    "back = (n//2) - (p//2)\n",
    "\n",
    "print(min(front,back))"
   ]
  },
  {
   "cell_type": "code",
   "execution_count": 3,
   "id": "f93ae877-2a38-4971-8ce8-884c459b5e40",
   "metadata": {},
   "outputs": [
    {
     "name": "stdin",
     "output_type": "stream",
     "text": [
      "enter the limit  3\n"
     ]
    },
    {
     "name": "stdout",
     "output_type": "stream",
     "text": [
      "Fibonacci sequence:\n",
      "1\n",
      "1\n",
      "2\n"
     ]
    }
   ],
   "source": [
    "#hacker rank euler problem-2\n",
    "inp = int(input(\"enter the limit \"))\n",
    "\n",
    "n1, n2 = 0, 1\n",
    "count = 0\n",
    "\n",
    "if inp <= 0:\n",
    "    print(\"positive number only \")\n",
    "elif inp == 1:\n",
    "    print(\"Fibonacci sequence upto\",inp,\":\")\n",
    "    print(n1)\n",
    "#fibonacci \n",
    "else:\n",
    "    print(\"Fibonacci sequence:\")\n",
    "    while count < inp:\n",
    "        #print(n1)\n",
    "        nth = n1 + n2\n",
    "        n1 = n2\n",
    "        n2 = nth\n",
    "        count += 1\n",
    "       # if(n1==0):\n",
    "        print(n1)\n",
    "       # else:\n",
    "        #    print(\"work done\")"
   ]
  },
  {
   "cell_type": "code",
   "execution_count": 7,
   "id": "c3e5568f-c024-478e-9e8f-648e38a2affe",
   "metadata": {},
   "outputs": [
    {
     "name": "stdin",
     "output_type": "stream",
     "text": [
      "enter the number 3\n"
     ]
    },
    {
     "name": "stdout",
     "output_type": "stream",
     "text": [
      "[1, 2, 3]\n",
      "Sum of square of  elements in given list:  14\n",
      "Sum of all elements in given list:  6\n",
      "whole square of elements 36\n",
      "22\n"
     ]
    }
   ],
   "source": [
    "#difference in squares\n",
    "n=int(input(\"enter the number\"))\n",
    "a = range(1,n+1)\n",
    "output = list(a)\n",
    "print(output)\n",
    "total = 0\n",
    "\n",
    "list1 = output\n",
    "\n",
    "for ele in range(0, len(list1)):\n",
    "    #sum of squares (1,4,9)\n",
    "    total = total + list1[ele]*list1[ele]\n",
    "\n",
    "print(\"Sum of square of  elements in given list: \", total)\n",
    "\n",
    "\n",
    "tot = 0\n",
    "\n",
    "for ele in range(0, len(list1)):\n",
    "    tot = tot + list1[ele]\n",
    "\n",
    "print(\"Sum of all elements in given list: \", tot)\n",
    "tot=tot*tot\n",
    "print(\"whole square of elements\",tot)\n",
    "\n",
    "\n",
    "diff=tot-total\n",
    "print(diff)"
   ]
  },
  {
   "cell_type": "code",
   "execution_count": 8,
   "id": "2768dea8-7d45-49c1-a0a3-580983f9574b",
   "metadata": {},
   "outputs": [
    {
     "name": "stdin",
     "output_type": "stream",
     "text": [
      " 2\n",
      " 2\n"
     ]
    },
    {
     "name": "stdout",
     "output_type": "stream",
     "text": [
      "4\n"
     ]
    },
    {
     "name": "stdin",
     "output_type": "stream",
     "text": [
      " 2\n"
     ]
    },
    {
     "name": "stdout",
     "output_type": "stream",
     "text": [
      "4\n"
     ]
    }
   ],
   "source": [
    "#3rd\n",
    "noi = int(input().strip())\n",
    "for i in range(noi):\n",
    "    n = int(input().strip())\n",
    "    A = n*(n + 1)*(2*(n) + 1)/6\n",
    "    B = n*(n+1)/2\n",
    "    C = B*B\n",
    "    print(int(C-A))"
   ]
  },
  {
   "cell_type": "code",
   "execution_count": 9,
   "id": "c53dd431-6352-44e4-9fc1-05514fb98c46",
   "metadata": {},
   "outputs": [
    {
     "name": "stdin",
     "output_type": "stream",
     "text": [
      "enter how many numbers you want to enter 6\n",
      "enter the numbers 5\n"
     ]
    },
    {
     "name": "stdout",
     "output_type": "stream",
     "text": [
      "10\n"
     ]
    },
    {
     "name": "stdin",
     "output_type": "stream",
     "text": [
      "enter the numbers 1\n"
     ]
    },
    {
     "name": "stdout",
     "output_type": "stream",
     "text": [
      "0\n"
     ]
    },
    {
     "name": "stdin",
     "output_type": "stream",
     "text": [
      "enter the numbers 2\n"
     ]
    },
    {
     "name": "stdout",
     "output_type": "stream",
     "text": [
      "2\n"
     ]
    },
    {
     "name": "stdin",
     "output_type": "stream",
     "text": [
      "enter the numbers 4\n"
     ]
    },
    {
     "name": "stdout",
     "output_type": "stream",
     "text": [
      "5\n"
     ]
    },
    {
     "name": "stdin",
     "output_type": "stream",
     "text": [
      "enter the numbers 5\n"
     ]
    },
    {
     "name": "stdout",
     "output_type": "stream",
     "text": [
      "10\n"
     ]
    },
    {
     "name": "stdin",
     "output_type": "stream",
     "text": [
      "enter the numbers 6\n"
     ]
    },
    {
     "name": "stdout",
     "output_type": "stream",
     "text": [
      "10\n"
     ]
    }
   ],
   "source": [
    "#4 sum of prime numbers\n",
    "n = int(input(\"enter how many numbers you want to enter\").strip())\n",
    "for i in range(n):\n",
    "    ip = int(input(\"enter the numbers\").strip())\n",
    "    def prime_numbers(ip):\n",
    "    \n",
    "        primes = []\n",
    "        for i in range(2, ip + 1):\n",
    "            for j in range(2, int(i ** 0.5) + 1):\n",
    "                if i%j == 0:\n",
    "                    break\n",
    "            else:\n",
    "                primes.append(i)\n",
    "        return primes\n",
    "\n",
    "    prime_list = prime_numbers(ip)\n",
    "    print(sum(prime_list))\n",
    "    "
   ]
  },
  {
   "cell_type": "code",
   "execution_count": 10,
   "id": "1ccd21bd-a666-49fd-a6e2-87dd91a52f9c",
   "metadata": {},
   "outputs": [
    {
     "name": "stdin",
     "output_type": "stream",
     "text": [
      "enter number times to run 2\n",
      "enter numbers  1\n"
     ]
    },
    {
     "name": "stdout",
     "output_type": "stream",
     "text": [
      "1\n"
     ]
    },
    {
     "name": "stdin",
     "output_type": "stream",
     "text": [
      "enter numbers  2\n"
     ]
    },
    {
     "name": "stdout",
     "output_type": "stream",
     "text": [
      "2\n"
     ]
    }
   ],
   "source": [
    "#5 smaller multiple\n",
    "t = int(input(\"enter number of times to run\"))\n",
    "for ip in range(t):\n",
    "    n = int(input(\"enter numbers \").strip())\n",
    "    num = 0\n",
    "    while True:\n",
    "        num = num+1\n",
    "        Output = True\n",
    "        for i in range(1, n + 1):\n",
    "            if num % i != 0:                                                             \n",
    "                Output = False\n",
    "                break\n",
    "        if Output:\n",
    "            break\n",
    "    print(num)"
   ]
  },
  {
   "cell_type": "code",
   "execution_count": 9,
   "id": "4379a2b8-3ec0-4904-854f-bdd6731d1795",
   "metadata": {},
   "outputs": [
    {
     "name": "stdin",
     "output_type": "stream",
     "text": [
      " 2\n",
      " 0\n"
     ]
    },
    {
     "name": "stdout",
     "output_type": "stream",
     "text": [
      "Error Code: not enough values to unpack (expected 2, got 1)\n"
     ]
    },
    {
     "name": "stdin",
     "output_type": "stream",
     "text": [
      " 2\n"
     ]
    },
    {
     "name": "stdout",
     "output_type": "stream",
     "text": [
      "Error Code: not enough values to unpack (expected 2, got 1)\n"
     ]
    }
   ],
   "source": [
    "t = int(input()) \n",
    "for _ in range(t):\n",
    "    try:\n",
    "        a, b = map(int, input().split())\n",
    "        print(a // b)  # Using floor division for integer division\n",
    "    except Exception as e:\n",
    "        print(\"Error Code:\",e)"
   ]
  },
  {
   "cell_type": "code",
   "execution_count": 10,
   "id": "bf6f1dc9-9ffb-441b-a91b-ab13a25c7e76",
   "metadata": {},
   "outputs": [
    {
     "name": "stdout",
     "output_type": "stream",
     "text": [
      "[[0, 1, 1], [1, 0, 1], [1, 1, 0]]\n"
     ]
    }
   ],
   "source": [
    "# list comprehenion\n",
    "result = [[i, j, k] for i in range(2) for j in range(2) for k in range(2) if i + j + k == 2]\n",
    "print(result)\n"
   ]
  },
  {
   "cell_type": "code",
   "execution_count": 14,
   "id": "454d188b-6b90-475a-b7bb-cab0170001cb",
   "metadata": {},
   "outputs": [
    {
     "name": "stdout",
     "output_type": "stream",
     "text": [
      "0 1 1\n",
      "1 0 1\n",
      "1 1 0\n"
     ]
    }
   ],
   "source": [
    "for i in range(2):\n",
    "    for j in range(2):\n",
    "        for k in range(2):\n",
    "            if i+j+k==2:\n",
    "                \n",
    "                print(i,j,k)"
   ]
  },
  {
   "cell_type": "code",
   "execution_count": 36,
   "id": "76d38c39-70a6-4540-8b91-f8e3bada9983",
   "metadata": {},
   "outputs": [
    {
     "name": "stdin",
     "output_type": "stream",
     "text": [
      " 10\n",
      " 161\n",
      " 182\n",
      " 161\n",
      " 154\n",
      " 176\n",
      " 170\n",
      " 167\n",
      " 171\n",
      " 170\n",
      " 174\n"
     ]
    },
    {
     "name": "stdout",
     "output_type": "stream",
     "text": [
      "Average is  168.6\n",
      "[161, 182, 161, 154, 176, 170, 167, 171, 170, 174]\n",
      "SUM is  1686\n"
     ]
    }
   ],
   "source": [
    "#### 161 182 161 154 176 170 167 171 170 174\n",
    "# set doesn't allow duplicate values\n",
    "n=int(input())\n",
    "lst=[]\n",
    "for i in range(n):\n",
    "    a=int(input())\n",
    "    lst.append(a)\n",
    "sum=0\n",
    "for x in lst:\n",
    "    sum=sum+x\n",
    "    avg=set(lst)\n",
    "avg=sum/len(lst)\n",
    "print(\"Average is \",avg)\n",
    "    \n",
    "print(lst)\n",
    "print(\"SUM is \",sum)"
   ]
  },
  {
   "cell_type": "code",
   "execution_count": 11,
   "id": "fed987de-ceef-41e1-915d-78c69bf56763",
   "metadata": {},
   "outputs": [
    {
     "name": "stdin",
     "output_type": "stream",
     "text": [
      " 1\n",
      " 2\n"
     ]
    },
    {
     "name": "stdout",
     "output_type": "stream",
     "text": [
      "6909455589863252355\n"
     ]
    }
   ],
   "source": [
    "# tuples\n",
    "n = int(input())\n",
    "integer_list = map(int, input().split())\n",
    "# map have (func,list of values)\n",
    "\n",
    "integer_list=tuple(integer_list)\n",
    "\n",
    "print(hash(integer_list));"
   ]
  },
  {
   "cell_type": "code",
   "execution_count": 50,
   "id": "9911beec-9a46-40cb-b708-dbcf738ca78f",
   "metadata": {},
   "outputs": [
    {
     "name": "stdin",
     "output_type": "stream",
     "text": [
      " 5\n",
      " 2\n",
      " 3\n",
      " 6\n",
      " 6\n",
      " 5\n"
     ]
    },
    {
     "name": "stdout",
     "output_type": "stream",
     "text": [
      "5\n"
     ]
    }
   ],
   "source": [
    "# Runner up\n",
    "lst=[]\n",
    "n = int(input())\n",
    "for i in range(n):\n",
    "    t=int(input())\n",
    "    lst.append(t)\n",
    "b=sorted(set(lst),reverse=True)\n",
    "print(b[1])"
   ]
  },
  {
   "cell_type": "code",
   "execution_count": 14,
   "id": "10233511-12bb-4565-8d64-150de9e9c8a7",
   "metadata": {},
   "outputs": [
    {
     "name": "stdin",
     "output_type": "stream",
     "text": [
      " sam 10 20 30\n"
     ]
    },
    {
     "data": {
      "text/plain": [
       "{'sam': [10.0, 20.0, 30.0]}"
      ]
     },
     "execution_count": 14,
     "metadata": {},
     "output_type": "execute_result"
    }
   ],
   "source": [
    "# finding the percentage\n",
    "n=1\n",
    "d={}\n",
    "for _ in range(n):\n",
    "    name, *line = input().split() # split takes when there is a space in the variable it will split that with an ',' to separate the values\n",
    "    # name is string and line is marks of each student\n",
    "    marks=list(map(float,line))\n",
    "    d[name]=marks # this will store the value like  ram 10,20,30 for all inputs.\n",
    "d   \n",
    "namei='sam'\n",
    "aa=list(d[namei])\n",
    "sum(aa)/len(aa)"
   ]
  },
  {
   "cell_type": "code",
   "execution_count": 10,
   "id": "5332de0f-2ec1-4326-8caa-b167a3772ba1",
   "metadata": {},
   "outputs": [
    {
     "name": "stdout",
     "output_type": "stream",
     "text": [
      "qwer\n",
      "tyui\n",
      "oplk\n",
      "jhgf\n"
     ]
    }
   ],
   "source": [
    "# # text wrap\n",
    "\n",
    "# a='qwertyuiop'\n",
    "# for i in range(0,len(a),4):\n",
    "#     print(a[i:i+4])\n",
    "\n",
    "import textwrap\n",
    "string=\"qwertyuioplkjhgf\"\n",
    "max_width=4\n",
    "wrapped_text = textwrap.wrap(string, width=max_width)\n",
    "for line in wrapped_text:\n",
    "    print(line)"
   ]
  },
  {
   "cell_type": "code",
   "execution_count": 9,
   "id": "62a8cc22-30f1-4be7-8e47-f202291f562f",
   "metadata": {},
   "outputs": [
    {
     "name": "stdin",
     "output_type": "stream",
     "text": [
      " 2\n",
      " NAME CLASS ID MARKS\n",
      " sam 8 1 100\n",
      " tom 9 2 100\n"
     ]
    },
    {
     "name": "stdout",
     "output_type": "stream",
     "text": [
      "100.0\n"
     ]
    }
   ],
   "source": [
    "# collections named tuple\n",
    "from collections import namedtuple\n",
    "n=int(input()) # total number of students\n",
    "fields=input().split() # getting column names from user\n",
    "tot=0\n",
    "\n",
    "for i in range(n):\n",
    "    stud = namedtuple('student',fields)\n",
    "    ID,MARKS,NAME,CLASS=input().split() # split - will use , in place of space\n",
    "    ss = stud(ID,MARKS, NAME,CLASS)\n",
    "\n",
    "    tot=tot+int(ss.MARKS)\n",
    "print(tot/n)"
   ]
  },
  {
   "cell_type": "code",
   "execution_count": 37,
   "id": "124119b7-f1f4-4506-98d7-a5a456f2b7fb",
   "metadata": {},
   "outputs": [
    {
     "name": "stdin",
     "output_type": "stream",
     "text": [
      " qwee\n",
      " 1 a\n"
     ]
    },
    {
     "name": "stdout",
     "output_type": "stream",
     "text": [
      "qaee\n"
     ]
    }
   ],
   "source": [
    "# mutations\n",
    "s = input()  # string\n",
    "i, c = input().split()  # i - position, c - replacing element\n",
    "li = list(s)\n",
    "li[int(i)]=c\n",
    "result = ''.join(li)\n",
    "print(result)"
   ]
  },
  {
   "cell_type": "code",
   "execution_count": 47,
   "id": "9317db9e-9932-4d69-b502-0e21bad59856",
   "metadata": {},
   "outputs": [
    {
     "name": "stdout",
     "output_type": "stream",
     "text": [
      "AM\n",
      "AR\n",
      "AU\n",
      "MA\n",
      "MR\n",
      "MU\n",
      "RA\n",
      "RM\n",
      "RU\n",
      "UA\n",
      "UM\n",
      "UR\n"
     ]
    }
   ],
   "source": [
    "# tertools.permutations()\n",
    "from itertools import permutations\n",
    "str1, int1 = 'RAMU',2\n",
    "\n",
    "for i in sorted(permutations(str1, int(int1))): # permutations used for combinations (takes 1st as the value then 2nd as each combination size) \n",
    "    print (''.join(i))\n",
    "\n",
    "    # from itertools import permutations\n",
    "# a=[1,2,3]\n",
    "# for i in permutations(a,2):\n",
    "#     print(i)"
   ]
  },
  {
   "cell_type": "code",
   "execution_count": 7,
   "id": "66a8dbe2-14c1-4455-8a95-9d3ff1d79ab5",
   "metadata": {},
   "outputs": [
    {
     "name": "stdin",
     "output_type": "stream",
     "text": [
      " 2\n",
      " india\n",
      " india\n"
     ]
    },
    {
     "name": "stdout",
     "output_type": "stream",
     "text": [
      "1\n"
     ]
    }
   ],
   "source": [
    "# Set.add()\n",
    "\n",
    "# count=input()\n",
    "# country=input().split()\n",
    "# s=set(country)\n",
    "# print(len(s))\n",
    "\n",
    "n = int(input())\n",
    "Country = set()\n",
    "for i in range(n):\n",
    "    Country.add(input())\n",
    "print(len(Country))"
   ]
  },
  {
   "cell_type": "code",
   "execution_count": 7,
   "id": "be988869-2a72-4833-981a-67102aedacd8",
   "metadata": {},
   "outputs": [
    {
     "name": "stdin",
     "output_type": "stream",
     "text": [
      " 2\n",
      " 1 2\n",
      " 2\n",
      " 1 3\n"
     ]
    },
    {
     "name": "stdout",
     "output_type": "stream",
     "text": [
      "4\n"
     ]
    }
   ],
   "source": [
    "# set union\n",
    "n,s1=input(),set(input().split())\n",
    "n,s2=input(),set(input().split())\n",
    "print(len(s1.union(s2)))"
   ]
  },
  {
   "cell_type": "code",
   "execution_count": null,
   "id": "dcfe2016-02cd-4f9f-8616-df9e2024e8b3",
   "metadata": {},
   "outputs": [],
   "source": [
    "# set difference\n",
    "n,s1=input(),set(input().split())\n",
    "n,s2=input(),set(input().split())\n",
    "print(len(s1.difference(s2)))"
   ]
  },
  {
   "cell_type": "code",
   "execution_count": null,
   "id": "f3251751-7ab2-4e80-a1d7-26f0d5c575cc",
   "metadata": {},
   "outputs": [],
   "source": [
    "# set symmentric_difference\n",
    "n,s1=input(),set(input().split())\n",
    "n,s2=input(),set(input().split())\n",
    "print(len(s1.symmetric_difference(s2)))"
   ]
  },
  {
   "cell_type": "code",
   "execution_count": 29,
   "id": "6f5973ca-b8ff-4a17-8b2e-4ef8be4c600b",
   "metadata": {},
   "outputs": [
    {
     "name": "stdin",
     "output_type": "stream",
     "text": [
      " HACK 2\n"
     ]
    },
    {
     "name": "stdout",
     "output_type": "stream",
     "text": [
      "('A', 'A')\n",
      "('A', 'C')\n",
      "('A', 'H')\n",
      "('A', 'K')\n",
      "('C', 'C')\n",
      "('C', 'H')\n",
      "('C', 'K')\n",
      "('H', 'H')\n",
      "('H', 'K')\n",
      "('K', 'K')\n"
     ]
    }
   ],
   "source": [
    "from itertools import combinations_with_replacement\n",
    "\n",
    "s, k = input().split()\n",
    "\n",
    "combinations = list(combinations_with_replacement(sorted(s), int(k)))\n",
    "\n",
    "# Unpacking tuple\n",
    "for x in combinations:\n",
    "    print(*x, sep='') # remove () and ''"
   ]
  },
  {
   "cell_type": "code",
   "execution_count": 37,
   "id": "031d87a6-e118-4d3c-ab6c-cd0d45cac8d8",
   "metadata": {},
   "outputs": [
    {
     "name": "stdin",
     "output_type": "stream",
     "text": [
      " 2\n",
      " 3\n",
      " 1 3 4\n",
      " 2\n",
      " 1 3\n"
     ]
    },
    {
     "name": "stdout",
     "output_type": "stream",
     "text": [
      "False\n"
     ]
    },
    {
     "name": "stdin",
     "output_type": "stream",
     "text": [
      " 3\n",
      " 1 2 3\n",
      " 4\n",
      " 1 2 3 4\n"
     ]
    },
    {
     "name": "stdout",
     "output_type": "stream",
     "text": [
      "True\n"
     ]
    }
   ],
   "source": [
    "# check A is subset of B\n",
    "for i in range(int(input())): # this input() -  used for number of test cases\n",
    "    setA,A=input(),set(input().split()) # this n input is for number of elements in 1st set, A - input of setA\n",
    "    setB,B=input(),set(input().split()) # this n input is for number of elements in 2nd set, B - input of setB\n",
    "    print(A.issubset(B))"
   ]
  },
  {
   "cell_type": "code",
   "execution_count": 17,
   "id": "7f151a6f-8646-47be-87cd-5f2bb4d34b0e",
   "metadata": {},
   "outputs": [
    {
     "name": "stdin",
     "output_type": "stream",
     "text": [
      " 1 4\n",
      " x**3*x**7\n"
     ]
    },
    {
     "name": "stdout",
     "output_type": "stream",
     "text": [
      "False\n"
     ]
    }
   ],
   "source": [
    "# input()\n",
    "x, k = map(int, input().split()) # a value and an result numer\n",
    "print(eval(input()) == k) # getting a expression like x**2+x**3 if that equals to result number True else false"
   ]
  },
  {
   "cell_type": "code",
   "execution_count": 21,
   "id": "7e0bf9e3-e452-4236-ac51-f758a3d67d43",
   "metadata": {},
   "outputs": [
    {
     "name": "stdin",
     "output_type": "stream",
     "text": [
      " print(2+3)\n"
     ]
    },
    {
     "name": "stdout",
     "output_type": "stream",
     "text": [
      "5\n"
     ]
    }
   ],
   "source": [
    "# evaluation\n",
    "from __future__ import print_function\n",
    "eval(input())"
   ]
  },
  {
   "cell_type": "code",
   "execution_count": 22,
   "id": "72a4e7db-3afc-4f55-bbea-b470422e8a14",
   "metadata": {},
   "outputs": [
    {
     "name": "stdin",
     "output_type": "stream",
     "text": [
      " 1 2\n",
      " 3 4\n"
     ]
    },
    {
     "name": "stdout",
     "output_type": "stream",
     "text": [
      "(1, 3) (1, 4) (2, 3) (2, 4)\n"
     ]
    }
   ],
   "source": [
    "# itertools.product\n",
    "from itertools import product\n",
    "\n",
    "A=list(map(int,input().split()))\n",
    "B=list(map(int,input().split()))\n",
    "\n",
    "C = product(A,B)\n",
    "\n",
    "print(*C)"
   ]
  },
  {
   "cell_type": "code",
   "execution_count": 1,
   "id": "025caa48-d8d4-4ea0-9ac6-88e2cf520a91",
   "metadata": {},
   "outputs": [
    {
     "name": "stdin",
     "output_type": "stream",
     "text": [
      " 2\n",
      " 1 2\n",
      " 1\n",
      " update 2\n",
      " 10 20\n"
     ]
    },
    {
     "name": "stdout",
     "output_type": "stream",
     "text": [
      "33\n"
     ]
    }
   ],
   "source": [
    "# set mutations\n",
    "\n",
    "length = int(input()) # 1st set input\n",
    "initial_set = set(map(int, input().split())) # 1st set elements\n",
    "\n",
    "num_operations = int(input()) # number of op to perform like intersection,update,diff\n",
    "\n",
    "for _ in range(num_operations):\n",
    "    operation, *args = input().split() # assigns the first word(op) to the operation and the rest of the \n",
    "    # elements('how many elements you are going to do the op') to args That is why *args used\n",
    "    new_set = set(map(int, input().split())) # input for elements of new set\n",
    "\n",
    "    if operation == 'intersection_update':\n",
    "        initial_set.intersection_update(new_set)\n",
    "    elif operation == 'update':\n",
    "        initial_set.update(new_set)\n",
    "    elif operation == 'symmetric_difference_update':\n",
    "        initial_set.symmetric_difference_update(new_set)\n",
    "    elif operation == 'difference_update':\n",
    "        initial_set.difference_update(new_set)\n",
    "print(sum(initial_set)) # result combined of 2 sets initial and final sets.\n"
   ]
  },
  {
   "cell_type": "code",
   "execution_count": 7,
   "id": "3bfee9c8-5db1-4151-b431-953858ed5e76",
   "metadata": {},
   "outputs": [
    {
     "name": "stdin",
     "output_type": "stream",
     "text": [
      " 2 2\n",
      " 100 200\n",
      " 300 400\n"
     ]
    },
    {
     "name": "stdout",
     "output_type": "stream",
     "text": [
      "([100.0, 200.0],) ([300.0, 400.0],)\n"
     ]
    }
   ],
   "source": [
    "# zipped\n",
    "n,m=map(int,input().split()) # n - number of columns, m - number of rows\n",
    "marks=[]\n",
    "for i in range(n):\n",
    "    mark_l=list(map(float,input().split()))\n",
    "    marks.append(mark_l)\n",
    "scores=list(zip(marks))\n",
    "for i in scores:\n",
    "    print(sum(i[0])/len(scores))"
   ]
  },
  {
   "cell_type": "code",
   "execution_count": 2,
   "id": "f57a937b-1b23-4d7d-b7f6-c6494d4ddbb0",
   "metadata": {},
   "outputs": [
    {
     "name": "stdin",
     "output_type": "stream",
     "text": [
      " 2\n",
      " shampoo 10\n",
      " shampoo 10\n"
     ]
    },
    {
     "name": "stdout",
     "output_type": "stream",
     "text": [
      "shampoo 20\n"
     ]
    }
   ],
   "source": [
    "# collections .orderedlist\n",
    "from collections import OrderedDict\n",
    "dict=OrderedDict()\n",
    "items=int(input()) # number of items to display\n",
    "for i in range(items):\n",
    "    n,p=input().split()\n",
    "    dict[n] = dict.get(n, 0) + int(p)\n",
    "for n, p in dict.items():\n",
    "    print(n,p)"
   ]
  },
  {
   "cell_type": "code",
   "execution_count": 9,
   "id": "56fa3e83-6b8c-4bc9-beb8-15907f5c5bd3",
   "metadata": {},
   "outputs": [
    {
     "name": "stdin",
     "output_type": "stream",
     "text": [
      " 13\n"
     ]
    },
    {
     "name": "stdout",
     "output_type": "stream",
     "text": [
      "yes\n"
     ]
    }
   ],
   "source": [
    "# code chef 1st\n",
    "n=int(input()) # total points of a given team in group stage\n",
    "if n>=12:\n",
    "    print('yes')\n",
    "else:\n",
    "    print('no')"
   ]
  },
  {
   "cell_type": "code",
   "execution_count": 18,
   "id": "56d4e2ef-ece8-4939-a98e-72a7f52a4915",
   "metadata": {},
   "outputs": [
    {
     "name": "stdin",
     "output_type": "stream",
     "text": [
      " 2\n",
      " 1\n",
      " 3\n"
     ]
    },
    {
     "name": "stdout",
     "output_type": "stream",
     "text": [
      "[24000, 72000]\n"
     ]
    }
   ],
   "source": [
    "# code chef 2nd\n",
    "t = int(input())  # number of test cases\n",
    "w = 1000  # each frame has 1000 words\n",
    "frames = 24\n",
    "lst = []\n",
    "\n",
    "for i in range(t):\n",
    "    cases = int(input())  # Convert input to an integer\n",
    "    result = cases * frames * w\n",
    "    lst.append(result)\n",
    "\n",
    "print(lst)\n"
   ]
  },
  {
   "cell_type": "code",
   "execution_count": 21,
   "id": "ef46a4df-45d5-4f71-b024-6988b628fa32",
   "metadata": {},
   "outputs": [
    {
     "name": "stdin",
     "output_type": "stream",
     "text": [
      " 2\n",
      " 1 2\n",
      " 3 4\n"
     ]
    },
    {
     "name": "stdout",
     "output_type": "stream",
     "text": [
      "<map object at 0x000001533D381FD0>\n"
     ]
    }
   ],
   "source": [
    "# code chef 3\n",
    "t = int(input())\n",
    "for _ in range(t):\n",
    "    m, n = map(int, input().split())\n",
    "    mini = max(m, n) * 2 - 1\n",
    "    print(mini)"
   ]
  },
  {
   "cell_type": "code",
   "execution_count": 27,
   "id": "a01d58da-e5ee-4592-a659-8246a7666c58",
   "metadata": {},
   "outputs": [
    {
     "name": "stdin",
     "output_type": "stream",
     "text": [
      " 2\n",
      " 1 2\n",
      " 3 4 5 6\n",
      " 7 8 9 10\n",
      " 1 2\n",
      " 1\n",
      " 2\n"
     ]
    }
   ],
   "source": [
    "# code chef 4\n",
    "t = int(input())\n",
    "test_cases = []\n",
    "for _ in range(t):\n",
    "    n, d = map(int, input().split())\n",
    "    b_values = list(map(int, input().split()))\n",
    "    c_values = list(map(int, input().split()))\n",
    "    test_cases.append(((n, d), b_values, c_values))\n"
   ]
  },
  {
   "cell_type": "code",
   "execution_count": null,
   "id": "d860b76a-cea1-46fa-80d6-6c48df0524e1",
   "metadata": {},
   "outputs": [],
   "source": []
  },
  {
   "cell_type": "code",
   "execution_count": null,
   "id": "9d30dc97-982d-47c9-82c8-cbf74e3ec5c1",
   "metadata": {},
   "outputs": [],
   "source": [
    "#### # 4 4 0 1 ans is 4 4 5 3\n",
    "\n",
    "t = int(input())\n",
    "\n",
    "for _ in range(t):\n",
    "    no_of_arr = int(input())\n",
    "\n",
    "    for _ in range(no_of_arr):\n",
    "        a = list(map(int, input().split()))\n",
    "        lst = []\n",
    "\n",
    "        # Use range(len(a) - 2) to avoid index out of range error\n",
    "        for i in range(len(a) - 2):\n",
    "            lst.append(a[i] + a[i + 2])\n",
    "            lst.append(a[i + 1] + a[i + 2])\n",
    "\n",
    "        # Add the last two elements\n",
    "        if len(a) >= 2:\n",
    "            lst.append(a[-2] + a[-1])\n",
    "\n",
    "        print(lst)\n",
    "        break\n",
    "    break\n",
    "    \n"
   ]
  },
  {
   "cell_type": "code",
   "execution_count": null,
   "id": "d1d5d734-97ba-403a-a30b-5d68c9cd8a3c",
   "metadata": {},
   "outputs": [],
   "source": []
  }
 ],
 "metadata": {
  "kernelspec": {
   "display_name": "Python 3 (ipykernel)",
   "language": "python",
   "name": "python3"
  },
  "language_info": {
   "codemirror_mode": {
    "name": "ipython",
    "version": 3
   },
   "file_extension": ".py",
   "mimetype": "text/x-python",
   "name": "python",
   "nbconvert_exporter": "python",
   "pygments_lexer": "ipython3",
   "version": "3.9.18"
  },
  "widgets": {
   "application/vnd.jupyter.widget-state+json": {
    "state": {},
    "version_major": 2,
    "version_minor": 0
   }
  }
 },
 "nbformat": 4,
 "nbformat_minor": 5
}
