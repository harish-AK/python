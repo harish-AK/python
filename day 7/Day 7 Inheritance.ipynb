{
 "cells": [
  {
   "cell_type": "code",
   "execution_count": 3,
   "metadata": {},
   "outputs": [
    {
     "name": "stdout",
     "output_type": "stream",
     "text": [
      "harvy\n"
     ]
    },
    {
     "ename": "AttributeError",
     "evalue": "type object 'B' has no attribute 'sample1'",
     "output_type": "error",
     "traceback": [
      "\u001b[1;31m---------------------------------------------------------------------------\u001b[0m",
      "\u001b[1;31mAttributeError\u001b[0m                            Traceback (most recent call last)",
      "\u001b[1;32m<ipython-input-3-4490dc7a2408>\u001b[0m in \u001b[0;36m<module>\u001b[1;34m\u001b[0m\n\u001b[0;32m      9\u001b[0m \u001b[1;33m\u001b[0m\u001b[0m\n\u001b[0;32m     10\u001b[0m \u001b[0mB\u001b[0m\u001b[1;33m.\u001b[0m\u001b[0msample2\u001b[0m\u001b[1;33m(\u001b[0m\u001b[1;33m)\u001b[0m\u001b[1;33m\u001b[0m\u001b[1;33m\u001b[0m\u001b[0m\n\u001b[1;32m---> 11\u001b[1;33m \u001b[0mB\u001b[0m\u001b[1;33m.\u001b[0m\u001b[0msample1\u001b[0m\u001b[1;33m(\u001b[0m\u001b[1;33m)\u001b[0m\u001b[1;33m\u001b[0m\u001b[1;33m\u001b[0m\u001b[0m\n\u001b[0m",
      "\u001b[1;31mAttributeError\u001b[0m: type object 'B' has no attribute 'sample1'"
     ]
    }
   ],
   "source": [
    "class A:\n",
    "    def sample1():\n",
    "        print(\"gordan\")\n",
    "        \n",
    "class B:\n",
    "    def sample2():\n",
    "        print(\"harvy\")\n",
    "        \n",
    "\n",
    "B.sample2()\n",
    "B.sample1()"
   ]
  },
  {
   "cell_type": "code",
   "execution_count": 5,
   "metadata": {},
   "outputs": [
    {
     "name": "stdout",
     "output_type": "stream",
     "text": [
      "gordan\n",
      "harvy\n"
     ]
    }
   ],
   "source": [
    "class A:\n",
    "    def sample1():\n",
    "        print(\"gordan\")\n",
    "        \n",
    "class B(A):\n",
    "    def sample2():\n",
    "        print(\"harvy\")\n",
    "        \n",
    "B.sample1()\n",
    "B.sample2()"
   ]
  },
  {
   "cell_type": "code",
   "execution_count": 8,
   "metadata": {},
   "outputs": [
    {
     "name": "stdout",
     "output_type": "stream",
     "text": [
      "sample1\n",
      "Sample2\n",
      "Sample3\n"
     ]
    }
   ],
   "source": [
    "class A:  #parent class or base class\n",
    "    def sample1():\n",
    "        print(\"sample1\")\n",
    "        \n",
    "class B: #Child class or derived class\n",
    "    def sample2():\n",
    "        print(\"Sample2\")\n",
    "        \n",
    "class C(A,B):#multiple inheritance\n",
    "    def sample3():\n",
    "        print(\"Sample3\")\n",
    "        \n",
    "C.sample1()\n",
    "C.sample2()\n",
    "C.sample3()"
   ]
  },
  {
   "cell_type": "code",
   "execution_count": 26,
   "metadata": {},
   "outputs": [
    {
     "name": "stdout",
     "output_type": "stream",
     "text": [
      "class B init\n"
     ]
    }
   ],
   "source": [
    "class A:  #parent class or base class\n",
    "    def __init__(self):\n",
    "        print(\"class A init\")\n",
    "    def sample1():\n",
    "        print(\"sample1\")\n",
    "        \n",
    "class B(A): #Child class or derived class\n",
    "    def __init__(self):\n",
    "        print(\"class B init\")\n",
    "    def sample2():\n",
    "        print(\"Sample2\")\n",
    "        \n",
    "        \n",
    "a1 = B()"
   ]
  },
  {
   "cell_type": "code",
   "execution_count": 29,
   "metadata": {},
   "outputs": [
    {
     "name": "stdout",
     "output_type": "stream",
     "text": [
      "class B init\n"
     ]
    }
   ],
   "source": [
    "class A:  #parent class or base class\n",
    "    def __init__(self):\n",
    "        print(\"class A init\")\n",
    "    def sample1():\n",
    "        print(\"sample1\")\n",
    "        \n",
    "class B(A): #Child class or derived class\n",
    "    def __init__(self):\n",
    "        print(\"class B init\")\n",
    "    def sample2():\n",
    "        print(\"Sample2\")\n",
    "        \n",
    "b1 = B()"
   ]
  },
  {
   "cell_type": "code",
   "execution_count": 30,
   "metadata": {},
   "outputs": [
    {
     "name": "stdout",
     "output_type": "stream",
     "text": [
      "class A init\n",
      "class B init\n"
     ]
    }
   ],
   "source": [
    "class A:  #parent class or base class\n",
    "    def __init__(self):\n",
    "        print(\"class A init\")\n",
    "        \n",
    "    def sample1():\n",
    "        print(\"sample1\")\n",
    "        \n",
    "class B(A): #Child class or derived class\n",
    "    def __init__(self):\n",
    "        super().__init__() #access the class A\n",
    "        print(\"class B init\")\n",
    "        \n",
    "    def sample2():\n",
    "        print(\"Sample2\")\n",
    "        \n",
    "b1 = B() #constructor object"
   ]
  },
  {
   "cell_type": "code",
   "execution_count": 17,
   "metadata": {},
   "outputs": [
    {
     "name": "stdout",
     "output_type": "stream",
     "text": [
      "class C init\n"
     ]
    }
   ],
   "source": [
    "class A:  #parent class or base class\n",
    "    def __init__(self):\n",
    "        print(\"class A init\")\n",
    "    def sample1():\n",
    "        print(\"sample1\")\n",
    "        \n",
    "class B: #Child class or derived class\n",
    "    def __init__(self):\n",
    "        print(\"class B init\")\n",
    "    def sample2():\n",
    "        print(\"Sample2\")\n",
    "        \n",
    "class C(A,B):\n",
    "    def __init__(self):\n",
    "         print(\"class C init\")\n",
    "    def sample3():\n",
    "        print(\"Sample3\")\n",
    "\n",
    "c1 = C()"
   ]
  },
  {
   "cell_type": "code",
   "execution_count": 35,
   "metadata": {},
   "outputs": [
    {
     "ename": "TypeError",
     "evalue": "__init__() takes 1 positional argument but 2 were given",
     "output_type": "error",
     "traceback": [
      "\u001b[1;31m---------------------------------------------------------------------------\u001b[0m",
      "\u001b[1;31mTypeError\u001b[0m                                 Traceback (most recent call last)",
      "\u001b[1;32m<ipython-input-35-0c0056c6ea3c>\u001b[0m in \u001b[0;36m<module>\u001b[1;34m\u001b[0m\n\u001b[0;32m     16\u001b[0m         \u001b[0mprint\u001b[0m\u001b[1;33m(\u001b[0m\u001b[1;34m\"class C init\"\u001b[0m\u001b[1;33m)\u001b[0m\u001b[1;33m\u001b[0m\u001b[1;33m\u001b[0m\u001b[0m\n\u001b[0;32m     17\u001b[0m \u001b[1;33m\u001b[0m\u001b[0m\n\u001b[1;32m---> 18\u001b[1;33m \u001b[0mc1\u001b[0m \u001b[1;33m=\u001b[0m \u001b[0mC\u001b[0m\u001b[1;33m(\u001b[0m\u001b[1;33m)\u001b[0m\u001b[1;33m\u001b[0m\u001b[1;33m\u001b[0m\u001b[0m\n\u001b[0m\u001b[0;32m     19\u001b[0m \u001b[0mc1\u001b[0m\u001b[1;33m.\u001b[0m\u001b[0msample1\u001b[0m\u001b[1;33m(\u001b[0m\u001b[1;33m)\u001b[0m\u001b[1;33m\u001b[0m\u001b[1;33m\u001b[0m\u001b[0m\n",
      "\u001b[1;32m<ipython-input-35-0c0056c6ea3c>\u001b[0m in \u001b[0;36m__init__\u001b[1;34m(self)\u001b[0m\n\u001b[0;32m     13\u001b[0m \u001b[1;32mclass\u001b[0m \u001b[0mC\u001b[0m\u001b[1;33m(\u001b[0m\u001b[0mA\u001b[0m\u001b[1;33m,\u001b[0m\u001b[0mB\u001b[0m\u001b[1;33m)\u001b[0m\u001b[1;33m:\u001b[0m\u001b[1;33m\u001b[0m\u001b[1;33m\u001b[0m\u001b[0m\n\u001b[0;32m     14\u001b[0m     \u001b[1;32mdef\u001b[0m \u001b[0m__init__\u001b[0m\u001b[1;33m(\u001b[0m\u001b[0mself\u001b[0m\u001b[1;33m)\u001b[0m\u001b[1;33m:\u001b[0m\u001b[1;33m\u001b[0m\u001b[1;33m\u001b[0m\u001b[0m\n\u001b[1;32m---> 15\u001b[1;33m         \u001b[0msuper\u001b[0m\u001b[1;33m(\u001b[0m\u001b[1;33m)\u001b[0m\u001b[1;33m.\u001b[0m\u001b[0m__init__\u001b[0m\u001b[1;33m(\u001b[0m\u001b[0mself\u001b[0m\u001b[1;33m)\u001b[0m\u001b[1;33m\u001b[0m\u001b[1;33m\u001b[0m\u001b[0m\n\u001b[0m\u001b[0;32m     16\u001b[0m         \u001b[0mprint\u001b[0m\u001b[1;33m(\u001b[0m\u001b[1;34m\"class C init\"\u001b[0m\u001b[1;33m)\u001b[0m\u001b[1;33m\u001b[0m\u001b[1;33m\u001b[0m\u001b[0m\n\u001b[0;32m     17\u001b[0m \u001b[1;33m\u001b[0m\u001b[0m\n",
      "\u001b[1;31mTypeError\u001b[0m: __init__() takes 1 positional argument but 2 were given"
     ]
    }
   ],
   "source": []
  },
  {
   "cell_type": "code",
   "execution_count": 36,
   "metadata": {},
   "outputs": [
    {
     "name": "stdout",
     "output_type": "stream",
     "text": [
      "sample1\n",
      "Sample2\n",
      "Sample3\n"
     ]
    }
   ],
   "source": [
    "class A:  #parent class or base class\n",
    "    def sample1():\n",
    "        print(\"sample1\")\n",
    "        \n",
    "class B(A): #Child class or derived class\n",
    "    def sample2():\n",
    "        print(\"Sample2\")\n",
    "        \n",
    "class C(B):\n",
    "    def sample3():\n",
    "        print(\"Sample3\")\n",
    "        \n",
    "C.sample1()\n",
    "C.sample2()\n",
    "C.sample3()"
   ]
  },
  {
   "cell_type": "code",
   "execution_count": 37,
   "metadata": {},
   "outputs": [],
   "source": [
    "class A:  #parent class or base class\n",
    "    def sample1():\n",
    "        print(\"sample1\")\n",
    "        \n",
    "class B(A): #Child class or derived class\n",
    "    def sample2():\n",
    "        print(\"Sample2\")\n",
    "        "
   ]
  },
  {
   "cell_type": "code",
   "execution_count": 38,
   "metadata": {},
   "outputs": [
    {
     "data": {
      "text/plain": [
       "9"
      ]
     },
     "execution_count": 38,
     "metadata": {},
     "output_type": "execute_result"
    }
   ],
   "source": [
    "5+4"
   ]
  },
  {
   "cell_type": "code",
   "execution_count": 40,
   "metadata": {},
   "outputs": [
    {
     "data": {
      "text/plain": [
       "9"
      ]
     },
     "execution_count": 40,
     "metadata": {},
     "output_type": "execute_result"
    }
   ],
   "source": [
    "(5).__add__(4)"
   ]
  },
  {
   "cell_type": "code",
   "execution_count": 41,
   "metadata": {},
   "outputs": [
    {
     "data": {
      "text/plain": [
       "1"
      ]
     },
     "execution_count": 41,
     "metadata": {},
     "output_type": "execute_result"
    }
   ],
   "source": [
    "(5).__sub__(4)"
   ]
  },
  {
   "cell_type": "code",
   "execution_count": 45,
   "metadata": {},
   "outputs": [
    {
     "name": "stdout",
     "output_type": "stream",
     "text": [
      "The method Walk here is overridden in the code\n",
      "Hello, I am the child class\n",
      "Hello, I am the parent class\n"
     ]
    }
   ],
   "source": [
    "class Animal:\n",
    "    def Walk(self):\n",
    "        print('Hello, I am the parent class')\n",
    "\n",
    "class Dog(Animal):\n",
    "    def Walk(self):\n",
    "        print('Hello, I am the child class')\n",
    "        \n",
    "print('The method Walk here is overridden in the code')\n",
    "\n",
    "#Invoking Child class through object r\n",
    "\n",
    "r = Dog()\n",
    "r.Walk()\n",
    "\n",
    "#Invoking Parent class through object r\n",
    "\n",
    "r = Animal()\n",
    "r.Walk()"
   ]
  },
  {
   "cell_type": "code",
   "execution_count": null,
   "metadata": {},
   "outputs": [],
   "source": []
  }
 ],
 "metadata": {
  "kernelspec": {
   "display_name": "Python 3",
   "language": "python",
   "name": "python3"
  },
  "language_info": {
   "codemirror_mode": {
    "name": "ipython",
    "version": 3
   },
   "file_extension": ".py",
   "mimetype": "text/x-python",
   "name": "python",
   "nbconvert_exporter": "python",
   "pygments_lexer": "ipython3",
   "version": "3.8.8"
  }
 },
 "nbformat": 4,
 "nbformat_minor": 4
}
