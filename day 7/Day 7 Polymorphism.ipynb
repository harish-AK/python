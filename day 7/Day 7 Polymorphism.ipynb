{
 "cells": [
  {
   "cell_type": "markdown",
   "metadata": {},
   "source": [
    "## Polymorphism\n",
    "\n",
    "### the ability to leverage the same interface for different underlying forms such as data types or classes "
   ]
  },
  {
   "cell_type": "code",
   "execution_count": 9,
   "metadata": {},
   "outputs": [
    {
     "name": "stdout",
     "output_type": "stream",
     "text": [
      "I am new to college. My name is Josh, my age 18 and my department AI\n",
      "Hi, I am your Professor. My name is Danie, age 27 and subject AI\n"
     ]
    }
   ],
   "source": [
    "class Student:\n",
    "    def __init__(self, name, age,dept):\n",
    "        self.name = name\n",
    "        self.age = age\n",
    "        self.dept = dept        \n",
    "    def info(self):\n",
    "        print(f\"I am new to college. My name is {self.name}, my age {self.age} and my department {self.dept}\")\n",
    "        \n",
    "class Staff:\n",
    "    def __init__(self, name, age, subject):\n",
    "        self.name = name\n",
    "        self.age = age\n",
    "        self.subject = subject\n",
    "        \n",
    "    def info(self):\n",
    "        print(f\"Hi, I am your Professor. My name is {self.name}, age {self.age} and subject {self.subject}\")\n",
    "        \n",
    "        \n",
    "Stud = Student('Josh', 18, \"AI\")\n",
    "Staf = Staff('Danie', 27, \"AI\")\n",
    "\n",
    "for college in (Stud, Staf):\n",
    "    college.info()"
   ]
  },
  {
   "cell_type": "code",
   "execution_count": null,
   "metadata": {},
   "outputs": [],
   "source": []
  }
 ],
 "metadata": {
  "kernelspec": {
   "display_name": "Python 3",
   "language": "python",
   "name": "python3"
  },
  "language_info": {
   "codemirror_mode": {
    "name": "ipython",
    "version": 3
   },
   "file_extension": ".py",
   "mimetype": "text/x-python",
   "name": "python",
   "nbconvert_exporter": "python",
   "pygments_lexer": "ipython3",
   "version": "3.7.6"
  }
 },
 "nbformat": 4,
 "nbformat_minor": 4
}
