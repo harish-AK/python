{
 "cells": [
  {
   "cell_type": "code",
   "execution_count": 22,
   "id": "42a01fd0",
   "metadata": {},
   "outputs": [
    {
     "name": "stdout",
     "output_type": "stream",
     "text": [
      "enter the limit 5\n",
      "Fibonacci sequence:\n",
      "1\n",
      "1\n",
      "2\n",
      "3\n",
      "5\n"
     ]
    }
   ],
   "source": [
    "#hacker rank euler problem-2\n",
    "inp = int(input(\"enter the limit \"))\n",
    "\n",
    "n1, n2 = 0, 1 \n",
    "count = 0\n",
    "\n",
    "if inp <= 0: \n",
    "    print(\"positive number only \")               \n",
    "elif inp == 1:   \n",
    "    print(\"Fibonacci sequence upto\",inp,\":\")\n",
    "    print(n1)\n",
    "#fibonacci  \n",
    "else:\n",
    "    print(\"Fibonacci sequence:\")\n",
    "    while count < inp:\n",
    "        #print(n1)\n",
    "        nth = n1 + n2\n",
    "        n1 = n2\n",
    "        n2 = nth\n",
    "        count += 1\n",
    "       # if(n1==0):\n",
    "        print(n1)\n",
    "       # else:\n",
    "        #    print(\"work done\")"
   ]
  },
  {
   "cell_type": "code",
   "execution_count": null,
   "id": "2fc9b0a4",
   "metadata": {},
   "outputs": [],
   "source": []
  },
  {
   "cell_type": "code",
   "execution_count": 21,
   "id": "ba93e108",
   "metadata": {},
   "outputs": [
    {
     "name": "stdout",
     "output_type": "stream",
     "text": [
      "2\n",
      "10\n",
      "10\n",
      "100\n",
      "44\n"
     ]
    }
   ],
   "source": [
    "#sum of even fibonacci numbers\n",
    "n1 = 1\n",
    "n2 = 1\n",
    "fib = n1 + n2\n",
    "even = []\n",
    "question = int(input().strip())\n",
    "for i in range(question):\n",
    "    ip = int(input().strip())\n",
    "    while fib < ip:\n",
    "        even.append(fib) if fib % 2 == 0 else False\n",
    "        n1 = n2\n",
    "        n2 = fib\n",
    "        fib = n1 + n2\n",
    "    print(sum(even))"
   ]
  },
  {
   "cell_type": "code",
   "execution_count": 106,
   "id": "1d8f0165",
   "metadata": {},
   "outputs": [
    {
     "name": "stdout",
     "output_type": "stream",
     "text": [
      "enter the number3\n",
      "[1, 2, 3]\n",
      "Sum of square of  elements in given list:  14\n",
      "Sum of all elements in given list:  6\n",
      "whole square of elements 36\n",
      "22\n"
     ]
    }
   ],
   "source": [
    "#difference in squares\n",
    "n=int(input(\"enter the number\"))\n",
    "a = range(1,n+1)\n",
    "output = list(a)\n",
    "print(output)\n",
    "total = 0\n",
    "\n",
    "list1 = output\n",
    "\n",
    "for ele in range(0, len(list1)):\n",
    "    #sum of squares (1,4,9)\n",
    "    total = total + list1[ele]*list1[ele]\n",
    "\n",
    "print(\"Sum of square of  elements in given list: \", total)\n",
    "\n",
    "\n",
    "tot = 0\n",
    "\n",
    "for ele in range(0, len(list1)):\n",
    "    tot = tot + list1[ele]\n",
    "\n",
    "print(\"Sum of all elements in given list: \", tot)\n",
    "tot=tot*tot\n",
    "print(\"whole square of elements\",tot)\n",
    "\n",
    "\n",
    "diff=tot-total\n",
    "print(diff)"
   ]
  },
  {
   "cell_type": "code",
   "execution_count": 2,
   "id": "f1e5388b",
   "metadata": {},
   "outputs": [
    {
     "name": "stdout",
     "output_type": "stream",
     "text": [
      "2\n",
      "3\n",
      "22\n",
      "10\n",
      "2640\n"
     ]
    }
   ],
   "source": [
    "#3rd\n",
    "noi = int(input().strip())\n",
    "for i in range(noi):\n",
    "    n = int(input().strip())\n",
    "    A = n*(n + 1)*(2*(n) + 1)/6\n",
    "    B = n*(n+1)/2\n",
    "    C = B*B\n",
    "    print(int(C-A))"
   ]
  },
  {
   "cell_type": "code",
   "execution_count": 3,
   "id": "4e96a738",
   "metadata": {},
   "outputs": [
    {
     "name": "stdout",
     "output_type": "stream",
     "text": [
      "enter how many numbers you want to enter2\n",
      "enter the numbers5\n",
      "10\n",
      "enter the numbers10\n",
      "17\n"
     ]
    }
   ],
   "source": [
    "#4 sum of prime numbers\n",
    "n = int(input(\"enter how many numbers you want to enter\").strip())\n",
    "for i in range(n):\n",
    "    ip = int(input(\"enter the numbers\").strip())\n",
    "    def prime_numbers(ip):\n",
    "    \n",
    "        primes = []\n",
    "        for i in range(2, ip + 1):\n",
    "            for j in range(2, int(i ** 0.5) + 1):\n",
    "                if i%j == 0:\n",
    "                    break\n",
    "            else:\n",
    "                primes.append(i)\n",
    "        return primes\n",
    "\n",
    "    prime_list = prime_numbers(ip)\n",
    "    print(sum(prime_list))\n",
    "    "
   ]
  },
  {
   "cell_type": "code",
   "execution_count": 23,
   "id": "3e334ae2",
   "metadata": {},
   "outputs": [
    {
     "name": "stdout",
     "output_type": "stream",
     "text": [
      "enter number times to run2\n",
      "enter numbers 3\n",
      "6\n",
      "enter numbers 4\n",
      "12\n"
     ]
    }
   ],
   "source": [
    "#5 smaller multiple\n",
    "t = int(input(\"enter number times to run\"))\n",
    "for ip in range(t):\n",
    "    n = int(input(\"enter numbers \").strip())\n",
    "    num = 0\n",
    "    while True:\n",
    "        num = num+1\n",
    "        Output = True\n",
    "        for i in range(1, n + 1):\n",
    "            if num % i != 0:                                                             \n",
    "                Output = False\n",
    "                break\n",
    "        if Output:\n",
    "            break\n",
    "    print(num)"
   ]
  },
  {
   "cell_type": "code",
   "execution_count": 1,
   "id": "80201991",
   "metadata": {},
   "outputs": [
    {
     "name": "stdout",
     "output_type": "stream",
     "text": [
      "3\n"
     ]
    }
   ],
   "source": [
    "# check how many incorrect 'SOS'\n",
    "s=\"SOSSPSSQSSOR\"\n",
    "\n",
    "count = 0\n",
    "expected = \"SOS\" \n",
    "\n",
    "for i in range(len(s)):\n",
    "  if s[i] != expected[i % 3]:\n",
    "    count += 1\n",
    "\n",
    "print(count)"
   ]
  },
  {
   "cell_type": "code",
   "execution_count": 2,
   "id": "7ad325d5",
   "metadata": {},
   "outputs": [
    {
     "name": "stdout",
     "output_type": "stream",
     "text": [
      "2\n"
     ]
    }
   ],
   "source": [
    "# number of turns to find a page \n",
    "n=10\n",
    "p=5\n",
    "# Start from front\n",
    "front = p // 2 # // - takes whole value\n",
    "\n",
    "# Start from back\n",
    "back = (n//2) - (p//2)\n",
    "\n",
    "print(min(front,back))"
   ]
  },
  {
   "cell_type": "code",
   "execution_count": 3,
   "id": "f93ae877-2a38-4971-8ce8-884c459b5e40",
   "metadata": {},
   "outputs": [
    {
     "name": "stdin",
     "output_type": "stream",
     "text": [
      "enter the limit  3\n"
     ]
    },
    {
     "name": "stdout",
     "output_type": "stream",
     "text": [
      "Fibonacci sequence:\n",
      "1\n",
      "1\n",
      "2\n"
     ]
    }
   ],
   "source": [
    "#hacker rank euler problem-2\n",
    "inp = int(input(\"enter the limit \"))\n",
    "\n",
    "n1, n2 = 0, 1\n",
    "count = 0\n",
    "\n",
    "if inp <= 0:\n",
    "    print(\"positive number only \")\n",
    "elif inp == 1:\n",
    "    print(\"Fibonacci sequence upto\",inp,\":\")\n",
    "    print(n1)\n",
    "#fibonacci \n",
    "else:\n",
    "    print(\"Fibonacci sequence:\")\n",
    "    while count < inp:\n",
    "        #print(n1)\n",
    "        nth = n1 + n2\n",
    "        n1 = n2\n",
    "        n2 = nth\n",
    "        count += 1\n",
    "       # if(n1==0):\n",
    "        print(n1)\n",
    "       # else:\n",
    "        #    print(\"work done\")"
   ]
  },
  {
   "cell_type": "code",
   "execution_count": 7,
   "id": "c3e5568f-c024-478e-9e8f-648e38a2affe",
   "metadata": {},
   "outputs": [
    {
     "name": "stdin",
     "output_type": "stream",
     "text": [
      "enter the number 3\n"
     ]
    },
    {
     "name": "stdout",
     "output_type": "stream",
     "text": [
      "[1, 2, 3]\n",
      "Sum of square of  elements in given list:  14\n",
      "Sum of all elements in given list:  6\n",
      "whole square of elements 36\n",
      "22\n"
     ]
    }
   ],
   "source": [
    "#difference in squares\n",
    "n=int(input(\"enter the number\"))\n",
    "a = range(1,n+1)\n",
    "output = list(a)\n",
    "print(output)\n",
    "total = 0\n",
    "\n",
    "list1 = output\n",
    "\n",
    "for ele in range(0, len(list1)):\n",
    "    #sum of squares (1,4,9)\n",
    "    total = total + list1[ele]*list1[ele]\n",
    "\n",
    "print(\"Sum of square of  elements in given list: \", total)\n",
    "\n",
    "\n",
    "tot = 0\n",
    "\n",
    "for ele in range(0, len(list1)):\n",
    "    tot = tot + list1[ele]\n",
    "\n",
    "print(\"Sum of all elements in given list: \", tot)\n",
    "tot=tot*tot\n",
    "print(\"whole square of elements\",tot)\n",
    "\n",
    "\n",
    "diff=tot-total\n",
    "print(diff)"
   ]
  },
  {
   "cell_type": "code",
   "execution_count": 8,
   "id": "2768dea8-7d45-49c1-a0a3-580983f9574b",
   "metadata": {},
   "outputs": [
    {
     "name": "stdin",
     "output_type": "stream",
     "text": [
      " 2\n",
      " 2\n"
     ]
    },
    {
     "name": "stdout",
     "output_type": "stream",
     "text": [
      "4\n"
     ]
    },
    {
     "name": "stdin",
     "output_type": "stream",
     "text": [
      " 2\n"
     ]
    },
    {
     "name": "stdout",
     "output_type": "stream",
     "text": [
      "4\n"
     ]
    }
   ],
   "source": [
    "#3rd\n",
    "noi = int(input().strip())\n",
    "for i in range(noi):\n",
    "    n = int(input().strip())\n",
    "    A = n*(n + 1)*(2*(n) + 1)/6\n",
    "    B = n*(n+1)/2\n",
    "    C = B*B\n",
    "    print(int(C-A))"
   ]
  },
  {
   "cell_type": "code",
   "execution_count": 9,
   "id": "c53dd431-6352-44e4-9fc1-05514fb98c46",
   "metadata": {},
   "outputs": [
    {
     "name": "stdin",
     "output_type": "stream",
     "text": [
      "enter how many numbers you want to enter 6\n",
      "enter the numbers 5\n"
     ]
    },
    {
     "name": "stdout",
     "output_type": "stream",
     "text": [
      "10\n"
     ]
    },
    {
     "name": "stdin",
     "output_type": "stream",
     "text": [
      "enter the numbers 1\n"
     ]
    },
    {
     "name": "stdout",
     "output_type": "stream",
     "text": [
      "0\n"
     ]
    },
    {
     "name": "stdin",
     "output_type": "stream",
     "text": [
      "enter the numbers 2\n"
     ]
    },
    {
     "name": "stdout",
     "output_type": "stream",
     "text": [
      "2\n"
     ]
    },
    {
     "name": "stdin",
     "output_type": "stream",
     "text": [
      "enter the numbers 4\n"
     ]
    },
    {
     "name": "stdout",
     "output_type": "stream",
     "text": [
      "5\n"
     ]
    },
    {
     "name": "stdin",
     "output_type": "stream",
     "text": [
      "enter the numbers 5\n"
     ]
    },
    {
     "name": "stdout",
     "output_type": "stream",
     "text": [
      "10\n"
     ]
    },
    {
     "name": "stdin",
     "output_type": "stream",
     "text": [
      "enter the numbers 6\n"
     ]
    },
    {
     "name": "stdout",
     "output_type": "stream",
     "text": [
      "10\n"
     ]
    }
   ],
   "source": [
    "#4 sum of prime numbers\n",
    "n = int(input(\"enter how many numbers you want to enter\").strip())\n",
    "for i in range(n):\n",
    "    ip = int(input(\"enter the numbers\").strip())\n",
    "    def prime_numbers(ip):\n",
    "    \n",
    "        primes = []\n",
    "        for i in range(2, ip + 1):\n",
    "            for j in range(2, int(i ** 0.5) + 1):\n",
    "                if i%j == 0:\n",
    "                    break\n",
    "            else:\n",
    "                primes.append(i)\n",
    "        return primes\n",
    "\n",
    "    prime_list = prime_numbers(ip)\n",
    "    print(sum(prime_list))\n",
    "    "
   ]
  },
  {
   "cell_type": "code",
   "execution_count": 10,
   "id": "1ccd21bd-a666-49fd-a6e2-87dd91a52f9c",
   "metadata": {},
   "outputs": [
    {
     "name": "stdin",
     "output_type": "stream",
     "text": [
      "enter number times to run 2\n",
      "enter numbers  1\n"
     ]
    },
    {
     "name": "stdout",
     "output_type": "stream",
     "text": [
      "1\n"
     ]
    },
    {
     "name": "stdin",
     "output_type": "stream",
     "text": [
      "enter numbers  2\n"
     ]
    },
    {
     "name": "stdout",
     "output_type": "stream",
     "text": [
      "2\n"
     ]
    }
   ],
   "source": [
    "#5 smaller multiple\n",
    "t = int(input(\"enter number of times to run\"))\n",
    "for ip in range(t):\n",
    "    n = int(input(\"enter numbers \").strip())\n",
    "    num = 0\n",
    "    while True:\n",
    "        num = num+1\n",
    "        Output = True\n",
    "        for i in range(1, n + 1):\n",
    "            if num % i != 0:                                                             \n",
    "                Output = False\n",
    "                break\n",
    "        if Output:\n",
    "            break\n",
    "    print(num)"
   ]
  },
  {
   "cell_type": "code",
   "execution_count": 9,
   "id": "4379a2b8-3ec0-4904-854f-bdd6731d1795",
   "metadata": {},
   "outputs": [
    {
     "name": "stdin",
     "output_type": "stream",
     "text": [
      " 2\n",
      " 0\n"
     ]
    },
    {
     "name": "stdout",
     "output_type": "stream",
     "text": [
      "Error Code: not enough values to unpack (expected 2, got 1)\n"
     ]
    },
    {
     "name": "stdin",
     "output_type": "stream",
     "text": [
      " 2\n"
     ]
    },
    {
     "name": "stdout",
     "output_type": "stream",
     "text": [
      "Error Code: not enough values to unpack (expected 2, got 1)\n"
     ]
    }
   ],
   "source": [
    "t = int(input()) \n",
    "for _ in range(t):\n",
    "    try:\n",
    "        a, b = map(int, input().split())\n",
    "        print(a // b)  # Using floor division for integer division\n",
    "    except Exception as e:\n",
    "        print(\"Error Code:\",e)"
   ]
  },
  {
   "cell_type": "code",
   "execution_count": 10,
   "id": "bf6f1dc9-9ffb-441b-a91b-ab13a25c7e76",
   "metadata": {},
   "outputs": [
    {
     "name": "stdout",
     "output_type": "stream",
     "text": [
      "[[0, 1, 1], [1, 0, 1], [1, 1, 0]]\n"
     ]
    }
   ],
   "source": [
    "# list comprehenion\n",
    "result = [[i, j, k] for i in range(2) for j in range(2) for k in range(2) if i + j + k == 2]\n",
    "print(result)\n",
    "  "
   ]
  },
  {
   "cell_type": "code",
   "execution_count": 14,
   "id": "454d188b-6b90-475a-b7bb-cab0170001cb",
   "metadata": {
    "scrolled": true
   },
   "outputs": [
    {
     "name": "stdout",
     "output_type": "stream",
     "text": [
      "0 1 1\n",
      "1 0 1\n",
      "1 1 0\n"
     ]
    }
   ],
   "source": [
    "for i in range(2):\n",
    "    for j in range(2):\n",
    "        for k in range(2):\n",
    "            if i+j+k==2:\n",
    "                \n",
    "                print(i,j,k)"
   ]
  },
  {
   "cell_type": "code",
   "execution_count": 36,
   "id": "76d38c39-70a6-4540-8b91-f8e3bada9983",
   "metadata": {},
   "outputs": [
    {
     "name": "stdin",
     "output_type": "stream",
     "text": [
      " 10\n",
      " 161\n",
      " 182\n",
      " 161\n",
      " 154\n",
      " 176\n",
      " 170\n",
      " 167\n",
      " 171\n",
      " 170\n",
      " 174\n"
     ]
    },
    {
     "name": "stdout",
     "output_type": "stream",
     "text": [
      "Average is  168.6\n",
      "[161, 182, 161, 154, 176, 170, 167, 171, 170, 174]\n",
      "SUM is  1686\n"
     ]
    }
   ],
   "source": [
    "#### 161 182 161 154 176 170 167 171 170 174\n",
    "# set doesn't allow duplicate values\n",
    "n=int(input())\n",
    "lst=[]\n",
    "for i in range(n):\n",
    "    a=int(input())\n",
    "    lst.append(a)\n",
    "sum=0\n",
    "for x in lst:\n",
    "    sum=sum+x\n",
    "    avg=set(lst)\n",
    "avg=sum/len(lst)\n",
    "print(\"Average is \",avg)\n",
    "    \n",
    "print(lst)\n",
    "print(\"SUM is \",sum)"
   ]
  },
  {
   "cell_type": "code",
   "execution_count": 11,
   "id": "fed987de-ceef-41e1-915d-78c69bf56763",
   "metadata": {},
   "outputs": [
    {
     "name": "stdin",
     "output_type": "stream",
     "text": [
      " 1\n",
      " 2\n"
     ]
    },
    {
     "name": "stdout",
     "output_type": "stream",
     "text": [
      "6909455589863252355\n"
     ]
    }
   ],
   "source": [
    "# tuples\n",
    "n = int(input())\n",
    "integer_list = map(int, input().split())\n",
    "# map have (func,list of values)\n",
    "\n",
    "integer_list=tuple(integer_list)\n",
    "\n",
    "print(hash(integer_list));"
   ]
  },
  {
   "cell_type": "code",
   "execution_count": 50,
   "id": "9911beec-9a46-40cb-b708-dbcf738ca78f",
   "metadata": {},
   "outputs": [
    {
     "name": "stdin",
     "output_type": "stream",
     "text": [
      " 5\n",
      " 2\n",
      " 3\n",
      " 6\n",
      " 6\n",
      " 5\n"
     ]
    },
    {
     "name": "stdout",
     "output_type": "stream",
     "text": [
      "5\n"
     ]
    }
   ],
   "source": [
    "# Runner up\n",
    "lst=[]\n",
    "n = int(input())\n",
    "for i in range(n):\n",
    "    t=int(input())\n",
    "    lst.append(t)\n",
    "b=sorted(set(lst),reverse=True)\n",
    "print(b[1])"
   ]
  },
  {
   "cell_type": "code",
   "execution_count": 14,
   "id": "10233511-12bb-4565-8d64-150de9e9c8a7",
   "metadata": {},
   "outputs": [
    {
     "name": "stdin",
     "output_type": "stream",
     "text": [
      " sam 10 20 30\n"
     ]
    },
    {
     "data": {
      "text/plain": [
       "{'sam': [10.0, 20.0, 30.0]}"
      ]
     },
     "execution_count": 14,
     "metadata": {},
     "output_type": "execute_result"
    }
   ],
   "source": [
    "# finding the percentage\n",
    "n=1\n",
    "d={}\n",
    "for _ in range(n):\n",
    "    name, *line = input().split() # split takes when there is a space in the variable it will split that with an ',' to separate the values\n",
    "    # name is string and line is marks of each student\n",
    "    marks=list(map(float,line))\n",
    "    d[name]=marks # this will store the value like  ram 10,20,30 for all inputs.\n",
    "d   \n",
    "namei='sam'\n",
    "aa=list(d[namei])\n",
    "sum(aa)/len(aa)"
   ]
  },
  {
   "cell_type": "code",
   "execution_count": 10,
   "id": "5332de0f-2ec1-4326-8caa-b167a3772ba1",
   "metadata": {},
   "outputs": [
    {
     "name": "stdout",
     "output_type": "stream",
     "text": [
      "qwer\n",
      "tyui\n",
      "oplk\n",
      "jhgf\n"
     ]
    }
   ],
   "source": [
    "# # text wrap\n",
    "\n",
    "# a='qwertyuiop'\n",
    "# for i in range(0,len(a),4):\n",
    "#     print(a[i:i+4])\n",
    "\n",
    "import textwrap\n",
    "string=\"qwertyuioplkjhgf\"\n",
    "max_width=4\n",
    "wrapped_text = textwrap.wrap(string, width=max_width)\n",
    "for line in wrapped_text:\n",
    "    print(line)"
   ]
  },
  {
   "cell_type": "code",
   "execution_count": 9,
   "id": "62a8cc22-30f1-4be7-8e47-f202291f562f",
   "metadata": {},
   "outputs": [
    {
     "name": "stdin",
     "output_type": "stream",
     "text": [
      " 2\n",
      " NAME CLASS ID MARKS\n",
      " sam 8 1 100\n",
      " tom 9 2 100\n"
     ]
    },
    {
     "name": "stdout",
     "output_type": "stream",
     "text": [
      "100.0\n"
     ]
    }
   ],
   "source": [
    "# collections named tuple\n",
    "from collections import namedtuple\n",
    "n=int(input()) # total number of students\n",
    "fields=input().split() # getting column names from user\n",
    "tot=0\n",
    "\n",
    "for i in range(n):\n",
    "    stud = namedtuple('student',fields)\n",
    "    ID,MARKS,NAME,CLASS=input().split() # split - will use , in place of space\n",
    "    ss = stud(ID,MARKS, NAME,CLASS)\n",
    "\n",
    "    tot=tot+int(ss.MARKS)\n",
    "print(tot/n)"
   ]
  },
  {
   "cell_type": "code",
   "execution_count": 37,
   "id": "124119b7-f1f4-4506-98d7-a5a456f2b7fb",
   "metadata": {},
   "outputs": [
    {
     "name": "stdin",
     "output_type": "stream",
     "text": [
      " qwee\n",
      " 1 a\n"
     ]
    },
    {
     "name": "stdout",
     "output_type": "stream",
     "text": [
      "qaee\n"
     ]
    }
   ],
   "source": [
    "# mutations\n",
    "s = input()  # string\n",
    "i, c = input().split()  # i - position, c - replacing element\n",
    "li = list(s)\n",
    "li[int(i)]=c\n",
    "result = ''.join(li)\n",
    "print(result)"
   ]
  },
  {
   "cell_type": "code",
   "execution_count": 47,
   "id": "9317db9e-9932-4d69-b502-0e21bad59856",
   "metadata": {},
   "outputs": [
    {
     "name": "stdout",
     "output_type": "stream",
     "text": [
      "AM\n",
      "AR\n",
      "AU\n",
      "MA\n",
      "MR\n",
      "MU\n",
      "RA\n",
      "RM\n",
      "RU\n",
      "UA\n",
      "UM\n",
      "UR\n"
     ]
    }
   ],
   "source": [
    "# tertools.permutations()\n",
    "from itertools import permutations\n",
    "str1, int1 = 'RAMU',2\n",
    "\n",
    "for i in sorted(permutations(str1, int(int1))): # permutations used for combinations (takes 1st as the value then 2nd as each combination size) \n",
    "    print (''.join(i))\n",
    "\n",
    "    # from itertools import permutations\n",
    "# a=[1,2,3]\n",
    "# for i in permutations(a,2):\n",
    "#     print(i)"
   ]
  },
  {
   "cell_type": "code",
   "execution_count": 7,
   "id": "66a8dbe2-14c1-4455-8a95-9d3ff1d79ab5",
   "metadata": {},
   "outputs": [
    {
     "name": "stdin",
     "output_type": "stream",
     "text": [
      " 2\n",
      " india\n",
      " india\n"
     ]
    },
    {
     "name": "stdout",
     "output_type": "stream",
     "text": [
      "1\n"
     ]
    }
   ],
   "source": [
    "# Set.add()\n",
    "\n",
    "# count=input()\n",
    "# country=input().split()\n",
    "# s=set(country)\n",
    "# print(len(s))\n",
    "\n",
    "n = int(input())\n",
    "Country = set()\n",
    "for i in range(n):\n",
    "    Country.add(input())\n",
    "print(len(Country))"
   ]
  },
  {
   "cell_type": "code",
   "execution_count": 7,
   "id": "be988869-2a72-4833-981a-67102aedacd8",
   "metadata": {},
   "outputs": [
    {
     "name": "stdin",
     "output_type": "stream",
     "text": [
      " 2\n",
      " 1 2\n",
      " 2\n",
      " 1 3\n"
     ]
    },
    {
     "name": "stdout",
     "output_type": "stream",
     "text": [
      "4\n"
     ]
    }
   ],
   "source": [
    "# set union\n",
    "n,s1=input(),set(input().split())\n",
    "n,s2=input(),set(input().split())\n",
    "print(len(s1.union(s2)))"
   ]
  },
  {
   "cell_type": "code",
   "execution_count": null,
   "id": "dcfe2016-02cd-4f9f-8616-df9e2024e8b3",
   "metadata": {},
   "outputs": [],
   "source": [
    "# set difference\n",
    "n,s1=input(),set(input().split())\n",
    "n,s2=input(),set(input().split())\n",
    "print(len(s1.difference(s2)))"
   ]
  },
  {
   "cell_type": "code",
   "execution_count": null,
   "id": "f3251751-7ab2-4e80-a1d7-26f0d5c575cc",
   "metadata": {},
   "outputs": [],
   "source": [
    "# set symmentric_difference\n",
    "n,s1=input(),set(input().split())\n",
    "n,s2=input(),set(input().split())\n",
    "print(len(s1.symmetric_difference(s2)))"
   ]
  },
  {
   "cell_type": "code",
   "execution_count": 29,
   "id": "6f5973ca-b8ff-4a17-8b2e-4ef8be4c600b",
   "metadata": {},
   "outputs": [
    {
     "name": "stdin",
     "output_type": "stream",
     "text": [
      " HACK 2\n"
     ]
    },
    {
     "name": "stdout",
     "output_type": "stream",
     "text": [
      "('A', 'A')\n",
      "('A', 'C')\n",
      "('A', 'H')\n",
      "('A', 'K')\n",
      "('C', 'C')\n",
      "('C', 'H')\n",
      "('C', 'K')\n",
      "('H', 'H')\n",
      "('H', 'K')\n",
      "('K', 'K')\n"
     ]
    }
   ],
   "source": [
    "from itertools import combinations_with_replacement\n",
    "\n",
    "s, k = input().split()\n",
    "\n",
    "combinations = list(combinations_with_replacement(sorted(s), int(k)))\n",
    "\n",
    "# Unpacking tuple\n",
    "for x in combinations:\n",
    "    print(*x, sep='') # remove () and ''"
   ]
  },
  {
   "cell_type": "code",
   "execution_count": 37,
   "id": "031d87a6-e118-4d3c-ab6c-cd0d45cac8d8",
   "metadata": {},
   "outputs": [
    {
     "name": "stdin",
     "output_type": "stream",
     "text": [
      " 2\n",
      " 3\n",
      " 1 3 4\n",
      " 2\n",
      " 1 3\n"
     ]
    },
    {
     "name": "stdout",
     "output_type": "stream",
     "text": [
      "False\n"
     ]
    },
    {
     "name": "stdin",
     "output_type": "stream",
     "text": [
      " 3\n",
      " 1 2 3\n",
      " 4\n",
      " 1 2 3 4\n"
     ]
    },
    {
     "name": "stdout",
     "output_type": "stream",
     "text": [
      "True\n"
     ]
    }
   ],
   "source": [
    "# check A is subset of B\n",
    "for i in range(int(input())): # this input() -  used for number of test cases\n",
    "    setA,A=input(),set(input().split()) # this n input is for number of elements in 1st set, A - input of setA\n",
    "    setB,B=input(),set(input().split()) # this n input is for number of elements in 2nd set, B - input of setB\n",
    "    print(A.issubset(B))"
   ]
  },
  {
   "cell_type": "code",
   "execution_count": 17,
   "id": "7f151a6f-8646-47be-87cd-5f2bb4d34b0e",
   "metadata": {},
   "outputs": [
    {
     "name": "stdin",
     "output_type": "stream",
     "text": [
      " 1 4\n",
      " x**3*x**7\n"
     ]
    },
    {
     "name": "stdout",
     "output_type": "stream",
     "text": [
      "False\n"
     ]
    }
   ],
   "source": [
    "# input()\n",
    "x, k = map(int, input().split()) # a value and an result numer\n",
    "print(eval(input()) == k) # getting a expression like x**2+x**3 if that equals to result number True else false"
   ]
  },
  {
   "cell_type": "code",
   "execution_count": 21,
   "id": "7e0bf9e3-e452-4236-ac51-f758a3d67d43",
   "metadata": {},
   "outputs": [
    {
     "name": "stdin",
     "output_type": "stream",
     "text": [
      " print(2+3)\n"
     ]
    },
    {
     "name": "stdout",
     "output_type": "stream",
     "text": [
      "5\n"
     ]
    }
   ],
   "source": [
    "# evaluation\n",
    "from __future__ import print_function\n",
    "eval(input())"
   ]
  },
  {
   "cell_type": "code",
   "execution_count": 22,
   "id": "72a4e7db-3afc-4f55-bbea-b470422e8a14",
   "metadata": {},
   "outputs": [
    {
     "name": "stdin",
     "output_type": "stream",
     "text": [
      " 1 2\n",
      " 3 4\n"
     ]
    },
    {
     "name": "stdout",
     "output_type": "stream",
     "text": [
      "(1, 3) (1, 4) (2, 3) (2, 4)\n"
     ]
    }
   ],
   "source": [
    "# itertools.product\n",
    "from itertools import product\n",
    "\n",
    "A=list(map(int,input().split()))\n",
    "B=list(map(int,input().split()))\n",
    "\n",
    "C = product(A,B)\n",
    "\n",
    "print(*C)"
   ]
  },
  {
   "cell_type": "code",
   "execution_count": 1,
   "id": "025caa48-d8d4-4ea0-9ac6-88e2cf520a91",
   "metadata": {},
   "outputs": [
    {
     "name": "stdin",
     "output_type": "stream",
     "text": [
      " 2\n",
      " 1 2\n",
      " 1\n",
      " update 2\n",
      " 10 20\n"
     ]
    },
    {
     "name": "stdout",
     "output_type": "stream",
     "text": [
      "33\n"
     ]
    }
   ],
   "source": [
    "# set mutations\n",
    "\n",
    "length = int(input()) # 1st set input\n",
    "initial_set = set(map(int, input().split())) # 1st set elements\n",
    "\n",
    "num_operations = int(input()) # number of op to perform like intersection,update,diff\n",
    "\n",
    "for _ in range(num_operations):\n",
    "    operation, *args = input().split() # assigns the first word(op) to the operation and the rest of the \n",
    "    # elements('how many elements you are going to do the op') to args That is why *args used\n",
    "    new_set = set(map(int, input().split())) # input for elements of new set\n",
    "\n",
    "    if operation == 'intersection_update':\n",
    "        initial_set.intersection_update(new_set)\n",
    "    elif operation == 'update':\n",
    "        initial_set.update(new_set)\n",
    "    elif operation == 'symmetric_difference_update':\n",
    "        initial_set.symmetric_difference_update(new_set)\n",
    "    elif operation == 'difference_update':\n",
    "        initial_set.difference_update(new_set)\n",
    "print(sum(initial_set)) # result combined of 2 sets initial and final sets.\n"
   ]
  },
  {
   "cell_type": "code",
   "execution_count": 7,
   "id": "3bfee9c8-5db1-4151-b431-953858ed5e76",
   "metadata": {},
   "outputs": [
    {
     "name": "stdin",
     "output_type": "stream",
     "text": [
      " 2 2\n",
      " 100 200\n",
      " 300 400\n"
     ]
    },
    {
     "name": "stdout",
     "output_type": "stream",
     "text": [
      "([100.0, 200.0],) ([300.0, 400.0],)\n"
     ]
    }
   ],
   "source": [
    "# zipped\n",
    "n,m=map(int,input().split()) # n - number of columns, m - number of rows\n",
    "marks=[]\n",
    "for i in range(n):\n",
    "    mark_l=list(map(float,input().split()))\n",
    "    marks.append(mark_l)\n",
    "scores=list(zip(marks))\n",
    "for i in scores:\n",
    "    print(sum(i[0])/len(scores))"
   ]
  },
  {
   "cell_type": "code",
   "execution_count": 2,
   "id": "f57a937b-1b23-4d7d-b7f6-c6494d4ddbb0",
   "metadata": {},
   "outputs": [
    {
     "name": "stdin",
     "output_type": "stream",
     "text": [
      " 2\n",
      " shampoo 10\n",
      " shampoo 10\n"
     ]
    },
    {
     "name": "stdout",
     "output_type": "stream",
     "text": [
      "shampoo 20\n"
     ]
    }
   ],
   "source": [
    "# collections .orderedlist\n",
    "from collections import OrderedDict\n",
    "dict=OrderedDict()\n",
    "items=int(input()) # number of items to display\n",
    "for i in range(items):\n",
    "    n,p=input().split()\n",
    "    dict[n] = dict.get(n, 0) + int(p)\n",
    "for n, p in dict.items():\n",
    "    print(n,p)"
   ]
  },
  {
   "cell_type": "code",
   "execution_count": 9,
   "id": "56fa3e83-6b8c-4bc9-beb8-15907f5c5bd3",
   "metadata": {},
   "outputs": [
    {
     "name": "stdin",
     "output_type": "stream",
     "text": [
      " 13\n"
     ]
    },
    {
     "name": "stdout",
     "output_type": "stream",
     "text": [
      "yes\n"
     ]
    }
   ],
   "source": [
    "# code chef 1st\n",
    "n=int(input()) # total points of a given team in group stage\n",
    "if n>=12:\n",
    "    print('yes')\n",
    "else:\n",
    "    print('no')"
   ]
  },
  {
   "cell_type": "code",
   "execution_count": 18,
   "id": "56d4e2ef-ece8-4939-a98e-72a7f52a4915",
   "metadata": {},
   "outputs": [
    {
     "name": "stdin",
     "output_type": "stream",
     "text": [
      " 2\n",
      " 1\n",
      " 3\n"
     ]
    },
    {
     "name": "stdout",
     "output_type": "stream",
     "text": [
      "[24000, 72000]\n"
     ]
    }
   ],
   "source": [
    "# code chef 2nd\n",
    "t = int(input())  # number of test cases\n",
    "w = 1000  # each frame has 1000 words\n",
    "frames = 24\n",
    "lst = []\n",
    "\n",
    "for i in range(t):\n",
    "    cases = int(input())  # Convert input to an integer\n",
    "    result = cases * frames * w\n",
    "    lst.append(result)\n",
    "\n",
    "print(lst)\n"
   ]
  },
  {
   "cell_type": "code",
   "execution_count": 21,
   "id": "ef46a4df-45d5-4f71-b024-6988b628fa32",
   "metadata": {},
   "outputs": [
    {
     "name": "stdin",
     "output_type": "stream",
     "text": [
      " 2\n",
      " 1 2\n",
      " 3 4\n"
     ]
    },
    {
     "name": "stdout",
     "output_type": "stream",
     "text": [
      "<map object at 0x000001533D381FD0>\n"
     ]
    }
   ],
   "source": [
    "# code chef 3\n",
    "t = int(input())\n",
    "for _ in range(t):\n",
    "    m, n = map(int, input().split())\n",
    "    mini = max(m, n) * 2 - 1\n",
    "    print(mini)"
   ]
  },
  {
   "cell_type": "code",
   "execution_count": 27,
   "id": "a01d58da-e5ee-4592-a659-8246a7666c58",
   "metadata": {},
   "outputs": [
    {
     "name": "stdin",
     "output_type": "stream",
     "text": [
      " 2\n",
      " 1 2\n",
      " 3 4 5 6\n",
      " 7 8 9 10\n",
      " 1 2\n",
      " 1\n",
      " 2\n"
     ]
    }
   ],
   "source": [
    "# code chef 4\n",
    "t = int(input())\n",
    "test_cases = []\n",
    "for _ in range(t):\n",
    "    n, d = map(int, input().split())\n",
    "    b_values = list(map(int, input().split()))\n",
    "    c_values = list(map(int, input().split()))\n",
    "    test_cases.append(((n, d), b_values, c_values))\n"
   ]
  },
  {
   "cell_type": "code",
   "execution_count": null,
   "id": "d860b76a-cea1-46fa-80d6-6c48df0524e1",
   "metadata": {},
   "outputs": [],
   "source": []
  },
  {
   "cell_type": "code",
   "execution_count": null,
   "id": "9d30dc97-982d-47c9-82c8-cbf74e3ec5c1",
   "metadata": {},
   "outputs": [],
   "source": [
    "#### # 4 4 0 1 ans is 4 4 5 3\n",
    "\n",
    "t = int(input())\n",
    "\n",
    "for _ in range(t):\n",
    "    no_of_arr = int(input())\n",
    "\n",
    "    for _ in range(no_of_arr):\n",
    "        a = list(map(int, input().split()))\n",
    "        lst = []\n",
    "\n",
    "        # Use range(len(a) - 2) to avoid index out of range error\n",
    "        for i in range(len(a) - 2):\n",
    "            lst.append(a[i] + a[i + 2])\n",
    "            lst.append(a[i + 1] + a[i + 2])\n",
    "\n",
    "        # Add the last two elements\n",
    "        if len(a) >= 2:\n",
    "            lst.append(a[-2] + a[-1])\n",
    "\n",
    "        print(lst)\n",
    "        break\n",
    "    break"
   ]
  },
  {
   "cell_type": "code",
   "execution_count": 1,
   "id": "d1d5d734-97ba-403a-a30b-5d68c9cd8a3c",
   "metadata": {},
   "outputs": [
    {
     "name": "stdin",
     "output_type": "stream",
     "text": [
      " 11 24 2023\n"
     ]
    },
    {
     "name": "stdout",
     "output_type": "stream",
     "text": [
      "FRIDAY\n"
     ]
    }
   ],
   "source": [
    "# callender module\n",
    "import calendar\n",
    "month, day, year = list(map(int,input().split()))\n",
    "ans = calendar.weekday(year, month, day)\n",
    "print((calendar.day_name[ans]).upper())"
   ]
  },
  {
   "cell_type": "code",
   "execution_count": 4,
   "id": "e7055e06-0cbf-4d4a-affc-18ac4fa5d499",
   "metadata": {},
   "outputs": [
    {
     "name": "stdin",
     "output_type": "stream",
     "text": [
      " 2 2\n",
      " 1 2\n",
      " 3 4\n"
     ]
    },
    {
     "name": "stdout",
     "output_type": "stream",
     "text": [
      "3\n"
     ]
    }
   ],
   "source": [
    "# min max\n",
    "import numpy\n",
    "\n",
    "n,m=map(int,input().split()) # number of rows and columns \n",
    "\n",
    "lista=[list(map(int,input().split())) for i in range(n)] # values of m and n (rows and columns)\n",
    "\n",
    "ar=numpy.array(lista)\n",
    "\n",
    "print(max(numpy.min(ar,axis=1)))\n"
   ]
  },
  {
   "cell_type": "code",
   "execution_count": 5,
   "id": "80dbb3ad-db80-464c-9947-3281afdc7ce1",
   "metadata": {},
   "outputs": [
    {
     "name": "stdin",
     "output_type": "stream",
     "text": [
      " 177\n",
      " 10\n"
     ]
    },
    {
     "name": "stdout",
     "output_type": "stream",
     "text": [
      "(17, 7)\n"
     ]
    }
   ],
   "source": [
    "# mod divmod\n",
    "a = int(input())\n",
    "b = int(input())\n",
    "result = divmod(a, b)\n",
    "print(result)"
   ]
  },
  {
   "cell_type": "code",
   "execution_count": 1,
   "id": "af84b3f1-88d7-47cc-a777-6a81ce4f14f7",
   "metadata": {},
   "outputs": [
    {
     "name": "stdin",
     "output_type": "stream",
     "text": [
      " 3\n",
      " 4\n",
      " 5\n"
     ]
    },
    {
     "name": "stdout",
     "output_type": "stream",
     "text": [
      "81\n",
      "1\n"
     ]
    }
   ],
   "source": [
    "# pow\n",
    "import math\n",
    "a=int(input())\n",
    "b=int(input())\n",
    "c=int(input())\n",
    "print(pow(a,b))\n",
    "print(pow(a,b,c))# c is mod 81%5=1"
   ]
  },
  {
   "cell_type": "code",
   "execution_count": 4,
   "id": "ca5d94f8-2c27-4196-a692-a04ceecdc013",
   "metadata": {},
   "outputs": [
    {
     "name": "stdin",
     "output_type": "stream",
     "text": [
      " 9\n",
      " 29\n",
      " 7\n",
      " 27\n"
     ]
    },
    {
     "name": "stdout",
     "output_type": "stream",
     "text": [
      "4710194409608608369201743232\n"
     ]
    }
   ],
   "source": [
    "# integers in all sizes\n",
    "a=int(input())\n",
    "b=int(input())\n",
    "c=int(input())\n",
    "d=int(input())\n",
    "print(pow(a,b)+pow(c,d))"
   ]
  },
  {
   "cell_type": "code",
   "execution_count": 8,
   "id": "3c441fef-80f7-4d2e-b99f-b42a261449c2",
   "metadata": {},
   "outputs": [
    {
     "name": "stdin",
     "output_type": "stream",
     "text": [
      " 1 2 3 4 5\n"
     ]
    },
    {
     "name": "stdout",
     "output_type": "stream",
     "text": [
      "[5. 4. 3. 2. 1.]\n"
     ]
    }
   ],
   "source": [
    "# reverse elements in a array\n",
    "import numpy\n",
    "arr=input().strip().split() # strip will store space  values as it is , split() - seperate the values where space is used \n",
    "arr=numpy.array(arr,float)\n",
    "rev=arr[::-1]\n",
    "print(rev)"
   ]
  },
  {
   "cell_type": "code",
   "execution_count": 9,
   "id": "274481f3-7d97-4073-9c2a-21a85774922a",
   "metadata": {},
   "outputs": [
    {
     "name": "stdin",
     "output_type": "stream",
     "text": [
      " 55 115\n"
     ]
    },
    {
     "name": "stdout",
     "output_type": "stream",
     "text": [
      "NO\n"
     ]
    }
   ],
   "source": [
    "# Input weight and height\n",
    "W, H = map(int, input().split())\n",
    "\n",
    "# Chef's weight and height\n",
    "chef_weight = 60\n",
    "chef_height = 130\n",
    "\n",
    "# Check if Chef can enter the water slide\n",
    "if chef_weight <= W and chef_height >= H:\n",
    "    print(\"YES\")\n",
    "else:\n",
    "    print(\"NO\")\n"
   ]
  },
  {
   "cell_type": "code",
   "execution_count": 15,
   "id": "5c1417a0-ab5f-470c-933b-ae8e20b2008d",
   "metadata": {},
   "outputs": [
    {
     "name": "stdin",
     "output_type": "stream",
     "text": [
      " 3\n",
      " 4 600\n"
     ]
    },
    {
     "name": "stdout",
     "output_type": "stream",
     "text": [
      "2\n"
     ]
    },
    {
     "name": "stdin",
     "output_type": "stream",
     "text": [
      " 3 523\n"
     ]
    },
    {
     "name": "stdout",
     "output_type": "stream",
     "text": [
      "3\n"
     ]
    },
    {
     "name": "stdin",
     "output_type": "stream",
     "text": [
      " 8 245\n"
     ]
    },
    {
     "name": "stdout",
     "output_type": "stream",
     "text": [
      "0\n"
     ]
    }
   ],
   "source": [
    "# code chef 2nd\n",
    "# An airline operates \n",
    "# X aircraft every day. Each aircraft can carry up to 100100 passengers.\n",
    "# One day, N passengers would like to travel to the same destination. What is the minimum number of new planes that the airline must buy to carry all \n",
    "# N passengers\n",
    "cases = int(input())\n",
    "for i in range(cases):\n",
    "    pla, pas = map(int, input().split())\n",
    "    planes_capacity = pla * 100\n",
    "    rem_pass = pas - planes_capacity\n",
    "    if rem_pass > 0:\n",
    "        new_planes_needed = (rem_pass + 99) // 100\n",
    "        print(new_planes_needed)\n",
    "    else:\n",
    "        print(0)"
   ]
  },
  {
   "cell_type": "code",
   "execution_count": 20,
   "id": "4b084967-ec28-425f-863d-d5dff921542c",
   "metadata": {},
   "outputs": [
    {
     "name": "stdin",
     "output_type": "stream",
     "text": [
      " 1\n",
      " 12 4 3\n"
     ]
    },
    {
     "name": "stdout",
     "output_type": "stream",
     "text": [
      "7\n"
     ]
    }
   ],
   "source": [
    "def min_students_reading(total_students, boys, group_size):\n",
    "    boy_groups = boys // group_size # quotiont\n",
    "    remaining_boys = boys % group_size # remainder\n",
    "    remaining_girls = total_students - boys\n",
    "    min_reading_students = max(0, remaining_girls - remaining_boys)    \n",
    "    return min_reading_students\n",
    "\n",
    "t = int(input())\n",
    "for _ in range(t):\n",
    "    total_students, boys, group_size = map(int, input().split())\n",
    "    print(min_students_reading(total_students, boys, group_size))\n"
   ]
  },
  {
   "cell_type": "code",
   "execution_count": 27,
   "id": "d1fd5819-4e70-41f4-93df-e59fdcff68a3",
   "metadata": {},
   "outputs": [
    {
     "name": "stdout",
     "output_type": "stream",
     "text": [
      "[]\n"
     ]
    }
   ],
   "source": [
    "# check index == value in a array\n",
    "index=4\n",
    "ele=[]\n",
    "arr=[1,2,3,40,4]\n",
    "for i in arr:\n",
    "    if i==index:\n",
    "        ele.append(i)\n",
    "    index+=1\n",
    "print(ele)"
   ]
  },
  {
   "cell_type": "code",
   "execution_count": 29,
   "id": "ce959911-7c9d-4a1b-a637-858a3ad4a309",
   "metadata": {},
   "outputs": [
    {
     "name": "stdout",
     "output_type": "stream",
     "text": [
      "0\n"
     ]
    }
   ],
   "source": [
    "# find missing values in a array\n",
    "array=[1,2,3,4,5]\n",
    "n=5\n",
    "add=sum(array)\n",
    "a1=sum([i for i in range(1,n+1)] )\n",
    "print(a1-add)\n"
   ]
  },
  {
   "cell_type": "code",
   "execution_count": 35,
   "id": "46dc77ab-81fb-4c52-bbf8-771c7d3a0cc6",
   "metadata": {},
   "outputs": [
    {
     "data": {
      "text/plain": [
       "[0, 0, 1, 1, 2, 2]"
      ]
     },
     "execution_count": 35,
     "metadata": {},
     "output_type": "execute_result"
    }
   ],
   "source": [
    "# sort 0,1 and 2\n",
    "a=[0,1,2,0,2,1]\n",
    "for i in range(0,len(a)):\n",
    "    for j in range(i+1,len(a)):\n",
    "        if a[i]>=a[j]:\n",
    "            a[i],a[j]=a[j],a[i]\n",
    "a       "
   ]
  },
  {
   "cell_type": "code",
   "execution_count": 11,
   "id": "b5922e64-310a-4251-9367-ddc4a0cd25ca",
   "metadata": {},
   "outputs": [
    {
     "data": {
      "text/plain": [
       "120"
      ]
     },
     "execution_count": 11,
     "metadata": {},
     "output_type": "execute_result"
    }
   ],
   "source": [
    "# factorial - geeks\n",
    "def factorial(n):\n",
    "    if (n == 0):\n",
    "        return 1;\n",
    " \n",
    "    # recursion call\n",
    "    return n * factorial(n - 1)\n",
    "factorial(5)"
   ]
  },
  {
   "cell_type": "code",
   "execution_count": 22,
   "id": "f9398d5b-af12-4e73-96b6-04904fd62b98",
   "metadata": {},
   "outputs": [
    {
     "name": "stdout",
     "output_type": "stream",
     "text": [
      "1 2 3 4 5 "
     ]
    }
   ],
   "source": [
    "# n series of numbers without loop - geeks\n",
    "def printNos(N):\n",
    "        if N>0:\n",
    "            printNos(N-1)\n",
    "            print(N,end=\" \")\n",
    "printNos(5)"
   ]
  },
  {
   "cell_type": "code",
   "execution_count": 49,
   "id": "60478547-aac4-4497-99c4-8b10d5875bd1",
   "metadata": {},
   "outputs": [
    {
     "name": "stdout",
     "output_type": "stream",
     "text": [
      "13\n"
     ]
    }
   ],
   "source": [
    "# fibonacci series\n",
    "def Fibonacci(n):\n",
    "    \n",
    "    if n == 0:\n",
    "        return 0\n",
    "\n",
    "    elif n == 1 or n == 2:\n",
    "        return 1\n",
    " \n",
    "    else:\n",
    "        return Fibonacci(n-1) + Fibonacci(n-2)\n",
    "\n",
    "print(Fibonacci(7))"
   ]
  },
  {
   "cell_type": "code",
   "execution_count": 11,
   "id": "e4b808a3-07b5-4de9-abba-a1b142530f95",
   "metadata": {},
   "outputs": [
    {
     "name": "stdout",
     "output_type": "stream",
     "text": [
      "3\n"
     ]
    }
   ],
   "source": [
    "# minimum distance\n",
    "arr=[1,2,3,4,5]\n",
    "x=1\n",
    "y=4\n",
    "if x not in arr or y not in arr:\n",
    "    print(-1)\n",
    "        \n",
    "min_dist = float('inf')\n",
    "last_index_x = float('inf')\n",
    "last_index_y = float('inf')\n",
    "\n",
    "for i in range(len(arr)):\n",
    "    if arr[i] == x:\n",
    "        last_index_x = i\n",
    "        min_dist = min(min_dist, abs(last_index_x - last_index_y))\n",
    "    elif arr[i] == y:\n",
    "        last_index_y = i\n",
    "        min_dist = min(min_dist, abs(last_index_x - last_index_y))\n",
    "\n",
    "print(min_dist if min_dist != float('inf') else -1)"
   ]
  },
  {
   "cell_type": "code",
   "execution_count": 27,
   "id": "bd256c13-3abb-4aa7-aa0f-972a785ebf77",
   "metadata": {},
   "outputs": [
    {
     "data": {
      "text/plain": [
       "[1, 4, 3, 4, 5]"
      ]
     },
     "execution_count": 27,
     "metadata": {},
     "output_type": "execute_result"
    }
   ],
   "source": [
    "# swap kth element\n",
    "a=[1,2,3,4,5]\n",
    "k=2   # replacing 2 with 4\n",
    "if k > 0:\n",
    "    a[k-1],arr[-k]=arr[-k],arr[k-1]\n",
    "a"
   ]
  },
  {
   "cell_type": "code",
   "execution_count": 31,
   "id": "3c783ae2-74d6-4ebd-9799-94afadc9fb0b",
   "metadata": {},
   "outputs": [
    {
     "data": {
      "text/plain": [
       "[1, 1, 2, 3, 5, 8, 13]"
      ]
     },
     "execution_count": 31,
     "metadata": {},
     "output_type": "execute_result"
    }
   ],
   "source": [
    "# first n fibonacci numbers\n",
    "def fibonacci(n, a=1, b=1, fib_series=[]):\n",
    "    if n > 0:\n",
    "        fib_series.append(a)\n",
    "        fibonacci(n - 1, b, a + b, fib_series)\n",
    "\n",
    "    return fib_series\n",
    "fibonacci(7)"
   ]
  },
  {
   "cell_type": "code",
   "execution_count": 38,
   "id": "8fe7ae59-670c-4a36-8e18-23b591a983ce",
   "metadata": {},
   "outputs": [
    {
     "data": {
      "text/plain": [
       "[0, 1, 1, 2, 3, 5]"
      ]
     },
     "execution_count": 38,
     "metadata": {},
     "output_type": "execute_result"
    }
   ],
   "source": [
    "def series( n, a=0, b=1, fib_series=None):\n",
    "        if fib_series is None:\n",
    "            fib_series = []\n",
    "\n",
    "        if n >= 0:\n",
    "            fib_series.append(a)\n",
    "            series(n - 1, b, a + b, fib_series)\n",
    "\n",
    "        return fib_series\n",
    "series(5)"
   ]
  },
  {
   "cell_type": "code",
   "execution_count": 39,
   "id": "32496e72-36d2-4b21-8c1b-ce800a778a6b",
   "metadata": {},
   "outputs": [
    {
     "name": "stdout",
     "output_type": "stream",
     "text": [
      "[0, 2, 3, 5]\n"
     ]
    }
   ],
   "source": [
    "#return sum of all subsets in a array\n",
    "def subset_sums(arr, n):\n",
    "    result = [0]\n",
    "\n",
    "    for num in arr:\n",
    "        current_size = len(result)\n",
    "        for i in range(current_size):\n",
    "            result.append(result[i] + num)\n",
    "\n",
    "    return sorted(result)\n",
    "\n",
    "arr1 = [2, 3]\n",
    "n1 = 2\n",
    "output1 = subset_sums(arr1, n1)\n",
    "print(output1)  \n"
   ]
  },
  {
   "cell_type": "code",
   "execution_count": 8,
   "id": "80f610df-e155-4b73-a92a-3e6b7c982997",
   "metadata": {},
   "outputs": [
    {
     "name": "stdin",
     "output_type": "stream",
     "text": [
      " 1\n"
     ]
    },
    {
     "name": "stdout",
     "output_type": "stream",
     "text": [
      "H\n",
      "H   H   \n",
      "H   H   \n",
      "HHHHH \n",
      "H   H   \n",
      "H   H   \n",
      "    H \n"
     ]
    }
   ],
   "source": [
    "thickness = int(input()) \n",
    "c = 'H'\n",
    "for i in range(thickness):\n",
    "    print((c*i).rjust(thickness-1)+c+(c*i).ljust(thickness-1))\n",
    "\n",
    "for i in range(thickness+1):  print((c*thickness).center(thickness*2)+(c*thickness).center(thickness*6))\n",
    "\n",
    "for i in range((thickness+1)//2):\n",
    "    print((c*thickness*5).center(thickness*6))    \n",
    "\n",
    "for i in range(thickness+1): print((c*thickness).center(thickness*2)+(c*thickness).center(thickness*6))    \n",
    "\n",
    "for i in range(thickness):  print(((c*(thickness-i-1)).rjust(thickness)+c+(c*(thickness-i-1)).ljust(thickness)).rjust(thickness*6))"
   ]
  },
  {
   "cell_type": "code",
   "execution_count": 11,
   "id": "34e9be9b-3d9e-4213-b8bb-48b8e506dd22",
   "metadata": {},
   "outputs": [
    {
     "name": "stdout",
     "output_type": "stream",
     "text": [
      "15\n"
     ]
    }
   ],
   "source": [
    "# ele=[]\n",
    "# for i in range(5+1):\n",
    "#     ele.append(i)\n",
    "# print(sum(ele))\n",
    "\n",
    "# summ=0\n",
    "# tc=5\n",
    "# for i in range(tc+1):\n",
    "#     summ=summ+i\n",
    "# print(summ)\n",
    "\n",
    "n=5\n",
    "print(n*(n+1)//2)"
   ]
  },
  {
   "cell_type": "code",
   "execution_count": 10,
   "id": "4ded0c04-9ec1-4764-a9ac-36fda1156a7f",
   "metadata": {},
   "outputs": [
    {
     "name": "stdin",
     "output_type": "stream",
     "text": [
      " 4\n",
      " 1 2 3 4\n"
     ]
    },
    {
     "name": "stdout",
     "output_type": "stream",
     "text": [
      "Alternative elements: ['1', '3']\n"
     ]
    }
   ],
   "source": [
    "# print alternative elements in a array\n",
    "a = int(input())  # number of elements in an array\n",
    "elements = input().split()\n",
    "alternate_elements = []\n",
    "\n",
    "for i in range(0, len(elements), 2):\n",
    "    alternate_elements.append(elements[i])\n",
    "\n",
    "print(\"Alternative elements:\", alternate_elements)\n"
   ]
  },
  {
   "cell_type": "code",
   "execution_count": 7,
   "id": "ea705a2e-5e44-4f12-b43c-fdc695f8bbff",
   "metadata": {},
   "outputs": [
    {
     "name": "stdout",
     "output_type": "stream",
     "text": [
      "000000000000000000000000000101\n"
     ]
    }
   ],
   "source": [
    "#binary representation\n",
    "n=5\n",
    "width=30\n",
    "binary=format(n,f'0{width}b') # format function will convert decimal integer to binary string\n",
    "print(binary)"
   ]
  },
  {
   "cell_type": "code",
   "execution_count": null,
   "id": "c6cbd9c9-6087-4022-b69b-9599797ff80e",
   "metadata": {},
   "outputs": [],
   "source": [
    "# count leaf in a binary tree\n",
    "# Input:\n",
    "# Given Tree is \n",
    "#                4\n",
    "#              /   \\\n",
    "#             8     10\n",
    "#            /     /   \\\n",
    "#           7     5     1\n",
    "#          /\n",
    "#         3 \n",
    "# Output:\n",
    "# 3\n",
    "# Explanation: \n",
    "# Three leaves are 3 , 5 and 1.\n",
    "def countLeaves(root):\n",
    "    if root is None:\n",
    "        return 0\n",
    "    if (root.left is None and root.right is None):\n",
    "        return 1\n",
    "    else:\n",
    "        return countLeaves(root.left)+countLeaves(root.right)\n"
   ]
  },
  {
   "cell_type": "code",
   "execution_count": 1,
   "id": "ec6e898a-a4f0-4408-9e7d-7a766ba3b309",
   "metadata": {},
   "outputs": [],
   "source": [
    "# count non leaf nodes\n",
    "# Input:\n",
    "        # 1\n",
    "#      /    \\\n",
    "#     2      3  \n",
    "#    /  \\\n",
    "#   4    5\n",
    "\n",
    "# Image\n",
    "# Output:\n",
    "# 2\n",
    "# Explanation:\n",
    "# Nodes 1 and 2 are the only non leaf nodes.\n",
    "def countNonLeafNodes(self, root):\n",
    "    if root is None:\n",
    "        return 0\n",
    "    if(root.left is None and  root.right is None):\n",
    "        return 0\n",
    "    else:\n",
    "        \n",
    "\n",
    "        return 1+countNonLeafNodes(root.left) +  countNonLeafNodes(root.right)\n"
   ]
  },
  {
   "cell_type": "code",
   "execution_count": null,
   "id": "d4eeeef8-a3b2-4fdf-a636-26375220e99f",
   "metadata": {},
   "outputs": [],
   "source": [
    "# Lowest common ancestor in binary tree\n",
    "# Input:\n",
    "# n1 = 3 , n2 = 4\n",
    "#            5    \n",
    "#           /    \n",
    "#          2  \n",
    "#         / \\  \n",
    "#        3   4\n",
    "# Output: 2\n",
    "# Explanation:\n",
    "# LCA of 3 and 4 is 2. \n",
    "def lca(self, root, n1, n2):\n",
    "        # Base case: if the root is None or if either n1 or n2 is found, return root\n",
    "        if root is None or root.data == n1 or root.data == n2:\n",
    "            return root\n",
    "        \n",
    "        # Recursively search for LCA in the left and right subtrees\n",
    "        left_lca = self.lca(root.left, n1, n2)\n",
    "        right_lca = self.lca(root.right, n1, n2)\n",
    "        \n",
    "        # If both nodes are found in different subtrees, the current root is the LCA\n",
    "        if left_lca is not None and right_lca is not None:\n",
    "            return root\n",
    "        \n",
    "        # Otherwise, return the non-None result (either left or right LCA)\n",
    "        return left_lca if left_lca is not None else right_lca"
   ]
  },
  {
   "cell_type": "code",
   "execution_count": 1,
   "id": "25653015-f869-4cb6-8bc8-3a335006a1a6",
   "metadata": {},
   "outputs": [],
   "source": [
    "# In-Order Traversal:\n",
    "\n",
    "# In-order traversal visits the nodes in the order: left child, current node, right child.\n",
    "# For a binary search tree (BST), in-order traversal results in visiting the nodes in ascending order.\n",
    "# Example:\n",
    "\n",
    "# mathematica\n",
    "# Copy code\n",
    "# In-Order Traversal: 2 3 5 7 8\n",
    "#      5\n",
    "#     / \\\n",
    "#    3   7\n",
    "#   /   / \\\n",
    "#  2   6   8\n",
    "# Pre-Order Traversal:\n",
    "\n",
    "# Pre-order traversal visits the nodes in the order: current node, left child, right child.\n",
    "# It's often used to create a copy of the tree, as the root of the current subtree is processed before its children.\n",
    "# Example:\n",
    "\n",
    "# css\n",
    "# Copy code\n",
    "# Pre-Order Traversal: 5 3 2 7 6 8\n",
    "#      5\n",
    "#     / \\\n",
    "#    3   7\n",
    "#   /   / \\\n",
    "#  2   6   8\n",
    "# Post-Order Traversal:\n",
    "\n",
    "# Post-order traversal visits the nodes in the order: left child, right child, current node.\n",
    "# It's often used for deleting nodes, as you process the children before the parent.\n",
    "# Example:\n",
    "\n",
    "# css\n",
    "# Copy code\n",
    "# Post-Order Traversal: 2 3 6 8 7 5\n",
    "#      5\n",
    "#     / \\\n",
    "#    3   7\n",
    "#   /   / \\\n",
    "#  2   6   8"
   ]
  },
  {
   "cell_type": "code",
   "execution_count": null,
   "id": "4851720b-0fcb-4abf-b3bd-ee8f6f04bafd",
   "metadata": {},
   "outputs": [],
   "source": [
    "#preorder\n",
    "# Given a binary tree, find its preorder traversal.\n",
    "\n",
    "# Example 1:\n",
    "\n",
    "# Input:\n",
    "#         1      \n",
    "#       /          \n",
    "#     4    \n",
    "#   /    \\   \n",
    "# 4       2\n",
    "# Output: 1 4 4 2 \n",
    "# Example 2:\n",
    "\n",
    "# Input:\n",
    "#        6\n",
    "#      /   \\\n",
    "#     3     2\n",
    "#      \\   / \n",
    "#       1 2\n",
    "# Output: 6 3 1 2 2 \n",
    "def preorder(root):\n",
    "    if not root:\n",
    "        return []\n",
    "    return [root.data] + preorder(root.left) + preorder(root.right)"
   ]
  },
  {
   "cell_type": "code",
   "execution_count": null,
   "id": "8bed69b1-2603-498a-87f0-09f06ce3ba73",
   "metadata": {},
   "outputs": [],
   "source": []
  },
  {
   "cell_type": "code",
   "execution_count": null,
   "id": "3773cde2-0c85-4e13-95b7-3571a905cfab",
   "metadata": {},
   "outputs": [],
   "source": [
    "# merge 2 binary search tree\n",
    "# Given two BSTs, return elements of both BSTs in sorted form.\n",
    "\n",
    "# Example 1:\n",
    "\n",
    "# Input:\n",
    "# BST1:\n",
    "#        5\n",
    "#      /   \\\n",
    "#     3     6\n",
    "#    / \\\n",
    "#   2   4  \n",
    "# BST2:\n",
    "#         2\n",
    "#       /   \\\n",
    "#      1     3\n",
    "#             \\\n",
    "#              7\n",
    "#             /\n",
    "#            6\n",
    "# Output: 1 2 2 3 3 4 5 6 6 7\n",
    "# Explanation: \n",
    "# After merging and sorting the\n",
    "# two BST we get 1 2 2 3 3 4 5 6 6 7.\n",
    "\n",
    "def merge(self, root1, root2):\n",
    "        result = []  # List to store merged and sorted elements\n",
    "        \n",
    "        # Helper function to perform in-order traversal of BST and store elements in a list\n",
    "        def inorder_traversal(node):\n",
    "            if node:\n",
    "                inorder_traversal(node.left)\n",
    "                result.append(node.data)\n",
    "                inorder_traversal(node.right)\n",
    "\n",
    "        # Perform in-order traversal for both BSTs\n",
    "        inorder_traversal(root1)\n",
    "        inorder_traversal(root2)\n",
    "\n",
    "        return result"
   ]
  },
  {
   "cell_type": "code",
   "execution_count": null,
   "id": "799bf6fe-d468-4753-94c4-fdee9d09cd25",
   "metadata": {},
   "outputs": [],
   "source": [
    "# Construct Tree from Inorder & Preorder\n",
    "# MediumAccuracy: 34.59%Submissions: 146K+Points: 4\n",
    "# Fast-Track your resumes to top tech companies and get the job you deserve! Register for hiring challenge exclusively for Freshers  \n",
    "\n",
    "# Example 1:\n",
    "\n",
    "# Input:\n",
    "# N = 4\n",
    "# inorder[] = {1 6 8 7}\n",
    "# preorder[] = {1 6 7 8}\n",
    "# Output: 8 7 6 1\n",
    "# Example 2:\n",
    "\n",
    "# Input:\n",
    "# N = 6\n",
    "# inorder[] = {3 1 4 0 5 2}\n",
    "# preorder[] = {0 1 3 4 2 5}\n",
    "# Output: 3 4 1 5 2 0\n",
    "# Explanation: The tree will look like\n",
    "#        0\n",
    "#     /     \\\n",
    "#    1       2\n",
    "#  /   \\    /\n",
    "# 3    4   5\n",
    "def buildtree(self, inorder, preorder, n):\n",
    "        if not inorder or not preorder or n == 0:\n",
    "            return None\n",
    "\n",
    "        # The first element in preorder is the root of the current subtree\n",
    "        root_val = preorder[0]\n",
    "        root = TreeNode(root_val)\n",
    "\n",
    "        # Find the index of the root value in inorder traversal\n",
    "        root_index = inorder.index(root_val)\n",
    "\n",
    "        # Recursively build left and right subtrees\n",
    "        root.left = self.buildtree(inorder[:root_index], preorder[1:1 + root_index], root_index)\n",
    "        root.right = self.buildtree(inorder[root_index + 1:], preorder[1 + root_index:], n - root_index - 1)\n",
    "\n",
    "        return root\n",
    "\n",
    "    def postorderTraversal(self, root):\n",
    "        result = []\n",
    "\n",
    "        def postorder(node):\n",
    "            if node:\n",
    "                postorder(node.left)\n",
    "                postorder(node.right)\n",
    "                result.append(node.val)\n",
    "\n",
    "        postorder(root)\n",
    "        return result\n"
   ]
  },
  {
   "cell_type": "code",
   "execution_count": null,
   "id": "940b11e0-6c15-454d-b782-f50f3dc64880",
   "metadata": {},
   "outputs": [],
   "source": [
    "# mirror tree\n",
    "# Example 1:\n",
    "\n",
    "# Input:\n",
    "#       1\n",
    "#     /  \\\n",
    "#    2    3\n",
    "# Output: 3 1 2\n",
    "# Explanation: The tree is\n",
    "#    1    (mirror)  1\n",
    "#  /  \\    =>      /  \\\n",
    "# 2    3          3    2\n",
    "# The inorder of mirror is 3 1 2\n",
    "def mirror(self, root):\n",
    "        if root:\n",
    "            # Swap left and right subtrees\n",
    "            root.left, root.right = root.right, root.left\n",
    "            \n",
    "            # Recursively mirror left and right subtrees\n",
    "            self.mirror(root.left)\n",
    "            self.mirror(root.right)\n",
    "\n",
    "    # Helper function to perform inorder traversal\n",
    "    def inorderTraversal(self, root):\n",
    "        result = []\n",
    "\n",
    "        def inorder(node):\n",
    "            if node:\n",
    "                inorder(node.left)\n",
    "                result.append(node.val)\n",
    "                inorder(node.right)\n",
    "\n",
    "        inorder(root)\n",
    "        return result"
   ]
  },
  {
   "cell_type": "code",
   "execution_count": null,
   "id": "49b10d80-fb56-4094-ba08-3560c6e491c9",
   "metadata": {},
   "outputs": [],
   "source": [
    "# Given a binary tree, find its preorder traversal.\n",
    "\n",
    "# Example 1:\n",
    "\n",
    "# Input:\n",
    "#         1      \n",
    "#       /          \n",
    "#     4    \n",
    "#   /    \\   \n",
    "# 4       2\n",
    "# Output: 1 4 4 2 \n",
    "def preorder(root):\n",
    "    if not root:\n",
    "        return []\n",
    "    return [root.data] + preorder(root.left) + preorder(root.right)\n"
   ]
  },
  {
   "cell_type": "code",
   "execution_count": null,
   "id": "99824a17-a77b-436f-b464-5ddb616280f7",
   "metadata": {},
   "outputs": [],
   "source": [
    "# Example 2:\n",
    "\n",
    "# Input:\n",
    "#         10\n",
    "#      /      \\ \n",
    "#     20       30 \n",
    "#   /    \\    /\n",
    "#  40    60  50\n",
    "# Output: 40 20 60 10 50 30\n",
    "\n",
    "def InOrder(self,root):\n",
    "        if not root:\n",
    "            return []\n",
    "        return self.InOrder(root.left) +[root.data]+self.InOrder(root.right)"
   ]
  },
  {
   "cell_type": "code",
   "execution_count": null,
   "id": "63e08ccf-e6ee-4e2a-9175-c316acd4bf48",
   "metadata": {},
   "outputs": [],
   "source": [
    "# post order\n",
    "# Example 1:\n",
    "\n",
    "# Input:\n",
    "#         19\n",
    "#      /     \\\n",
    "#     10      8\n",
    "#   /    \\\n",
    "#  11    13\n",
    "# Output: 11 13 10 8 19\n",
    "def postOrder(root):\n",
    "    if not root:\n",
    "        return []\n",
    "    return postOrder(root.left) + postOrder(root.right)+[root.data]"
   ]
  },
  {
   "cell_type": "code",
   "execution_count": 1,
   "id": "7dcad8a4-07bd-4c84-9888-506a2054184e",
   "metadata": {},
   "outputs": [
    {
     "data": {
      "text/plain": [
       "5"
      ]
     },
     "execution_count": 1,
     "metadata": {},
     "output_type": "execute_result"
    }
   ],
   "source": [
    "a=[1,2,3,4,5]\n",
    "len(a)"
   ]
  },
  {
   "cell_type": "code",
   "execution_count": 19,
   "id": "ca636b27-7cca-4457-8942-142e1ff4fc99",
   "metadata": {},
   "outputs": [
    {
     "name": "stdout",
     "output_type": "stream",
     "text": [
      "0.400000\n",
      "0.400000\n",
      "0.200000\n"
     ]
    }
   ],
   "source": [
    "# interview preparations\n",
    "# 1\n",
    "# Given an array of integers, calculate the ratios of its elements that are positive, negative, and zero. Print the decimal value of each fraction on a new line with  places after the decimal.\n",
    "\n",
    "# Note: This challenge introduces precision problems. The test cases are scaled to six decimal places, though answers with absolute error of up to  are acceptable.\n",
    "\n",
    "# Example\n",
    "\n",
    "# There are  elements, two positive, two negative and one zero. Their ratios are ,  and . Results are printed as:\n",
    "\n",
    "# 0.400000\n",
    "# 0.400000\n",
    "# 0.200000\n",
    "\n",
    "# SIMPLY COUNT NUMBER OF +VS,-VE AND 0'S IN A ARRAY AND DIVIDE EACH WITH LEN(ARRAY)\n",
    "arr=[1,1,0,-1,-1]\n",
    "pos=0\n",
    "neg=0\n",
    "zer=0\n",
    "for i in arr:\n",
    "    if i<0:\n",
    "        neg=neg+1\n",
    "resN=neg/len(arr)\n",
    "print(\"{:.6f}\".format(resN))\n",
    "for j in arr:\n",
    "    if j>0:\n",
    "        pos=pos+1\n",
    "resP=pos/len(arr)\n",
    "print(\"{:.6f}\".format(resP))\n",
    "for k in arr:\n",
    "    if k == 0:\n",
    "        zer=zer+1\n",
    "resZ=zer/len(arr)\n",
    "print(\"{:.6f}\".format(resZ))\n",
    "\n",
    "# #!/bin/python3\n",
    "\n",
    "# import math\n",
    "# import os\n",
    "# import random\n",
    "# import re\n",
    "# import sys\n",
    "\n",
    "# #\n",
    "# # Complete the 'plusMinus' function below.\n",
    "# #\n",
    "# # The function accepts INTEGER_ARRAY arr as parameter.\n",
    "# #\n",
    "\n",
    "# def plusMinus(arr):\n",
    "#     pos=0\n",
    "#     neg=0\n",
    "#     zer=0\n",
    "#     for i in arr:\n",
    "#         if i<0:\n",
    "#             neg=neg+1\n",
    "#     resN=neg/len(arr)\n",
    "#     for j in arr:\n",
    "#         if j>0:\n",
    "#             pos=pos+1\n",
    "#     resP=pos/len(arr)\n",
    "#     for k in arr:\n",
    "#         if k == 0:\n",
    "#             zer=zer+1\n",
    "#     resZ=zer/len(arr)\n",
    "#     print(\"{:.6f}\".format(resP))\n",
    "    \n",
    "#     print(\"{:.6f}\".format(resN))\n",
    "\n",
    "#     print(\"{:.6f}\".format(resZ))\n",
    "#     # Write your code here\n",
    "\n",
    "# if __name__ == '__main__':\n",
    "#     n = int(input().strip())\n",
    "\n",
    "#     arr = list(map(int, input().rstrip().split()))\n",
    "\n",
    "#     plusMinus(arr)\n"
   ]
  },
  {
   "cell_type": "code",
   "execution_count": 28,
   "id": "8cf7b93a-f195-4050-9332-38fe489445e1",
   "metadata": {},
   "outputs": [
    {
     "data": {
      "text/plain": [
       "(16, 24)"
      ]
     },
     "execution_count": 28,
     "metadata": {},
     "output_type": "execute_result"
    }
   ],
   "source": [
    "# Example\n",
    "# The minimum sum is 1+3+5+7 and the maximum sum is 3+5+7+9 . The function prints\n",
    "\n",
    "# 16 24\n",
    "a=[1,3,5,7,9]\n",
    "a=sorted(a)\n",
    "sm=sum(a)-a[-1]\n",
    "\n",
    "lg=sum(a)-a[0]\n",
    "\n",
    "sm,lg\n",
    "#!/bin/python3\n",
    "\n",
    "# import math\n",
    "# import os\n",
    "# import random\n",
    "# import re\n",
    "# import sys\n",
    "\n",
    "# #\n",
    "# # Complete the 'miniMaxSum' function below.\n",
    "# #\n",
    "# # The function accepts INTEGER_ARRAY arr as parameter.\n",
    "# #\n",
    "\n",
    "# def miniMaxSum(arr):\n",
    "#     arr=sorted(arr)\n",
    "#     sm=sum(arr)-arr[-1]\n",
    "#     lg=sum(arr)-arr[0]\n",
    "#     print(sm,lg)\n",
    "#     # Write your code here\n",
    "\n",
    "# if __name__ == '__main__':\n",
    "\n",
    "#     arr = list(map(int, input().rstrip().split()))\n",
    "\n",
    "#     miniMaxSum(arr)\n"
   ]
  },
  {
   "cell_type": "code",
   "execution_count": 38,
   "id": "c3c38c31-d8bd-47e2-934d-0aefc34e8f2c",
   "metadata": {},
   "outputs": [
    {
     "data": {
      "text/plain": [
       "(datetime.datetime(1900, 1, 1, 19, 5, 45), '19:05:45')"
      ]
     },
     "execution_count": 38,
     "metadata": {},
     "output_type": "execute_result"
    }
   ],
   "source": [
    "# Sample Input\n",
    "\n",
    "# 07:05:45PM\n",
    "# Sample Output\n",
    "\n",
    "# 19:05:45\n",
    "\n",
    "# input time to railway time\n",
    "from datetime import datetime\n",
    "input_time = \"07:05:45PM\"\n",
    "sep=datetime.strptime(input_time,\"%I:%M:%S%p\")\n",
    "# datetime.datetime(1900, 1, 1, 19, 5, 45) - year,month,day,hour,minute,second\n",
    "res=sep.strftime(\"%H:%M:%S\")\n",
    "sep,res"
   ]
  },
  {
   "cell_type": "code",
   "execution_count": 17,
   "id": "64f42fd3-f4bb-4e13-827f-8036ba4d9fba",
   "metadata": {},
   "outputs": [
    {
     "name": "stdout",
     "output_type": "stream",
     "text": [
      "2\n"
     ]
    }
   ],
   "source": [
    "# lonely integer\n",
    "# using bitwise XOR (exclusive OR) operations. XOR has the property that if you XOR a number with itself, the result is 0. So, \n",
    "# by XORing all the elements in the list, the duplicates will cancel each other out\n",
    "result = 0\n",
    "arr=[1,1,2,3,3,4,4]\n",
    "for num in arr:\n",
    "    result ^= num\n",
    "print(result)"
   ]
  },
  {
   "cell_type": "code",
   "execution_count": 28,
   "id": "1eac0100-df71-4194-8b26-36d59ae186ee",
   "metadata": {},
   "outputs": [
    {
     "data": {
      "text/plain": [
       "2"
      ]
     },
     "execution_count": 28,
     "metadata": {},
     "output_type": "execute_result"
    }
   ],
   "source": [
    "# Sample Input\n",
    "\n",
    "# 3\n",
    "# 11 2 4\n",
    "# 4 5 6\n",
    "# 10 8 -12\n",
    "# Sample Output\n",
    "\n",
    "# 15\n",
    "# Explanation\n",
    "\n",
    "# The primary diagonal is:\n",
    "\n",
    "# 11\n",
    "#    5\n",
    "#      -12\n",
    "# Sum across the primary diagonal: 11 + 5 - 12 = 4\n",
    "\n",
    "# The secondary diagonal is:\n",
    "\n",
    "#      4\n",
    "#    5\n",
    "# 10\n",
    "# Sum across the secondary diagonal: 4 + 5 + 10 = 19\n",
    "# Difference: |4 - 19| = 15\n",
    "arr = [[1, 2, 3],\n",
    "       [4, 5, 6],\n",
    "       [9, 8, 9]]\n",
    "\n",
    "temp = 0\n",
    "emp = 0\n",
    "for i in range(0,len(arr)):\n",
    "    temp = temp + arr[i][i]\n",
    "\n",
    "for j in range(0,len(arr)):\n",
    "    emp = emp + arr[j][len(arr)-1-j]\n",
    "\n",
    "abs(temp - emp)"
   ]
  },
  {
   "cell_type": "code",
   "execution_count": 9,
   "id": "2af32a53-63a1-4792-81c5-64ac05810f3b",
   "metadata": {},
   "outputs": [
    {
     "name": "stdout",
     "output_type": "stream",
     "text": [
      "0 2 2 2 2 1 0 0 0 0 0 0 0 0 0 0 0 0 0 0 0 0 0 0 0 0 0 0 0 0 0 0 0 0 0 0 0 0 0 0 0 0 0 0 0 0 0 0 0 0 0 0 0 0 0 0 0 0 0 0 0 0 0 0 0 0 0 0 0 0 0 0 0 0 0 0 0 0 0 0 0 0 0 0 0 0 0 0 0 0 0 0 0 0 0 0 0 0 0 0\n"
     ]
    }
   ],
   "source": [
    "def count_frequency(arr):\n",
    "    # Initialize a frequency array with 100 elements, all set to 0\n",
    "    frequency_array = [0] * 100\n",
    "\n",
    "    # Iterate through the input list and update the frequency array\n",
    "    for num in arr:\n",
    "        frequency_array[num] += 1\n",
    "\n",
    "    return frequency_array\n",
    "\n",
    "# Read the input\n",
    "# n = int(input())\n",
    "# input_list = list(map(int, input().split()))\n",
    "# input_list=[63, 25, 73, 1, 98, 73, 56, 84, 86, 57, 16, 83, 8, 25, 81, 56, 9 ,53, 98, 67 ,99 ,12 ,83 ,89 ,80 ,91 ,39, 86, 76, 85, 74, 39, 25, 90, 59, 10, 94, 32, 44, 3 ,89 ,30 ,27 ,79, 46, 96, 27, 32 ,18, 21, 92, 69, 81, 40, 40, 34, 68, 78 ,24 ,87 ,42 ,69 ,23 ,41 ,78 ,22 ,6 ,90 ,99 ,89 ,50 ,30 ,20 ,1 ,43 ,3 ,70 ,95 ,33 ,46 ,44 ,9 ,69 ,48 ,33 ,60 ,65 ,16 ,82 ,67, 61 ,32 ,21, 79 ,75 ,75, 13, 87 ,70, 33  \n",
    "# ]\n",
    "input_list=[1,2,3,4,5,1,2,3,4]\n",
    "# Call the function to get the frequency array\n",
    "result = count_frequency(input_list)\n",
    "\n",
    "# Print the result\n",
    "print(*result) # without * in result we get a list.\n"
   ]
  },
  {
   "cell_type": "code",
   "execution_count": 11,
   "id": "16de6fc3-ea80-4c58-81fc-0e319f304cb9",
   "metadata": {},
   "outputs": [],
   "source": [
    "\n",
    "# import math\n",
    "# import os\n",
    "# import random\n",
    "# import re\n",
    "# import sys\n",
    "\n",
    "\n",
    "\n",
    "# #\n",
    "# # Complete the 'flippingMatrix' function below.\n",
    "# #\n",
    "# # The function is expected to return an INTEGER.\n",
    "# # The function accepts 2D_INTEGER_ARRAY matrix as parameter.\n",
    "# #\n",
    "\n",
    "# def flippingMatrix(matrix):\n",
    "#     n=len(matrix)\n",
    "#     s=0\n",
    "#     for i in range(n//2):\n",
    "#         for j in range(n//2):\n",
    "#             s+=max(matrix[i][j],matrix[i][n-j-1],matrix[n-i-1][j],matrix[n-i-1][n-j-1])\n",
    "#     return s\n",
    "#     # Write your code here\n",
    "\n",
    "# if __name__ == '__main__':\n",
    "#     fptr = open(os.environ['OUTPUT_PATH'], 'w')\n",
    "\n",
    "#     q = int(input().strip())\n",
    "\n",
    "#     for q_itr in range(q):\n",
    "#         n = int(input().strip())\n",
    "\n",
    "#         matrix = []\n",
    "\n",
    "#         for _ in range(2 * n):\n",
    "#             matrix.append(list(map(int, input().rstrip().split())))\n",
    "\n",
    "#         result = flippingMatrix(matrix)\n",
    "\n",
    "#         fptr.write(str(result) + '\\n')\n",
    "\n",
    "#     fptr.close()\n"
   ]
  },
  {
   "cell_type": "code",
   "execution_count": null,
   "id": "33632d74-3ad1-4548-8087-bcb4aab1274a",
   "metadata": {},
   "outputs": [],
   "source": [
    "# Minimum element in BST\n",
    "# Given a Binary Search Tree. The task is to find the minimum valued element in this given BST.\n",
    "\n",
    "# Example 1:\n",
    "\n",
    "# Input:\n",
    "#            5\n",
    "#          /    \\\n",
    "#         4      6\n",
    "#        /        \\\n",
    "#       3          7\n",
    "#      /\n",
    "#     1\n",
    "# Output: 1\n",
    "# Base case: if the tree is empty, return None\n",
    "def minval(root):\n",
    "    if root is None:\n",
    "        return None\n",
    "\n",
    "    # Traverse to the leftmost leaf (minimum value in a BST)\n",
    "    current = root\n",
    "    while current.left is not None:\n",
    "        current = current.left\n",
    "\n",
    "    # Return the minimum value\n",
    "    return current.data"
   ]
  },
  {
   "cell_type": "code",
   "execution_count": 48,
   "id": "02b5bdc9-2898-4aee-bee4-356a6beb6263",
   "metadata": {},
   "outputs": [
    {
     "name": "stdout",
     "output_type": "stream",
     "text": [
      "[20, 21, 22, 23]\n",
      "[3.0, 1.5, 0.0, 1.5]\n",
      "2\n"
     ]
    }
   ],
   "source": [
    "# Lily likes to play games with integers. She has created a new game where she determines the difference between a number and its reverse. For instance, given the number , its reverse is . Their difference is . The number  reversed is , and their difference is .\n",
    "\n",
    "# She decides to apply her game to decision making. She will look at a numbered range of days and will only go to a movie on a beautiful day.\n",
    "\n",
    "# Given a range of numbered days,  and a number , determine the number of days in the range that are beautiful. Beautiful numbers are defined as numbers where  is evenly divisible by . If a day's value is a beautiful number, it is a beautiful day. Return the number of beautiful days in the range.\n",
    "\n",
    "# Function Description\n",
    "\n",
    "# Complete the beautifulDays function in the editor below.\n",
    "\n",
    "# beautifulDays has the following parameter(s):\n",
    "\n",
    "# int i: the starting day number\n",
    "# int j: the ending day number\n",
    "# int k: the divisor\n",
    "# Returns\n",
    "\n",
    "# int: the number of beautiful days in the range\n",
    "# Input Format\n",
    "\n",
    "# A single line of three space-separated integers describing the respective values of , , and .\n",
    "\n",
    "# Constraints\n",
    "\n",
    "# Sample Input\n",
    "\n",
    "# 20 23 6\n",
    "# Sample Output\n",
    "\n",
    "# 2\n",
    "# Explanation\n",
    "\n",
    "# Lily may go to the movies on days , , , and . We perform the following calculations to determine which days are beautiful:\n",
    "\n",
    "# Day  is beautiful because the following evaluates to a whole number: \n",
    "# Day  is not beautiful because the following doesn't evaluate to a whole number: \n",
    "# Day  is beautiful because the following evaluates to a whole number: \n",
    "# Day  is not beautiful because the following doesn't evaluate to a whole number: \n",
    "# Only two days,  and , in this interval are beautiful. Thus, we print  as our answer.\n",
    "import math\n",
    "st=20\n",
    "en=23\n",
    "num=[]\n",
    "for i in range(st,en+1):\n",
    "    num.append(i)\n",
    "print(num)\n",
    "res=[]\n",
    "div=6\n",
    "for j in num:\n",
    "    string = str(j) \n",
    "      \n",
    "    # reversing the string \n",
    "    string = list(string) \n",
    "    string.reverse() \n",
    "    string = ''.join(string) \n",
    "    \n",
    "    # converting string to integer \n",
    "    new = int(string)\n",
    "    j=int(j)\n",
    "    \n",
    "    resul=abs((j-new)/div)\n",
    "    res.append(resul)\n",
    "\n",
    "# returning integer \n",
    "\n",
    "s=0\n",
    "for k in res:\n",
    "    if k.is_integer():\n",
    "        s+=1\n",
    "print(res)\n",
    "print(s)\n",
    "# res = []\n",
    "#     for r in range(i, j+1):\n",
    "#         string = str(r) \n",
    "#         string = list(string) \n",
    "#         string.reverse() \n",
    "#         string = ''.join(string) \n",
    "#         new = int(string)\n",
    "#         res.append(abs((r-new)/k))\n",
    "#     return len([num for num in res if num.is_integer()])\n",
    "\n"
   ]
  },
  {
   "cell_type": "code",
   "execution_count": null,
   "id": "79e5d4f7-0a16-48f8-bd2e-307b3b424245",
   "metadata": {},
   "outputs": [],
   "source": []
  },
  {
   "cell_type": "code",
   "execution_count": null,
   "id": "76e8c250-c4e6-4358-ae54-882893bfdae0",
   "metadata": {},
   "outputs": [],
   "source": []
  },
  {
   "cell_type": "code",
   "execution_count": null,
   "id": "c1c7d69d-506a-4ea3-900c-8bb0e4e062b0",
   "metadata": {},
   "outputs": [],
   "source": []
  },
  {
   "cell_type": "code",
   "execution_count": 10,
   "id": "65968788-9a8f-4490-89e4-482e5d7d2701",
   "metadata": {},
   "outputs": [],
   "source": [
    "# Given a set of distinct integers, print the size of a maximal subset of  where the sum of any  numbers in  is not evenly divisible by .\n",
    "\n",
    "# Example\n",
    " \n",
    "\n",
    "# One of the arrays that can be created is . Another is . After testing all permutations, the maximum length solution array has  elements.\n",
    "\n",
    "# Function Description\n",
    "\n",
    "# Complete the nonDivisibleSubset function in the editor below.\n",
    "\n",
    "# nonDivisibleSubset has the following parameter(s):\n",
    "\n",
    "# int S[n]: an array of integers\n",
    "# int k: the divisor\n",
    "# Returns\n",
    "\n",
    "# int: the length of the longest subset of  meeting the criteria\n",
    "# Input Format\n",
    "\n",
    "# The first line contains  space-separated integers,  and , the number of values in  and the non factor.\n",
    "# The second line contains  space-separated integers, each an , the unique values of the set.\n",
    "\n",
    "# Constraints\n",
    "\n",
    "# All of the given numbers are distinct.\n",
    "# Sample Input\n",
    "\n",
    "# STDIN    Function\n",
    "# -----    --------\n",
    "# 4 3      S[] size n = 4, k = 3\n",
    "# 1 7 2 4  S = [1, 7, 2, 4]\n",
    "# Sample Output\n",
    "\n",
    "# 3\n",
    "# Explanation\n",
    "\n",
    "# The sums of all permutations of two elements from  are:\n",
    "\n",
    "# 1 + 7 = 8\n",
    "# 1 + 2 = 3\n",
    "# 1 + 4 = 5\n",
    "# 7 + 2 = 9\n",
    "# 7 + 4 = 11\n",
    "# 2 + 4 = 6\n",
    "# Only  will not ever sum to a multiple of .\n",
    "\n",
    "# Contest ends in 8 minutes\n",
    "# Submissions: 4\n",
    "# Max Score: 100\n",
    "# Difficulty: Medium\n",
    "# Rate This Challenge:\n",
    "remainderArr = [0]*k\n",
    "for i in s:\n",
    "    remainderArr[i%k] += 1\n",
    "\n",
    "maxLength = 0\n",
    "maxLength += min(remainderArr[0],1)\n",
    "\n",
    "if k%2==0:\n",
    "    maxLength += min(remainderArr[k//2],1)\n",
    "\n",
    "for i in range(1,k//2+1):\n",
    "    if i != k-i:\n",
    "        maxLength += max(remainderArr[i],remainderArr[k-i])\n",
    "\n",
    "return maxLength\n",
    "\n",
    "\n",
    "\n",
    "# from itertools import permutations\n",
    "\n",
    "# # Read input\n",
    "# n, k = 4,3 # n - number of elements in array, k- divisible factor\n",
    "# S = [1,7,2,4] # elements\n",
    "\n",
    "# # Keep track of already printed pairs\n",
    "# printed_pairs = set()\n",
    "\n",
    "# # Calculate and print the sorted permutations of two elements\n",
    "# for perm in permutations(S, 2):\n",
    "#     sorted_perm = sorted(perm)\n",
    "#     if tuple(sorted_perm) not in printed_pairs:\n",
    "#         print(sorted_perm)\n",
    "#         printed_pairs.add(tuple(sorted_perm))\n",
    "# lst=[]\n",
    "# for i in printed_pairs:\n",
    "#     if sum(i) % k ==0:\n",
    "#         lst.append(i)\n",
    "# len(lst)\n",
    "\n",
    "\n",
    "\n",
    "# # Print the result\n",
    "\n",
    "# # 1 + 7 = 8\n",
    "# # 1 + 2 = 3\n",
    "# # 1 + 4 = 5\n",
    "# # 7 + 2 = 9\n",
    "# # 7 + 4 = 11\n",
    "# # 2 + 4 = 6\n"
   ]
  },
  {
   "cell_type": "code",
   "execution_count": 1,
   "id": "1bfecb60-4744-421b-94aa-f51e3a86be16",
   "metadata": {},
   "outputs": [
    {
     "name": "stdout",
     "output_type": "stream",
     "text": [
      "List of elements in the BST: [3, 5, 7, 10, 15, 20]\n"
     ]
    }
   ],
   "source": [
    "# add nodes in a list\n",
    "class TreeNode:\n",
    "    def __init__(self, key):\n",
    "        self.key = key\n",
    "        self.left = None\n",
    "        self.right = None\n",
    "\n",
    "def inorder_traversal(root, result_list):\n",
    "    if root:\n",
    "        # Traverse the left subtree\n",
    "        inorder_traversal(root.left, result_list)\n",
    "        \n",
    "        # Visit the current node\n",
    "        result_list.append(root.key)\n",
    "        \n",
    "        # Traverse the right subtree\n",
    "        inorder_traversal(root.right, result_list)\n",
    "\n",
    "# Example usage:\n",
    "# Construct a simple BST\n",
    "root = TreeNode(10)\n",
    "root.left = TreeNode(5)\n",
    "root.right = TreeNode(15)\n",
    "root.left.left = TreeNode(3)\n",
    "root.left.right = TreeNode(7)\n",
    "root.right.right = TreeNode(20)\n",
    "\n",
    "# Initialize an empty list to store elements\n",
    "elements_list = []\n",
    "\n",
    "# Perform an in-order traversal to populate the list\n",
    "inorder_traversal(root, elements_list)\n",
    "\n",
    "# Print the list of elements\n",
    "print(\"List of elements in the BST:\", elements_list)\n"
   ]
  },
  {
   "cell_type": "code",
   "execution_count": 2,
   "id": "9772c853-2c6d-4f72-ab50-b16b50386c9d",
   "metadata": {},
   "outputs": [
    {
     "name": "stdout",
     "output_type": "stream",
     "text": [
      "Node with key 7 found in the BST.\n"
     ]
    }
   ],
   "source": [
    "# Given a Binary Search Tree and a node value X, find if the node with value X is present in the BST or not.\n",
    "\n",
    "# Example 1:\n",
    "\n",
    "# Input:         2\n",
    "#                 \\\n",
    "#                  81 \n",
    "#                /    \\ \n",
    "#              42      87 \n",
    "#               \\       \\ \n",
    "#                66      90 \n",
    "#               / \n",
    "#             45\n",
    "# X = 87\n",
    "# Output: 1\n",
    "# Explanation: As 87 is present in the\n",
    "# given nodes , so the output will be 1\n",
    "class TreeNode:\n",
    "    def __init__(self, key):\n",
    "        self.key = key\n",
    "        self.left = None\n",
    "        self.right = None\n",
    "\n",
    "def search_bst(root, key):\n",
    "    # Base cases: the root is None or the key is found\n",
    "    if root is None or root.key == key:\n",
    "        return root\n",
    "    \n",
    "    # If the key is smaller, search in the left subtree\n",
    "    if key < root.key: # search_key\n",
    "        return search_bst(root.left, key)\n",
    "    \n",
    "    # If the key is larger, search in the right subtree\n",
    "    return search_bst(root.right, key)\n",
    "\n",
    "# Example usage:\n",
    "# Construct a simple BST\n",
    "root = TreeNode(10)\n",
    "root.left = TreeNode(5)\n",
    "root.right = TreeNode(15)\n",
    "root.left.left = TreeNode(3)\n",
    "root.left.right = TreeNode(7)\n",
    "root.right.right = TreeNode(20)\n",
    "\n",
    "# Search for a key in the BST\n",
    "search_key = 7\n",
    "result_node = search_bst(root, search_key)\n",
    "\n",
    "if result_node:\n",
    "    print(f\"Node with key {search_key} found in the BST.\")\n",
    "else:\n",
    "    print(f\"Node with key {search_key} not found in the BST.\")\n"
   ]
  },
  {
   "cell_type": "code",
   "execution_count": null,
   "id": "677acaff-9cbc-4c3a-a26e-4c34fe36e521",
   "metadata": {},
   "outputs": [],
   "source": [
    "# Given a binary tree of size N, you have to count number of nodes in it. For example, count of nodes in below tree is 4.\n",
    "\n",
    "#         1\n",
    "#      /      \\\n",
    "#    10      39\n",
    "#   /\n",
    "# 5\n",
    "\n",
    "# Input:\n",
    "# First line of input contains the number of test cases T. For each test case, there will be only a single line of input which is a string representing the tree as described below: \n",
    "\n",
    "# The values in the string are in the order of level order traversal of the tree where, numbers denote node values, and a character “N” denotes NULL child.\n",
    "\n",
    "# For the above tree, the string will be: 1 2 3 N N 4 6 N 5 N N 7 N\n",
    "\n",
    "# Output:\n",
    "# For each testcase in new line, print the number of nodes.\n",
    "\n",
    "# User Task:\n",
    "# Since this is a functional problem you don't have to worry about input, you just have to complete the function getSize().\n",
    "\n",
    "# Constraints:\n",
    "# 1 <= T <= 30\n",
    "# 1 <= N <= 104\n",
    "# Example:\n",
    "# Input:\n",
    "# 2\n",
    "# 1 2 3\n",
    "# 10 5 9 N 1 3 6 \n",
    "\n",
    "# Output:\n",
    "# 3\n",
    "# 6\n",
    "\n",
    "# Explanation:\n",
    "# Testcase 2: Given Tree is :\n",
    "#                                 10\n",
    "#                              /        \\\n",
    "#                            5          9\n",
    "#                              \\       /     \\\n",
    "#                               1    3       6\n",
    "# There are six nodes in the tree .\n",
    "def getSize(node):\n",
    "    if node==None:\n",
    "        return 0\n",
    "    l=getSize(node.left)\n",
    "    r=getSize(node.right)\n",
    "    return 1+l+r\n"
   ]
  },
  {
   "cell_type": "code",
   "execution_count": null,
   "id": "306d2991-4c55-4db3-9d10-2f43aa60d338",
   "metadata": {},
   "outputs": [],
   "source": [
    "# zigzag sequence\n",
    "# Example.\n",
    "\n",
    "# a=[2,3,5,1,4]\n",
    "# Now if we permute the array as [1,4,5,3,2] , the result is a zig zag sequence.\n",
    "\n",
    "# Debug the given function findZigZagSequence to return the appropriate zig zag sequence for the given input array.\n",
    "\n",
    "def findZigZagSequence(a, n):\n",
    "    a.sort()\n",
    "    mid = int((n - 1)/2)\n",
    "    a[mid], a[n-1] = a[n-1], a[mid]\n",
    "\n",
    "    st = mid + 1\n",
    "    ed = n - 2\n",
    "    while(st <= ed):\n",
    "        a[st], a[ed] = a[ed], a[st]\n",
    "        st = st + 1\n",
    "        ed = ed - 1\n",
    "\n",
    "    for i in range (n):\n",
    "        if i == n-1:\n",
    "            print(a[i])\n",
    "        else:\n",
    "            print(a[i], end = ' ')\n",
    "    return\n",
    "\n",
    "test_cases = int(input())\n",
    "for cs in range (test_cases):\n",
    "    n = int(input())\n",
    "    a = list(map(int, input().split()))\n",
    "    findZigZagSequence(a, n)"
   ]
  },
  {
   "cell_type": "code",
   "execution_count": 3,
   "id": "51cdbdc5-0c3d-4188-826c-d425482a2e86",
   "metadata": {},
   "outputs": [
    {
     "name": "stdin",
     "output_type": "stream",
     "text": [
      " 2\n",
      " 1 2\n"
     ]
    },
    {
     "name": "stdout",
     "output_type": "stream",
     "text": [
      "1 2\n"
     ]
    },
    {
     "name": "stdin",
     "output_type": "stream",
     "text": [
      " 3 4\n"
     ]
    },
    {
     "name": "stdout",
     "output_type": "stream",
     "text": [
      "3 4\n"
     ]
    }
   ],
   "source": [
    "# In this HackerRank Tower Breakers problem solution, Two players are playing a game of Tower Breakers! Player 1 always moves first, and both players always play optimally. The rules of the game are as follows:\n",
    "\n",
    "# Initially, there are N towers.\n",
    "# Each tower is of height M.\n",
    "# The players move in alternating turns.\n",
    "# In each turn, a player can choose a tower of height X and reduce its height to Y, where 1 <= Y < X and Y evenly divide X.\n",
    "# If the current player is unable to make a move, they lose the game.\n",
    "\n",
    "# Given the values of N and M, determine which player will win. If the first player wins, return 1. Otherwise, return 2.\n",
    "\n",
    "T = int(input()) # number of test cases\n",
    "for t in range(T):\n",
    "    n, m = [int(x) for x in input().strip().split()]\n",
    "    if m == 1: \n",
    "        print(2)\n",
    "    else:\n",
    "        if n % 2 == 1:\n",
    "            print(1)\n",
    "        else:\n",
    "            print(2)"
   ]
  },
  {
   "cell_type": "code",
   "execution_count": 19,
   "id": "8342a27a-7f39-43f1-a08e-c4604b2234e9",
   "metadata": {},
   "outputs": [
    {
     "name": "stdout",
     "output_type": "stream",
     "text": [
      "BCDEF\n"
     ]
    }
   ],
   "source": [
    "# Julius Caesar protected his confidential information by encrypting it using a cipher. Caesar's cipher shifts each letter by a number of letters. \n",
    "# If the shift takes you past the end of the alphabet, just rotate back to the front of the alphabet. In the case of a rotation by 3, w, x, y and z \n",
    "# would map to z, a, b and c.\n",
    "# Sample Input\n",
    "\n",
    "# 11\n",
    "# middle-Outz\n",
    "# 2\n",
    "# Sample Output\n",
    "\n",
    "# okffng-Qwvb\n",
    "# Explanation\n",
    "\n",
    "# Original alphabet:      abcdefghijklmnopqrstuvwxyz\n",
    "# Alphabet rotated +2:    cdefghijklmnopqrstuvwxyzab\n",
    "\n",
    "# m -> o\n",
    "# i -> k\n",
    "# d -> f\n",
    "# d -> f\n",
    "# l -> n\n",
    "# e -> g\n",
    "# -    -\n",
    "# O -> Q\n",
    "# u -> w\n",
    "# t -> v\n",
    "# z -> b\n",
    "result = \"\"\n",
    "text = \"ABCDE\"\n",
    "s = 1\n",
    "\n",
    "for i in range(len(text)):\n",
    "    char = text[i]\n",
    "\n",
    "    # Encrypt uppercase characters\n",
    "    if (char.isupper()):\n",
    "        result += chr((ord(char) + s-65) % 26 + 65) # ord gives unicode value of that character, for a  -  its 97.\n",
    "\n",
    "    # Encrypt lowercase characters\n",
    "    else:\n",
    "        result += chr((ord(char) + s - 97) % 26 + 97)\n",
    "\n",
    "print(result)\n",
    " \n"
   ]
  },
  {
   "cell_type": "code",
   "execution_count": 1,
   "id": "ebecf73d-a16a-4b7a-b39f-733224b580e2",
   "metadata": {},
   "outputs": [
    {
     "name": "stdout",
     "output_type": "stream",
     "text": [
      "[[1], [3, 2], [4, 5, 6, 7]]\n"
     ]
    }
   ],
   "source": [
    "# Given a binary tree and the task is to find the spiral order traversal of the tree.\n",
    "\n",
    "# Spiral order Traversal mean: Starting from level 0 for root node, for all the even levels \n",
    "# we print the node's value from right to left and for all the odd levels we print the node's value from left to right. \n",
    "# Example 1:\n",
    "\n",
    "# Input:\n",
    "#       1\n",
    "#     /   \\\n",
    "#    3     2\n",
    "# Output:1 3 2\n",
    "\n",
    "# Example 2:\n",
    "\n",
    "# Input:\n",
    "#            10\n",
    "#          /     \\\n",
    "#         20     30\n",
    "#       /    \\\n",
    "#     40     60\n",
    "# Output: 10 20 30 60 40 \n",
    "class TreeNode:\n",
    "    def __init__(self, val=0, left=None, right=None):\n",
    "        self.val = val\n",
    "        self.left = left\n",
    "        self.right = right\n",
    "\n",
    "def findSpiral(root):\n",
    "    result = []\n",
    "    if root is None:\n",
    "        return result\n",
    "\n",
    "    def traverse(node, level):\n",
    "        if node is None:\n",
    "            return\n",
    "\n",
    "        if level >= len(result):\n",
    "            result.append([])\n",
    "\n",
    "        if level % 2 == 0:\n",
    "            result[level].append(node.val)\n",
    "        else:\n",
    "            result[level].insert(0, node.val)\n",
    "\n",
    "        traverse(node.left, level + 1)\n",
    "        traverse(node.right, level + 1)\n",
    "\n",
    "    traverse(root, 0)\n",
    "    return result\n",
    "\n",
    "# Example usage:\n",
    "# Create a sample binary tree\n",
    "root = TreeNode(1)\n",
    "root.left = TreeNode(2)\n",
    "root.right = TreeNode(3)\n",
    "root.left.left = TreeNode(4)\n",
    "root.left.right = TreeNode(5)\n",
    "root.right.left = TreeNode(6)\n",
    "root.right.right = TreeNode(7)\n",
    "\n",
    "# Call the function\n",
    "spiral_order = findSpiral(root)\n",
    "print(spiral_order)"
   ]
  },
  {
   "cell_type": "code",
   "execution_count": 18,
   "id": "518ba904-5e6e-45fb-b13c-51e9e9f6830f",
   "metadata": {},
   "outputs": [
    {
     "name": "stdout",
     "output_type": "stream",
     "text": [
      "[12, 6, 8, 9, 9, 11, 5, 5, 9, 6, 11]\n"
     ]
    }
   ],
   "source": [
    "# Example 1:\n",
    "\n",
    "# Input: \n",
    "# Stack = {10, 20, 30, 40, 50}\n",
    "# Output:\n",
    "# ModifiedStack = {10, 20, 40, 50}\n",
    "# Explanation:\n",
    "# If you print the stack the bottom-most element will be 10 and the top-most element will be 50. Middle element will be element at index 3 from bottom, \n",
    "# which is 30. Deleting 30, stack will look like {10 20 40 50}.\n",
    "# Example 2:\n",
    "\n",
    "# Input: \n",
    "# Stack = {10 20 30 40}\n",
    "# Output:\n",
    "# ModifiedStack = {10 30 40}\n",
    "# Explanation:\n",
    "# If you print the stack the bottom-most element will be 10 and the top-most element will be 40.\n",
    "# Middle element will be element at index 2 from bottom, which is 20. Deleting 20, stack will look like {10 30 40}.\n",
    " \n",
    "st = [12 ,6 ,8 ,9 ,9 ,5 ,11 ,5 ,5 ,9, 6, 11]      \n",
    "if len(st)%2==0: # if len of stack is even\n",
    "    tar=len(st)//2 # floor division, gets integer\n",
    "    del st[tar-1]\n",
    "    print(st)\n",
    "elif len(st)%2==1:\n",
    "    tar=len(st)//2\n",
    "    del st[tar]\n",
    "    print(st)    "
   ]
  },
  {
   "cell_type": "code",
   "execution_count": 2,
   "id": "5e3977a8-52f9-4bdb-9286-72d1e56cf353",
   "metadata": {},
   "outputs": [
    {
     "name": "stdout",
     "output_type": "stream",
     "text": [
      "16\n",
      "11\n",
      "6\n",
      "1\n",
      "-4\n",
      "1\n",
      "6\n",
      "11\n",
      "16\n"
     ]
    }
   ],
   "source": [
    "# Print a sequence of numbers starting with N, without using loop, where replace N with N - 5, until N > 0. After that replace N with N + 5 until N regains its initial value.\n",
    "\n",
    "# Example 1:\n",
    "\n",
    "# Input: \n",
    "# N = 16\n",
    "# Output: \n",
    "# 16 11 6 1 -4 1 6 11 16\n",
    "# Explaination: \n",
    "# The value decreases until it is greater than 0. After that it increases and stops when it becomes 16 again.\n",
    "# Example 2:\n",
    "\n",
    "# Input: \n",
    "# N = 10\n",
    "# Output: \n",
    "# 10 5 0 5 10\n",
    "# Explaination: It follows the same logic as per the above example.\n",
    "\n",
    "# Python program to print pattern \n",
    "# that first reduces 5 one by one, \n",
    "# then adds 5. Without any loop. \n",
    "\n",
    "# Recursive function to print \n",
    "# the pattern.n indicates \n",
    "# input value m indicates \n",
    "# current value to be printed \n",
    "# flag indicates whether we \n",
    "# need to add 5 or subtract 5. \n",
    "# Initially flag is True. \n",
    "\n",
    "\n",
    "def printPattern(n, m, flag): \n",
    "\n",
    "\tprint(m) \n",
    "\n",
    "\tif flag == False and n == m: \n",
    "\t\treturn\n",
    "\t# If we are moving \n",
    "\t# toward 0 or negative. \n",
    "\tif flag: \n",
    "\t\t# If m is greater, than 5, \n",
    "\t\t# recur with true flag \n",
    "\t\tif m - 5 > 0: \n",
    "\t\t\tprintPattern(n, m - 5, True) \n",
    "\t\telse: # recur with false flag \n",
    "\t\t\tprintPattern(n, m - 5, False) \n",
    "\telse: # If flag is false. \n",
    "\t\tprintPattern(n, m + 5, False) \n",
    "\n",
    "\n",
    "if __name__ == \"__main__\": \n",
    "    n = 16\n",
    "\n",
    "printPattern(n, n, True) \n",
    "\n"
   ]
  },
  {
   "cell_type": "code",
   "execution_count": 11,
   "id": "115971bb-5b63-4f10-a724-1c0c96a01ad8",
   "metadata": {},
   "outputs": [
    {
     "name": "stdout",
     "output_type": "stream",
     "text": [
      "3\n"
     ]
    }
   ],
   "source": [
    "# A total of n people are standing in a circle, and you are one of them playing a game. Starting from a person, k persons will be counted in order along the circle, and the kth person will be killed. Then the next k persons will be counted along the circle, and again the kth person will be killed. This cycle will continue until only a single person is left in the circle.\n",
    "\n",
    "# If there are 5 people in the circle in the order A, B, C, D, and E, you will choose k=3. Starting from A, you will count A, B and C. C will be the 3rd person and will be killed. Then you will continue counting from D, E and then A. A will be third person and will be killed. \n",
    "\n",
    "# You will be given an array where the first element is the first person from whom the counting will start and the subsequent order of the people. You want to be the last one standing. Determine the index at which you should stand to survive the game.\n",
    "\n",
    "# Example 1:\n",
    "\n",
    "# Input:\n",
    "# n = 3 k = 2\n",
    "# Output: 3\n",
    "# Explanation: There are 3 persons so \n",
    "# skipping 1 person i.e 1st person 2nd \n",
    "# person will be killed. Thus the safe \n",
    "# position is 3.\n",
    "def find_safe_position(n, k):\n",
    "    circle = list(range(1, n + 1))\n",
    "    index = 0\n",
    "\n",
    "    while len(circle) > 1:\n",
    "        index = (index + k - 1) % len(circle)\n",
    "        circle.pop(index)\n",
    "\n",
    "    return circle[0]\n",
    "\n",
    "# Example usage:\n",
    "n = 3\n",
    "k = 2\n",
    "safe_position = find_safe_position(n, k)\n",
    "print(safe_position)\n"
   ]
  },
  {
   "cell_type": "code",
   "execution_count": 25,
   "id": "57531454-510a-4a25-a0f1-d5a7a0a5bcb7",
   "metadata": {},
   "outputs": [
    {
     "data": {
      "text/plain": [
       "3"
      ]
     },
     "execution_count": 25,
     "metadata": {},
     "output_type": "execute_result"
    }
   ],
   "source": [
    "# palindrome index\n",
    "# remove a char which restricts  making a string palindrome\n",
    "def palindrome(s):\n",
    "    n = len(s)\n",
    "    for i in range(n // 2 + 1):\n",
    "        if s[i] != s[n-1-i]:\n",
    "            if s[i] == s[n-2-i] and s[i+1] == s[n-3-i]:\n",
    "                return n-1-i\n",
    "            else:\n",
    "                return i\n",
    "    return -1\n",
    "palindrome(s=\"bcbs\")"
   ]
  },
  {
   "cell_type": "code",
   "execution_count": 33,
   "id": "e1b7bdbe-de5f-4066-b36f-df81f5b105be",
   "metadata": {},
   "outputs": [
    {
     "name": "stdout",
     "output_type": "stream",
     "text": [
      "NO\n"
     ]
    }
   ],
   "source": [
    "# Given a square grid of characters in the range ascii[a-z], rearrange elements of each row alphabetically, ascending.\n",
    "# Determine if the columns are also in ascending alphabetical order, top to bottom. Return YES if they are or NO if they are not.\n",
    "\n",
    "# Example\n",
    "\n",
    "# The grid is illustrated below.\n",
    "\n",
    "# a b c\n",
    "# a d e\n",
    "# e f g\n",
    "# The rows are already in alphabetical order. The columns a a e, b d f and c e g are also in alphabetical order, so the answer would be YES.\n",
    "# Only elements within the same row can be rearranged. They cannot be moved to a different row.\n",
    "\n",
    "def gridChallenge(grid):\n",
    "    sort_list =[]\n",
    "    for i in grid:\n",
    "        sort_list.append(sorted(i))\n",
    "    transposed_matrix = [list(i) for i in zip(*sort_list)]\n",
    "    h = all(True if i == sorted(i) else False for i in transposed_matrix)\n",
    "    if h == True:\n",
    "        return \"YES\"\n",
    "    else:\n",
    "        return \"NO\"\n",
    "\n",
    "# Given grid\n",
    "grid = ['ebacd', 'fghij', 'olmkn', 'trpqs', 'xywuv']\n",
    "\n",
    "# Check the order\n",
    "result = check_alphabetical_order(grid)\n",
    "print(result)\n"
   ]
  },
  {
   "cell_type": "code",
   "execution_count": 31,
   "id": "081376db-47f0-4bcd-be4e-8ca92f2077f2",
   "metadata": {},
   "outputs": [
    {
     "name": "stdout",
     "output_type": "stream",
     "text": [
      "abcde\n",
      "fghij\n",
      "klmno\n",
      "pqrst\n",
      "uvwxy\n"
     ]
    }
   ],
   "source": [
    "for o in grid:\n",
    "    print(''.join(sorted(o)))"
   ]
  },
  {
   "cell_type": "code",
   "execution_count": 53,
   "id": "99a2516d-781a-4e50-a76d-41494c484797",
   "metadata": {},
   "outputs": [
    {
     "name": "stdout",
     "output_type": "stream",
     "text": [
      "3\n"
     ]
    }
   ],
   "source": [
    "# Given an array arr[] of N integers, calculate the median.\n",
    "\n",
    "# NOTE: Return the floor value of the median.\n",
    " \n",
    "\n",
    "# Example 1:\n",
    "\n",
    "# Input: N = 5\n",
    "# arr[] = 90 100 78 89 67\n",
    "# Output: 89\n",
    "# Explanation: After sorting the array \n",
    "# middle element is the median \n",
    "\n",
    "# Example 2:\n",
    "\n",
    "# Input: N = 4\n",
    "# arr[] = 56 67 30 79\n",
    "# Output: 61\n",
    "# Explanation: In case of even number of \n",
    "# elements, average of two middle elements \n",
    "# is the median.\n",
    "\n",
    "a=[1,2,3,4,5,6]\n",
    "if len(a)%2==1:\n",
    "    print(a[len(a)//2])\n",
    "elif len(a)%2==0:\n",
    "    c=len(a)//2\n",
    "    print((a[c]+a[c-1])//2)\n",
    "\n",
    "    # def find_median(self, v):\n",
    "# \t    v=sorted(v)\n",
    "# \t    if len(v)%2==1:\n",
    "# \t        return v[len(v)//2]\n",
    "# \t    elif len(v)%2==0:\n",
    "\t        \n",
    "# \t        return v[(len(v)//2 + (len(v)-1)//2)//2]\n",
    "\t"
   ]
  },
  {
   "cell_type": "code",
   "execution_count": null,
   "id": "785359f3-9186-4c5a-85d6-a6c78af6a0cb",
   "metadata": {},
   "outputs": [],
   "source": []
  },
  {
   "cell_type": "code",
   "execution_count": null,
   "id": "fe7db6bb-6f05-444d-bd5d-a65ba80fd856",
   "metadata": {},
   "outputs": [],
   "source": []
  }
 ],
 "metadata": {
  "kernelspec": {
   "display_name": "Python 3 (ipykernel)",
   "language": "python",
   "name": "python3"
  },
  "language_info": {
   "codemirror_mode": {
    "name": "ipython",
    "version": 3
   },
   "file_extension": ".py",
   "mimetype": "text/x-python",
   "name": "python",
   "nbconvert_exporter": "python",
   "pygments_lexer": "ipython3",
   "version": "3.9.18"
  },
  "widgets": {
   "application/vnd.jupyter.widget-state+json": {
    "state": {},
    "version_major": 2,
    "version_minor": 0
   }
  }
 },
 "nbformat": 4,
 "nbformat_minor": 5
}
