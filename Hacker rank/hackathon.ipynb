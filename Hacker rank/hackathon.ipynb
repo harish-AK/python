{
 "cells": [
  {
   "cell_type": "code",
   "execution_count": null,
   "id": "07c97b0c-fb20-4162-a118-a9ec505468b5",
   "metadata": {},
   "outputs": [],
   "source": []
  },
  {
   "cell_type": "code",
   "execution_count": 33,
   "id": "d5eddc82-8f95-404f-ab9f-26771559079b",
   "metadata": {},
   "outputs": [
    {
     "name": "stdout",
     "output_type": "stream",
     "text": [
      "1\n"
     ]
    }
   ],
   "source": [
    "from collections import Counter\n",
    "# types = list(map(int,input().strip().split(' ')))\n",
    "arr=[1,2,3,4,5,1,5,6]\n",
    "dict=Counter(arr)\n",
    "max=0\n",
    "for i in dict:\n",
    "    if(dict[i]>max):\n",
    "        max=dict[i]\n",
    "ele=[]\n",
    "for i in dict:\n",
    "    if dict[i]==max:\n",
    "        ele.append(i)\n",
    "print(min(ele))"
   ]
  },
  {
   "cell_type": "code",
   "execution_count": 4,
   "id": "e2e989d9-8600-4279-8609-97e09d5a7181",
   "metadata": {},
   "outputs": [
    {
     "data": {
      "text/plain": [
       "Counter({1: 1, 2: 1, 3: 1, 4: 1, 5: 2, 6: 1})"
      ]
     },
     "execution_count": 4,
     "metadata": {},
     "output_type": "execute_result"
    }
   ],
   "source": [
    "Counter(types) # mydict"
   ]
  },
  {
   "cell_type": "code",
   "execution_count": 31,
   "id": "2d4b79ce-8d31-4a5c-b5d0-ab31508f2ce3",
   "metadata": {},
   "outputs": [
    {
     "data": {
      "text/plain": [
       "6"
      ]
     },
     "execution_count": 31,
     "metadata": {},
     "output_type": "execute_result"
    }
   ],
   "source": [
    "max(mydict)"
   ]
  },
  {
   "cell_type": "code",
   "execution_count": null,
   "id": "bae61a41-391f-41b8-8e8e-d0de80f7e56c",
   "metadata": {},
   "outputs": [],
   "source": [
    "#!/bin/python3\n",
    "\n",
    "import math\n",
    "import os\n",
    "import random\n",
    "import re\n",
    "import sys\n",
    "\n",
    "def birthday(s, d, m):\n",
    "    count=0\n",
    "    for i in range((len(s) - m) + 1):\n",
    "        if sum(s[i:i+m]) == d:\n",
    "            count += 1\n",
    "    return count"
   ]
  },
  {
   "cell_type": "code",
   "execution_count": null,
   "id": "6f3f5c40-dd3b-4a0a-bf78-53b5c650854b",
   "metadata": {},
   "outputs": [],
   "source": []
  },
  {
   "cell_type": "code",
   "execution_count": null,
   "id": "1cee9934-ae4f-4aaf-96ad-71e06b33ae2c",
   "metadata": {},
   "outputs": [],
   "source": []
  }
 ],
 "metadata": {
  "kernelspec": {
   "display_name": "Python 3 (ipykernel)",
   "language": "python",
   "name": "python3"
  },
  "language_info": {
   "codemirror_mode": {
    "name": "ipython",
    "version": 3
   },
   "file_extension": ".py",
   "mimetype": "text/x-python",
   "name": "python",
   "nbconvert_exporter": "python",
   "pygments_lexer": "ipython3",
   "version": "3.8.15"
  },
  "widgets": {
   "application/vnd.jupyter.widget-state+json": {
    "state": {},
    "version_major": 2,
    "version_minor": 0
   }
  }
 },
 "nbformat": 4,
 "nbformat_minor": 5
}
