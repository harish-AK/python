{
 "cells": [
  {
   "cell_type": "code",
   "execution_count": 18,
   "id": "651fcb96-fc4e-467c-8dde-e035a5bcfe6e",
   "metadata": {},
   "outputs": [
    {
     "name": "stdout",
     "output_type": "stream",
     "text": [
      "3\n"
     ]
    }
   ],
   "source": [
    "s=\"SOSSPSSQSSOR\"\n",
    "\n",
    "count = 0\n",
    "expected = \"SOS\" \n",
    "\n",
    "for i in range(len(s)):\n",
    "  if s[i] != expected[i % 3]:\n",
    "    count += 1\n",
    "\n",
    "print(count)"
   ]
  },
  {
   "cell_type": "code",
   "execution_count": 36,
   "id": "6aebedd0-362c-47aa-a7c4-9a8f0c93914f",
   "metadata": {},
   "outputs": [
    {
     "name": "stdout",
     "output_type": "stream",
     "text": [
      "2\n"
     ]
    }
   ],
   "source": [
    "n=10\n",
    "p=5\n",
    "# Start from front\n",
    "front = p // 2 # // - takes whole value\n",
    "\n",
    "# Start from back\n",
    "back = (n//2) - (p//2)\n",
    "\n",
    "print(min(front,back))"
   ]
  },
  {
   "cell_type": "code",
   "execution_count": 37,
   "id": "37ea64de-8130-4af8-a164-db5a47a4ebb2",
   "metadata": {},
   "outputs": [
    {
     "data": {
      "text/plain": [
       "2"
      ]
     },
     "execution_count": 37,
     "metadata": {},
     "output_type": "execute_result"
    }
   ],
   "source": [
    "front"
   ]
  },
  {
   "cell_type": "code",
   "execution_count": 38,
   "id": "c68262b9-173c-4b88-a89a-32ae45046444",
   "metadata": {},
   "outputs": [
    {
     "data": {
      "text/plain": [
       "3"
      ]
     },
     "execution_count": 38,
     "metadata": {},
     "output_type": "execute_result"
    }
   ],
   "source": [
    "back"
   ]
  },
  {
   "cell_type": "code",
   "execution_count": 44,
   "id": "1bff212d-53ab-4d36-82e0-3fc19408ff2b",
   "metadata": {},
   "outputs": [
    {
     "data": {
      "text/plain": [
       "5"
      ]
     },
     "execution_count": 44,
     "metadata": {},
     "output_type": "execute_result"
    }
   ],
   "source": [
    "10//2"
   ]
  },
  {
   "cell_type": "code",
   "execution_count": null,
   "id": "2924b6bf-e9cc-4e6f-8b4f-c22a2029795b",
   "metadata": {},
   "outputs": [],
   "source": []
  }
 ],
 "metadata": {
  "kernelspec": {
   "display_name": "Python 3 (ipykernel)",
   "language": "python",
   "name": "python3"
  },
  "language_info": {
   "codemirror_mode": {
    "name": "ipython",
    "version": 3
   },
   "file_extension": ".py",
   "mimetype": "text/x-python",
   "name": "python",
   "nbconvert_exporter": "python",
   "pygments_lexer": "ipython3",
   "version": "3.8.15"
  },
  "widgets": {
   "application/vnd.jupyter.widget-state+json": {
    "state": {},
    "version_major": 2,
    "version_minor": 0
   }
  }
 },
 "nbformat": 4,
 "nbformat_minor": 5
}
