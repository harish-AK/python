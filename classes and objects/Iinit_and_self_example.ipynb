{
 "cells": [
  {
   "cell_type": "code",
   "execution_count": 1,
   "id": "62a1f88b",
   "metadata": {},
   "outputs": [
    {
     "name": "stdout",
     "output_type": "stream",
     "text": [
      "with object AK 90\n"
     ]
    }
   ],
   "source": [
    "class person:\n",
    "\n",
    "    def __init__(s,name,age):\n",
    "        s.name=name\n",
    "        s.age=age\n",
    "\n",
    "p=person(\"ak\",100)\n",
    "p.name=\"AK\"\n",
    "p.age=90\n",
    "print(\"with object\",p.name,p.age)\n",
    "\n",
    "\n"
   ]
  },
  {
   "cell_type": "code",
   "execution_count": 15,
   "id": "877ed075",
   "metadata": {},
   "outputs": [
    {
     "name": "stdout",
     "output_type": "stream",
     "text": [
      "ram   12\n"
     ]
    }
   ],
   "source": [
    "class ex:\n",
    "    def __init__(self,name,age): # init is the constructor for the class ex , it will be called when a objet of a class is created.\n",
    "        self.name=name\n",
    "        self.age=age\n",
    "    def dis(self): # self - point the current working object.\n",
    "        print(self.name,\" \",self.age)\n",
    "e=ex('ram',12)\n",
    "e.dis()\n"
   ]
  },
  {
   "cell_type": "code",
   "execution_count": 19,
   "id": "b13ac519",
   "metadata": {},
   "outputs": [
    {
     "name": "stdout",
     "output_type": "stream",
     "text": [
      "male ind\n"
     ]
    }
   ],
   "source": [
    "class ex1:\n",
    "    def __init__(self,country):\n",
    "        self.gender=\"\"  # sets default value of gender for every objects(instance)\n",
    "        self.country=country # gender value based on arguments that are passed in the __init__ method\n",
    "    def disp(self):\n",
    "        print(self.gender, self.country)\n",
    "e1=ex1('ind')\n",
    "e1.gender='male'\n",
    "e1.disp()"
   ]
  },
  {
   "cell_type": "code",
   "execution_count": null,
   "id": "f2da6334",
   "metadata": {},
   "outputs": [],
   "source": []
  }
 ],
 "metadata": {
  "kernelspec": {
   "display_name": "Python 3 (ipykernel)",
   "language": "python",
   "name": "python3"
  },
  "language_info": {
   "codemirror_mode": {
    "name": "ipython",
    "version": 3
   },
   "file_extension": ".py",
   "mimetype": "text/x-python",
   "name": "python",
   "nbconvert_exporter": "python",
   "pygments_lexer": "ipython3",
   "version": "3.9.13"
  }
 },
 "nbformat": 4,
 "nbformat_minor": 5
}
