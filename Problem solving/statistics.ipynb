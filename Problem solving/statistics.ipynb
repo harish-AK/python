{
 "cells": [
  {
   "cell_type": "code",
   "execution_count": 1,
   "id": "1f685812-9e5e-497a-9bb0-dc2a6ed32a6e",
   "metadata": {},
   "outputs": [
    {
     "data": {
      "image/png": "[encoded data removed]",
      "text/plain": [
       "<Figure size 640x480 with 1 Axes>"
      ]
     },
     "metadata": {},
     "output_type": "display_data"
    },
    {
     "name": "stdout",
     "output_type": "stream",
     "text": [
      "Correlation Coefficient: 0.07226976038701476\n",
      "Regression Line: ABS = 5.32 + 0.01 * TEMP\n"
     ]
    }
   ],
   "source": [
    "import numpy as np\n",
    "from scipy.stats import linregress\n",
    "import matplotlib.pyplot as plt\n",
    "\n",
    "# Data\n",
    "ABS = np.array([8, 7, 5, 4, 2, 3, 5, 6, 8, 9])\n",
    "TEMP = np.array([10, 20, 25, 30, 40, 45, 50, 55, 59, 60])\n",
    "\n",
    "# Calculate correlation coefficient\n",
    "correlation_coefficient = np.corrcoef(ABS, TEMP)[0, 1]\n",
    "\n",
    "# Fit the regression line\n",
    "slope, intercept, r_value, p_value, std_err = linregress(TEMP, ABS)\n",
    "\n",
    "# Scatter plot and regression line\n",
    "plt.scatter(TEMP, ABS, label='Data Points')\n",
    "plt.plot(TEMP, intercept + slope * TEMP, 'r', label='Regression Line')\n",
    "plt.xlabel('Mean Temperature (°C)')\n",
    "plt.ylabel('Number of Absentees')\n",
    "plt.legend()\n",
    "plt.show()\n",
    "\n",
    "print(f\"Correlation Coefficient: {correlation_coefficient}\")\n",
    "print(f\"Regression Line: ABS = {intercept:.2f} + {slope:.2f} * TEMP\")\n"
   ]
  },
  {
   "cell_type": "code",
   "execution_count": 2,
   "id": "71f4a98d-e25e-48d2-afc4-8b9b5262eebe",
   "metadata": {},
   "outputs": [
    {
     "name": "stdout",
     "output_type": "stream",
     "text": [
      "Estimated Absentees for 42°C: 5.72\n"
     ]
    }
   ],
   "source": [
    "estimated_absentees = intercept + slope * 42\n",
    "print(f\"Estimated Absentees for 42°C: {estimated_absentees:.2f}\")\n"
   ]
  },
  {
   "cell_type": "code",
   "execution_count": 1,
   "id": "dc196522-7296-4496-a292-b1d4d5b49ee5",
   "metadata": {},
   "outputs": [
    {
     "name": "stdout",
     "output_type": "stream",
     "text": [
      "(i) P(X ≥ 4) (Manual): 0.2054\n",
      "(ii) P(X = 7) (Manual): 0.0033\n",
      "(iii) P(X < 3) (Manual): 0.5583\n",
      "(iv) P(6 ≤ X ≤ 10) (Manual): 0.0194\n"
     ]
    }
   ],
   "source": [
    "from math import comb\n",
    "\n",
    "# Given values\n",
    "n = 12\n",
    "p = 1 / 5\n",
    "\n",
    "# (i) P(X ≥ 4)\n",
    "prob_at_least_4_correct_manual = 1 - sum(comb(n, k) * (p**k) * ((1 - p)**(n - k)) for k in range(4))\n",
    "\n",
    "# (ii) P(X = 7)\n",
    "prob_exactly_7_correct_manual = comb(n, 7) * (p**7) * ((1 - p)**(n - 7))\n",
    "\n",
    "# (iii) P(X < 3)\n",
    "prob_at_most_3_correct_manual = sum(comb(n, k) * (p**k) * ((1 - p)**(n - k)) for k in range(3))\n",
    "\n",
    "# (iv) P(6 ≤ X ≤ 10)\n",
    "prob_between_6_and_10_correct_manual = sum(comb(n, k) * (p**k) * ((1 - p)**(n - k)) for k in range(6, 11))\n",
    "\n",
    "# Print the results\n",
    "print(f\"(i) P(X ≥ 4) (Manual): {prob_at_least_4_correct_manual:.4f}\")\n",
    "print(f\"(ii) P(X = 7) (Manual): {prob_exactly_7_correct_manual:.4f}\")\n",
    "print(f\"(iii) P(X < 3) (Manual): {prob_at_most_3_correct_manual:.4f}\")\n",
    "print(f\"(iv) P(6 ≤ X ≤ 10) (Manual): {prob_between_6_and_10_correct_manual:.4f}\")\n"
   ]
  },
  {
   "cell_type": "code",
   "execution_count": 3,
   "id": "b2c04b92-80a4-4163-a6c8-48c561b2429a",
   "metadata": {},
   "outputs": [
    {
     "name": "stdout",
     "output_type": "stream",
     "text": [
      "Mean Squared Error: 0.1800\n",
      "Coefficient of Determination (R^2): 0.6400\n"
     ]
    }
   ],
   "source": [
    "import numpy as np\n",
    "import matplotlib.pyplot as plt\n",
    "\n",
    "# Sample data\n",
    "x = np.array([1, 2, 3, 4, 5])\n",
    "y = np.array([2, 3, 2.5, 4, 3.5])\n",
    "from sklearn.linear_model import LinearRegression\n",
    "from sklearn.metrics import mean_squared_error, r2_score\n",
    "import numpy as np\n",
    "\n",
    "# Reshape x for sklearn\n",
    "x_reshaped = x.reshape(-1, 1)\n",
    "\n",
    "# Fit the model\n",
    "model = LinearRegression().fit(x_reshaped, y)\n",
    "\n",
    "# Make predictions\n",
    "y_pred = model.predict(x_reshaped)\n",
    "\n",
    "# Calculate metrics\n",
    "mse = mean_squared_error(y, y_pred)\n",
    "r2 = r2_score(y, y_pred)\n",
    "\n",
    "print(f\"Mean Squared Error: {mse:.4f}\")\n",
    "print(f\"Coefficient of Determination (R^2): {r2:.4f}\")\n"
   ]
  },
  {
   "cell_type": "code",
   "execution_count": 6,
   "id": "65b43ef1-85a0-47c5-88db-ca0d97a4a371",
   "metadata": {},
   "outputs": [
    {
     "name": "stdout",
     "output_type": "stream",
     "text": [
      "                            OLS Regression Results                            \n",
      "==============================================================================\n",
      "Dep. Variable:             Yield (yi)   R-squared:                       0.971\n",
      "Model:                            OLS   Adj. R-squared:                  0.967\n",
      "Method:                 Least Squares   F-statistic:                     235.9\n",
      "Date:                Sat, 30 Dec 2023   Prob (F-statistic):           1.65e-11\n",
      "Time:                        18:02:12   Log-Likelihood:                -50.564\n",
      "No. Observations:                  17   AIC:                             107.1\n",
      "Df Residuals:                      14   BIC:                             109.6\n",
      "Df Model:                           2                                         \n",
      "Covariance Type:            nonrobust                                         \n",
      "================================================================================\n",
      "                   coef    std err          t      P>|t|      [0.025      0.975]\n",
      "--------------------------------------------------------------------------------\n",
      "const         -182.4869     82.946     -2.200      0.045    -360.389      -4.585\n",
      "Factor1 (x1)     1.1610      0.329      3.532      0.003       0.456       1.866\n",
      "Factor2 (x2)    13.1743      3.225      4.085      0.001       6.257      20.091\n",
      "==============================================================================\n",
      "Omnibus:                        0.801   Durbin-Watson:                   1.792\n",
      "Prob(Omnibus):                  0.670   Jarque-Bera (JB):                0.665\n",
      "Skew:                           0.023   Prob(JB):                        0.717\n",
      "Kurtosis:                       2.032   Cond. No.                     4.19e+03\n",
      "==============================================================================\n",
      "\n",
      "Notes:\n",
      "[1] Standard Errors assume that the covariance matrix of the errors is correctly specified.\n",
      "[2] The condition number is large, 4.19e+03. This might indicate that there are\n",
      "strong multicollinearity or other numerical problems.\n"
     ]
    },
    {
     "name": "stderr",
     "output_type": "stream",
     "text": [
      "D:\\ANACONDA3\\envs\\py_main\\lib\\site-packages\\scipy\\stats\\_stats_py.py:1806: UserWarning: kurtosistest only valid for n>=20 ... continuing anyway, n=17\n",
      "  warnings.warn(\"kurtosistest only valid for n>=20 ... continuing \"\n"
     ]
    }
   ],
   "source": [
    "import pandas as pd\n",
    "import statsmodels.api as sm\n",
    "\n",
    "# Create a DataFrame with the given data\n",
    "data = {\n",
    "    'Factor1 (x1)': [41.9, 43.4, 43.9, 44.5, 47.3, 47.5, 47.9, 50.2, 52.8, 53.2, 56.4, 57.0, 57.0, 65.3, 71.1, 77.0, 77.8],\n",
    "    'Factor2 (x2)': [29.1, 29.3, 29.5, 29.7, 29.9, 30.3, 30.5, 30.7, 30.8, 30.9, 31.5, 31.7, 31.9, 32.0, 32.1, 32.5, 32.9],\n",
    "    'Yield (yi)': [251.3, 251.3, 248.3, 267.5, 273.0, 276.5, 270.3, 274.9, 285.0, 290.0, 297.0, 302.5, 304.5, 309.3, 321.7, 330.7, 349.0]\n",
    "}\n",
    "\n",
    "df = pd.DataFrame(data)\n",
    "\n",
    "# Add a constant term for the intercept\n",
    "X = sm.add_constant(df[['Factor1 (x1)', 'Factor2 (x2)']])\n",
    "y = df['Yield (yi)']\n",
    "\n",
    "# Fit the multiple regression model\n",
    "model = sm.OLS(y, X).fit()\n",
    "\n",
    "# Print the model summary\n",
    "print(model.summary())\n"
   ]
  },
  {
   "cell_type": "code",
   "execution_count": 7,
   "id": "a376c91f-5caa-4cce-b083-589eba875d03",
   "metadata": {},
   "outputs": [
    {
     "name": "stdout",
     "output_type": "stream",
     "text": [
      "Confusion Matrix using Scikit-Learn:\n",
      "          Predicted 0  Predicted 1\n",
      "Actual 0            3            2\n",
      "Actual 1            1            4\n"
     ]
    }
   ],
   "source": [
    "\n",
    "import pandas as pd\n",
    "\n",
    "# Creating a hypothetical binary classification dataset\n",
    "data = {\n",
    "    'Actual Class': [1, 0, 1, 0, 1, 1, 0, 0, 1, 0],\n",
    "    'Predicted Class': [1, 0, 1, 0, 1, 0, 1, 0, 1, 1]\n",
    "}\n",
    "\n",
    "df = pd.DataFrame(data)\n",
    "from sklearn.metrics import confusion_matrix\n",
    "\n",
    "conf_matrix_sklearn = confusion_matrix(df['Actual Class'], df['Predicted Class'])\n",
    "\n",
    "confusion_matrix_sklearn_df = pd.DataFrame(conf_matrix_sklearn, columns=['Predicted 0', 'Predicted 1'], index=['Actual 0', 'Actual 1'])\n",
    "\n",
    "print(\"Confusion Matrix using Scikit-Learn:\")\n",
    "print(confusion_matrix_sklearn_df)\n"
   ]
  },
  {
   "cell_type": "code",
   "execution_count": 8,
   "id": "53a431f6-1e18-4d32-a4ca-d90f42e1fe1a",
   "metadata": {},
   "outputs": [
    {
     "name": "stdout",
     "output_type": "stream",
     "text": [
      "Manual Confusion Matrix:\n",
      "                 Predicted Positive  Predicted Negative\n",
      "Actual Positive                   4                   1\n",
      "Actual Negative                   2                   3\n"
     ]
    }
   ],
   "source": [
    "TP = sum((df['Actual Class'] == 1) & (df['Predicted Class'] == 1))\n",
    "TN = sum((df['Actual Class'] == 0) & (df['Predicted Class'] == 0))\n",
    "FP = sum((df['Actual Class'] == 0) & (df['Predicted Class'] == 1))\n",
    "FN = sum((df['Actual Class'] == 1) & (df['Predicted Class'] == 0))\n",
    "\n",
    "confusion_matrix_manual = pd.DataFrame({\n",
    "    'Predicted Positive': [TP, FP],\n",
    "    'Predicted Negative': [FN, TN]\n",
    "}, index=['Actual Positive', 'Actual Negative'])\n",
    "\n",
    "print(\"Manual Confusion Matrix:\")\n",
    "print(confusion_matrix_manual)\n"
   ]
  },
  {
   "cell_type": "code",
   "execution_count": 9,
   "id": "66cc7881-fbda-4707-9041-9ae69977ce54",
   "metadata": {},
   "outputs": [
    {
     "name": "stdout",
     "output_type": "stream",
     "text": [
      "Test Statistic: 36.9883\n",
      "P-Value: 0.0000\n",
      "Reject the null hypothesis: Variances are not equal.\n"
     ]
    }
   ],
   "source": [
    "import numpy as np\n",
    "import pandas as pd\n",
    "from scipy.stats import levene\n",
    "\n",
    "# Set a random seed for reproducibility\n",
    "np.random.seed(42)\n",
    "\n",
    "# Create two datasets with different variances\n",
    "data1 = np.random.normal(loc=0, scale=1, size=100)\n",
    "data2 = np.random.normal(loc=0, scale=2, size=100)\n",
    "\n",
    "# Combine datasets into a DataFrame\n",
    "df = pd.DataFrame({'Group 1': data1, 'Group 2': data2})\n",
    "# Perform Levene's test for equality of variances\n",
    "statistic, p_value = levene(df['Group 1'], df['Group 2'])\n",
    "\n",
    "# Set significance level\n",
    "alpha = 0.05\n",
    "\n",
    "# Print the results\n",
    "print(f\"Test Statistic: {statistic:.4f}\")\n",
    "print(f\"P-Value: {p_value:.4f}\")\n",
    "\n",
    "# Compare p-value to the significance level\n",
    "if p_value < alpha:\n",
    "    print(\"Reject the null hypothesis: Variances are not equal.\")\n",
    "else:\n",
    "    print(\"Fail to reject the null hypothesis: Variances are equal.\")\n"
   ]
  },
  {
   "cell_type": "code",
   "execution_count": 10,
   "id": "a8d4ff7b-a3d0-446b-8bf8-b053d0c20032",
   "metadata": {},
   "outputs": [
    {
     "name": "stderr",
     "output_type": "stream",
     "text": [
      "D:\\ANACONDA3\\envs\\py_main\\lib\\site-packages\\sklearn\\cluster\\_kmeans.py:1416: FutureWarning: The default value of `n_init` will change from 10 to 'auto' in 1.4. Set the value of `n_init` explicitly to suppress the warning\n",
      "  super()._check_params_vs_input(X, default_n_init=10)\n"
     ]
    },
    {
     "data": {
      "image/png": "[encoded data removed]",
      "text/plain": [
       "<Figure size 640x480 with 1 Axes>"
      ]
     },
     "metadata": {},
     "output_type": "display_data"
    }
   ],
   "source": [
    "import pandas as pd\n",
    "from sklearn.cluster import KMeans\n",
    "import matplotlib.pyplot as plt\n",
    "\n",
    "# Creating a hypothetical dataset\n",
    "data = {\n",
    "    'X1': [1, 1.5, 2, 5, 5.5, 6],\n",
    "    'X2': [1, 2, 1.5, 4, 5, 6]\n",
    "}\n",
    "\n",
    "df = pd.DataFrame(data)\n",
    "\n",
    "# Choose the number of clusters (K)\n",
    "k = 2\n",
    "\n",
    "# Fit K-Means model\n",
    "kmeans = KMeans(n_clusters=k, random_state=42)\n",
    "df['Cluster'] = kmeans.fit_predict(df)\n",
    "\n",
    "# Plotting the clusters\n",
    "plt.scatter(df['X1'], df['X2'], c=df['Cluster'], cmap='viridis')\n",
    "plt.scatter(kmeans.cluster_centers_[:, 0], kmeans.cluster_centers_[:, 1], marker='X', s=200, c='red', label='Centroids')\n",
    "plt.xlabel('X1')\n",
    "plt.ylabel('X2')\n",
    "plt.title('K-Means Clustering')\n",
    "plt.legend()\n",
    "plt.show()\n"
   ]
  },
  {
   "cell_type": "code",
   "execution_count": 11,
   "id": "1b611505-c8d9-481f-8816-12a555b59b82",
   "metadata": {
    "scrolled": true
   },
   "outputs": [
    {
     "data": {
      "image/png": "[encoded data removed]",
      "text/plain": [
       "<Figure size 1500x500 with 4 Axes>"
      ]
     },
     "metadata": {},
     "output_type": "display_data"
    }
   ],
   "source": [
    "import numpy as np\n",
    "from scipy.cluster.hierarchy import linkage, dendrogram\n",
    "import matplotlib.pyplot as plt\n",
    "\n",
    "# Sample dataset\n",
    "data = np.array([[1, 2], [2, 2.5], [5, 5], [7, 6]])\n",
    "\n",
    "# Single Linkage\n",
    "single_linkage = linkage(data, method='single')\n",
    "\n",
    "# Complete Linkage\n",
    "complete_linkage = linkage(data, method='complete')\n",
    "\n",
    "# Average Linkage\n",
    "average_linkage = linkage(data, method='average')\n",
    "\n",
    "# Centroid Linkage\n",
    "centroid_linkage = linkage(data, method='centroid')\n",
    "\n",
    "# Plot dendrograms\n",
    "plt.figure(figsize=(15, 5))\n",
    "\n",
    "plt.subplot(141)\n",
    "dendrogram(single_linkage)\n",
    "plt.title('Single Linkage')\n",
    "\n",
    "plt.subplot(142)\n",
    "dendrogram(complete_linkage)\n",
    "plt.title('Complete Linkage')\n",
    "\n",
    "plt.subplot(143)\n",
    "dendrogram(average_linkage)\n",
    "plt.title('Average Linkage')\n",
    "\n",
    "plt.subplot(144)\n",
    "dendrogram(centroid_linkage)\n",
    "plt.title('Centroid Linkage')\n",
    "\n",
    "plt.show()\n"
   ]
  },
  {
   "cell_type": "code",
   "execution_count": null,
   "id": "8169f046-cba5-4d0a-98a4-04bd7d5a5825",
   "metadata": {},
   "outputs": [],
   "source": []
  },
  {
   "cell_type": "code",
   "execution_count": null,
   "id": "0338177a-6935-4365-831a-f1eaf6e97f6c",
   "metadata": {},
   "outputs": [],
   "source": []
  }
 ],
 "metadata": {
  "kernelspec": {
   "display_name": "Python 3 (ipykernel)",
   "language": "python",
   "name": "python3"
  },
  "language_info": {
   "codemirror_mode": {
    "name": "ipython",
    "version": 3
   },
   "file_extension": ".py",
   "mimetype": "text/x-python",
   "name": "python",
   "nbconvert_exporter": "python",
   "pygments_lexer": "ipython3",
   "version": "3.9.18"
  },
  "widgets": {
   "application/vnd.jupyter.widget-state+json": {
    "state": {},
    "version_major": 2,
    "version_minor": 0
   }
  }
 },
 "nbformat": 4,
 "nbformat_minor": 5
}
