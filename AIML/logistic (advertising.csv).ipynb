{
 "cells": [
  {
   "cell_type": "code",
   "execution_count": 34,
   "id": "89c99a58-be06-40cb-ac1a-f91018b44318",
   "metadata": {},
   "outputs": [],
   "source": [
    "import pandas as pd\n",
    "import numpy as np\n",
    "from sklearn.model_selection import train_test_split\n",
    "import matplotlib.pyplot as plt\n",
    "import seaborn as sns\n",
    "from sklearn.model_selection import train_test_split\n",
    "from sklearn import preprocessing\n",
    "from sklearn.linear_model import LogisticRegression\n",
    "from sklearn.metrics import classification_report,confusion_matrix\n",
    "from sklearn.metrics import mean_squared_error, r2_score"
   ]
  },
  {
   "cell_type": "code",
   "execution_count": 29,
   "id": "2ed7dbd5-88d9-4ed3-bac4-ac1092618942",
   "metadata": {},
   "outputs": [],
   "source": [
    "import numpy as np"
   ]
  },
  {
   "cell_type": "code",
   "execution_count": 30,
   "id": "256f4d5d-0e22-41ea-899e-0bb5c1d71c81",
   "metadata": {},
   "outputs": [],
   "source": [
    "df=pd.read_csv('./advertising.csv')"
   ]
  },
  {
   "cell_type": "code",
   "execution_count": 31,
   "id": "2cbf20da-1d1f-428a-93c4-f9ce288c9e72",
   "metadata": {},
   "outputs": [
    {
     "data": {
      "text/html": [
       "<div>\n",
       "<style scoped>\n",
       "    .dataframe tbody tr th:only-of-type {\n",
       "        vertical-align: middle;\n",
       "    }\n",
       "\n",
       "    .dataframe tbody tr th {\n",
       "        vertical-align: top;\n",
       "    }\n",
       "\n",
       "    .dataframe thead th {\n",
       "        text-align: right;\n",
       "    }\n",
       "</style>\n",
       "<table border=\"1\" class=\"dataframe\">\n",
       "  <thead>\n",
       "    <tr style=\"text-align: right;\">\n",
       "      <th></th>\n",
       "      <th>Daily Time Spent on Site</th>\n",
       "      <th>Age</th>\n",
       "      <th>Area Income</th>\n",
       "      <th>Daily Internet Usage</th>\n",
       "      <th>Ad Topic Line</th>\n",
       "      <th>City</th>\n",
       "      <th>Male</th>\n",
       "      <th>Country</th>\n",
       "      <th>Timestamp</th>\n",
       "      <th>Clicked on Ad</th>\n",
       "    </tr>\n",
       "  </thead>\n",
       "  <tbody>\n",
       "    <tr>\n",
       "      <th>0</th>\n",
       "      <td>68.95</td>\n",
       "      <td>35</td>\n",
       "      <td>61833.90</td>\n",
       "      <td>256.09</td>\n",
       "      <td>Cloned 5thgeneration orchestration</td>\n",
       "      <td>Wrightburgh</td>\n",
       "      <td>0</td>\n",
       "      <td>Tunisia</td>\n",
       "      <td>27-03-2016 00:53</td>\n",
       "      <td>0</td>\n",
       "    </tr>\n",
       "    <tr>\n",
       "      <th>1</th>\n",
       "      <td>80.23</td>\n",
       "      <td>31</td>\n",
       "      <td>68441.85</td>\n",
       "      <td>193.77</td>\n",
       "      <td>Monitored national standardization</td>\n",
       "      <td>West Jodi</td>\n",
       "      <td>1</td>\n",
       "      <td>Nauru</td>\n",
       "      <td>04-04-2016 01:39</td>\n",
       "      <td>0</td>\n",
       "    </tr>\n",
       "    <tr>\n",
       "      <th>2</th>\n",
       "      <td>69.47</td>\n",
       "      <td>26</td>\n",
       "      <td>59785.94</td>\n",
       "      <td>236.50</td>\n",
       "      <td>Organic bottom-line service-desk</td>\n",
       "      <td>Davidton</td>\n",
       "      <td>0</td>\n",
       "      <td>San Marino</td>\n",
       "      <td>13-03-2016 20:35</td>\n",
       "      <td>0</td>\n",
       "    </tr>\n",
       "    <tr>\n",
       "      <th>3</th>\n",
       "      <td>74.15</td>\n",
       "      <td>29</td>\n",
       "      <td>54806.18</td>\n",
       "      <td>245.89</td>\n",
       "      <td>Triple-buffered reciprocal time-frame</td>\n",
       "      <td>West Terrifurt</td>\n",
       "      <td>1</td>\n",
       "      <td>Italy</td>\n",
       "      <td>10-01-2016 02:31</td>\n",
       "      <td>0</td>\n",
       "    </tr>\n",
       "    <tr>\n",
       "      <th>4</th>\n",
       "      <td>68.37</td>\n",
       "      <td>35</td>\n",
       "      <td>73889.99</td>\n",
       "      <td>225.58</td>\n",
       "      <td>Robust logistical utilization</td>\n",
       "      <td>South Manuel</td>\n",
       "      <td>0</td>\n",
       "      <td>Iceland</td>\n",
       "      <td>03-06-2016 03:36</td>\n",
       "      <td>0</td>\n",
       "    </tr>\n",
       "  </tbody>\n",
       "</table>\n",
       "</div>"
      ],
      "text/plain": [
       "   Daily Time Spent on Site  Age  Area Income  Daily Internet Usage  \\\n",
       "0                     68.95   35     61833.90                256.09   \n",
       "1                     80.23   31     68441.85                193.77   \n",
       "2                     69.47   26     59785.94                236.50   \n",
       "3                     74.15   29     54806.18                245.89   \n",
       "4                     68.37   35     73889.99                225.58   \n",
       "\n",
       "                           Ad Topic Line            City  Male     Country  \\\n",
       "0     Cloned 5thgeneration orchestration     Wrightburgh     0     Tunisia   \n",
       "1     Monitored national standardization       West Jodi     1       Nauru   \n",
       "2       Organic bottom-line service-desk        Davidton     0  San Marino   \n",
       "3  Triple-buffered reciprocal time-frame  West Terrifurt     1       Italy   \n",
       "4          Robust logistical utilization    South Manuel     0     Iceland   \n",
       "\n",
       "          Timestamp  Clicked on Ad  \n",
       "0  27-03-2016 00:53              0  \n",
       "1  04-04-2016 01:39              0  \n",
       "2  13-03-2016 20:35              0  \n",
       "3  10-01-2016 02:31              0  \n",
       "4  03-06-2016 03:36              0  "
      ]
     },
     "execution_count": 31,
     "metadata": {},
     "output_type": "execute_result"
    }
   ],
   "source": [
    "df.head()"
   ]
  },
  {
   "cell_type": "code",
   "execution_count": 32,
   "id": "90b0cc46-078e-4dc0-a8a8-0aa8b1451cea",
   "metadata": {},
   "outputs": [
    {
     "data": {
      "text/plain": [
       "Daily Time Spent on Site    0\n",
       "Age                         0\n",
       "Area Income                 0\n",
       "Daily Internet Usage        0\n",
       "Ad Topic Line               0\n",
       "City                        0\n",
       "Male                        0\n",
       "Country                     0\n",
       "Timestamp                   0\n",
       "Clicked on Ad               0\n",
       "dtype: int64"
      ]
     },
     "execution_count": 32,
     "metadata": {},
     "output_type": "execute_result"
    }
   ],
   "source": [
    "df.isna().sum()"
   ]
  },
  {
   "cell_type": "code",
   "execution_count": null,
   "id": "7bc2a8c5-d7f9-448b-a811-b6e01e847ebf",
   "metadata": {},
   "outputs": [],
   "source": []
  },
  {
   "cell_type": "code",
   "execution_count": 35,
   "id": "f92ebb9a-f36a-46cb-970c-b5f0918ac4dd",
   "metadata": {},
   "outputs": [],
   "source": [
    "#Standard Scaling\n",
    "std=preprocessing.StandardScaler()\n",
    "df['Age']=std.fit_transform(df['Age'].values.reshape(-1,1))\n",
    "df['Area Income']=std.fit_transform(df['Area Income'].values.reshape(-1,1))\n",
    "df['Daily Internet Usage']=std.fit_transform(df['Daily Internet Usage'].values.reshape(-1,1))\n"
   ]
  },
  {
   "cell_type": "code",
   "execution_count": 43,
   "id": "f1aa96d9-e0db-4e08-8506-fb0859161a81",
   "metadata": {
    "scrolled": true
   },
   "outputs": [],
   "source": [
    "#Label Encoding\n",
    "label_encoder = preprocessing.LabelEncoder() \n",
    "df['Ad Topic Line']=label_encoder.fit_transform(df['Ad Topic Line'])\n",
    "df['City']=label_encoder.fit_transform(df['City'])\n",
    "df['Country']=label_encoder.fit_transform(df['Country'])\n",
    "\n",
    "Y=df['Clicked on Ad']\n",
    "X=df.drop(['Timestamp','Clicked on Ad'],axis=1)\n",
    "\n",
    "X.dtypes\n",
    "\n",
    "Y.dtypes\n",
    "\n",
    "x_train,x_test,y_train,y_test=train_test_split(X,Y,test_size=0.20,random_state=0)\n",
    "\n",
    "### Logistic Regression\n",
    "\n",
    "model=LogisticRegression(solver='liblinear')\n",
    "\n",
    "model.fit(x_train,y_train)\n",
    "\n",
    "prediction=model.predict(x_test)"
   ]
  },
  {
   "cell_type": "code",
   "execution_count": 44,
   "id": "701e801e-969e-43e9-8b25-26bf6582b6a8",
   "metadata": {},
   "outputs": [
    {
     "name": "stdout",
     "output_type": "stream",
     "text": [
      "              precision    recall  f1-score   support\n",
      "\n",
      "           0       0.95      0.98      0.97       108\n",
      "           1       0.98      0.95      0.96        92\n",
      "\n",
      "    accuracy                           0.96       200\n",
      "   macro avg       0.97      0.96      0.96       200\n",
      "weighted avg       0.97      0.96      0.96       200\n",
      "\n",
      "Mean Squared Error (MSE): 0.035\n",
      "Root Mean Squared Error (RMSE): 0.18708286933869708\n",
      "Coefficient of Determination r2: 0.8582852515436785\n"
     ]
    }
   ],
   "source": [
    "report=classification_report(y_test,prediction)\n",
    "print(report)\n",
    "\n",
    "# Mean Squared Error (MSE)\n",
    "mse = mean_squared_error(prediction, y_test)\n",
    "print(f'Mean Squared Error (MSE): {mse}')\n",
    "\n",
    "# Root Mean Squared Error (RMSE)\n",
    "rmse = np.sqrt(mse)\n",
    "print(f'Root Mean Squared Error (RMSE): {rmse}')\n",
    "\n",
    "r2 = r2_score(prediction,y_test)\n",
    "print(f'Coefficient of Determination r2: {r2}')"
   ]
  },
  {
   "cell_type": "code",
   "execution_count": null,
   "id": "246fa3b2-ce54-4cdb-805f-74d9788db6fe",
   "metadata": {},
   "outputs": [],
   "source": []
  }
 ],
 "metadata": {
  "kernelspec": {
   "display_name": "Python 3 (ipykernel)",
   "language": "python",
   "name": "python3"
  },
  "language_info": {
   "codemirror_mode": {
    "name": "ipython",
    "version": 3
   },
   "file_extension": ".py",
   "mimetype": "text/x-python",
   "name": "python",
   "nbconvert_exporter": "python",
   "pygments_lexer": "ipython3",
   "version": "3.9.18"
  },
  "widgets": {
   "application/vnd.jupyter.widget-state+json": {
    "state": {},
    "version_major": 2,
    "version_minor": 0
   }
  }
 },
 "nbformat": 4,
 "nbformat_minor": 5
}
