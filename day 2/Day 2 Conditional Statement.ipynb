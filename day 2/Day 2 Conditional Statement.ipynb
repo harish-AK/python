{
 "cells": [
  {
   "cell_type": "markdown",
   "metadata": {},
   "source": [
    "### if condition"
   ]
  },
  {
   "cell_type": "code",
   "execution_count": 1,
   "metadata": {},
   "outputs": [],
   "source": [
    "a = 5"
   ]
  },
  {
   "cell_type": "code",
   "execution_count": 2,
   "metadata": {},
   "outputs": [],
   "source": [
    "b = 6"
   ]
  },
  {
   "cell_type": "code",
   "execution_count": 3,
   "metadata": {},
   "outputs": [],
   "source": [
    "if(a>b):\n",
    "    print(\"a is greater\")"
   ]
  },
  {
   "cell_type": "code",
   "execution_count": 4,
   "metadata": {},
   "outputs": [
    {
     "name": "stdout",
     "output_type": "stream",
     "text": [
      "a is lessthan b\n"
     ]
    }
   ],
   "source": [
    "if(a<b):\n",
    "    print(\"a is lessthan b\")"
   ]
  },
  {
   "cell_type": "code",
   "execution_count": 5,
   "metadata": {},
   "outputs": [
    {
     "name": "stdout",
     "output_type": "stream",
     "text": [
      "a is lessthan b\n"
     ]
    }
   ],
   "source": [
    "if(a>b):\n",
    "    print(\"a is greater\")\n",
    "elif(a<b):\n",
    "    print(\"a is lessthan b\")"
   ]
  },
  {
   "cell_type": "code",
   "execution_count": 7,
   "metadata": {},
   "outputs": [
    {
     "name": "stdout",
     "output_type": "stream",
     "text": [
      "a is lessthan b\n"
     ]
    }
   ],
   "source": [
    "if(a>b):\n",
    "    print(\"a is greater\")\n",
    "elif(a==b):\n",
    "    print(\"a is equal to b\")\n",
    "elif(a>=b):\n",
    "    print(\"a is greater than or equal to b\")\n",
    "else:\n",
    "    print(\"a is lessthan b\")"
   ]
  },
  {
   "cell_type": "code",
   "execution_count": 8,
   "metadata": {},
   "outputs": [
    {
     "name": "stdout",
     "output_type": "stream",
     "text": [
      "True\n"
     ]
    }
   ],
   "source": [
    "if((a>b) or (a==b) or (a<b)):\n",
    "    print(True)\n",
    "else:\n",
    "    print(False)"
   ]
  },
  {
   "cell_type": "markdown",
   "metadata": {},
   "source": [
    "### Check whether a blood donor is eligible or not: conditions are, 1. Age should be above 18 years but not more than 55 years 2. Weight should be more than 45kg"
   ]
  },
  {
   "cell_type": "code",
   "execution_count": 9,
   "metadata": {},
   "outputs": [
    {
     "name": "stdout",
     "output_type": "stream",
     "text": [
      "Enter the age:18\n",
      "Enter the weight:46\n",
      "Eligible\n"
     ]
    }
   ],
   "source": [
    "age = int(input(\"Enter the age:\")) #int is the datatype and input will ge the input from the user\n",
    "weight = float(input(\"Enter the weight:\"))\n",
    "if((age>=18) and (age<=55) and (weight>45)):\n",
    "    print(\"Eligible\")\n",
    "else:\n",
    "    print(\"Not eligible\")"
   ]
  },
  {
   "cell_type": "code",
   "execution_count": null,
   "metadata": {},
   "outputs": [],
   "source": []
  }
 ],
 "metadata": {
  "kernelspec": {
   "display_name": "Python 3",
   "language": "python",
   "name": "python3"
  },
  "language_info": {
   "codemirror_mode": {
    "name": "ipython",
    "version": 3
   },
   "file_extension": ".py",
   "mimetype": "text/x-python",
   "name": "python",
   "nbconvert_exporter": "python",
   "pygments_lexer": "ipython3",
   "version": "3.7.6"
  }
 },
 "nbformat": 4,
 "nbformat_minor": 4
}
