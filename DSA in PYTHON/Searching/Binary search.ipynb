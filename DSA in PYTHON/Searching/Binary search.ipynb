{
 "cells": [
  {
   "cell_type": "markdown",
   "id": "e24ccde8-f719-41dc-a9c0-f6a31b01246c",
   "metadata": {},
   "source": [
    "BINARY SEARCH"
   ]
  },
  {
   "cell_type": "code",
   "execution_count": 1,
   "id": "07e3e62f-1a74-4561-b7f5-daedd4057924",
   "metadata": {},
   "outputs": [
    {
     "name": "stdout",
     "output_type": "stream",
     "text": [
      "4\n",
      "6\n",
      "7\n",
      "position  7\n"
     ]
    }
   ],
   "source": [
    "#binary search\n",
    "a = [1, 2, 3, 4, 5, 6, 7, 8, 9]\n",
    "tar = 8\n",
    "\n",
    "low = 0 # min index\n",
    "high = len(a) - 1 # max index\n",
    "\n",
    "while low <= high:\n",
    "    mid = (low + high) // 2 # middle index\n",
    "\n",
    "    if a[mid] == tar:\n",
    "        print(\"position \",mid)\n",
    "        break\n",
    "    elif a[mid] < tar:\n",
    "        low = mid + 1\n",
    "    else:\n",
    "        high = mid - 1"
   ]
  },
  {
   "cell_type": "code",
   "execution_count": null,
   "id": "8a08a168-9e57-4ac8-bed4-4acbce560455",
   "metadata": {},
   "outputs": [],
   "source": []
  },
  {
   "cell_type": "code",
   "execution_count": null,
   "id": "919231e7-2108-42d0-aec6-f0286cfd6833",
   "metadata": {},
   "outputs": [],
   "source": []
  }
 ],
 "metadata": {
  "kernelspec": {
   "display_name": "Python 3 (ipykernel)",
   "language": "python",
   "name": "python3"
  },
  "language_info": {
   "codemirror_mode": {
    "name": "ipython",
    "version": 3
   },
   "file_extension": ".py",
   "mimetype": "text/x-python",
   "name": "python",
   "nbconvert_exporter": "python",
   "pygments_lexer": "ipython3",
   "version": "3.11.5"
  }
 },
 "nbformat": 4,
 "nbformat_minor": 5
}
