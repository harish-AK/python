{
 "cells": [
  {
   "cell_type": "markdown",
   "id": "fd07e174-ff31-4b21-ab5e-e44fd981449f",
   "metadata": {},
   "source": [
    "HEAP SORT"
   ]
  },
  {
   "cell_type": "code",
   "execution_count": 27,
   "id": "55873c88-8712-400d-9a38-342ed0fd9bc9",
   "metadata": {},
   "outputs": [
    {
     "name": "stdout",
     "output_type": "stream",
     "text": [
      "heap list  [9, 11, 14, 22, 54, 76, 81, 89]\n",
      "sort list  [9]\n",
      "heap list  [11, 22, 14, 89, 54, 76, 81]\n",
      "sort list  [9, 11]\n",
      "heap list  [14, 22, 76, 89, 54, 81]\n",
      "sort list  [9, 11, 14]\n",
      "heap list  [22, 54, 76, 89, 81]\n",
      "sort list  [9, 11, 14, 22]\n",
      "heap list  [54, 81, 76, 89]\n",
      "sort list  [9, 11, 14, 22, 54]\n",
      "heap list  [76, 81, 89]\n",
      "sort list  [9, 11, 14, 22, 54, 76]\n",
      "heap list  [81, 89]\n",
      "sort list  [9, 11, 14, 22, 54, 76, 81]\n",
      "heap list  [89]\n",
      "sort list  [9, 11, 14, 22, 54, 76, 81, 89]\n"
     ]
    },
    {
     "data": {
      "text/plain": [
       "[9, 11, 14, 22, 54, 76, 81, 89]"
      ]
     },
     "execution_count": 27,
     "metadata": {},
     "output_type": "execute_result"
    }
   ],
   "source": [
    "# heap sort\n",
    "from heapq import heappop, heappush\n",
    "def heap_sort(arr):\n",
    "    heap = []\n",
    "    for ele in arr:\n",
    "        heappush( heap, ele )\n",
    "    sort = []\n",
    "\n",
    "    # popping elements from list heap\n",
    "    while heap:\n",
    "        print(\"heap list \",heap)\n",
    "        sort.append(heappop(heap))\n",
    "        print(\"sort list \",sort)\n",
    "    return sort\n",
    "list=[9,11,14,22,54,76,81,89]\n",
    "heap_sort(list)"
   ]
  },
  {
   "cell_type": "code",
   "execution_count": null,
   "id": "eebca470-47a3-426f-95e4-f6c7e018a290",
   "metadata": {},
   "outputs": [],
   "source": []
  },
  {
   "cell_type": "code",
   "execution_count": null,
   "id": "883c68a9-73d3-48bb-9d5a-591d1593c220",
   "metadata": {},
   "outputs": [],
   "source": []
  }
 ],
 "metadata": {
  "kernelspec": {
   "display_name": "Python 3 (ipykernel)",
   "language": "python",
   "name": "python3"
  },
  "language_info": {
   "codemirror_mode": {
    "name": "ipython",
    "version": 3
   },
   "file_extension": ".py",
   "mimetype": "text/x-python",
   "name": "python",
   "nbconvert_exporter": "python",
   "pygments_lexer": "ipython3",
   "version": "3.11.5"
  }
 },
 "nbformat": 4,
 "nbformat_minor": 5
}
