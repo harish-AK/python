{
 "cells": [
  {
   "cell_type": "code",
   "execution_count": 22,
   "id": "42a01fd0",
   "metadata": {},
   "outputs": [
    {
     "name": "stdout",
     "output_type": "stream",
     "text": [
      "enter the limit 5\n",
      "Fibonacci sequence:\n",
      "1\n",
      "1\n",
      "2\n",
      "3\n",
      "5\n"
     ]
    }
   ],
   "source": [
    "#hacker rank euler problem-2\n",
    "inp = int(input(\"enter the limit \"))\n",
    "\n",
    "n1, n2 = 0, 1\n",
    "count = 0\n",
    "\n",
    "if inp <= 0:\n",
    "    print(\"positive number only \")\n",
    "elif inp == 1:\n",
    "    print(\"Fibonacci sequence upto\",inp,\":\")\n",
    "    print(n1)\n",
    "#fibonacci \n",
    "else:\n",
    "    print(\"Fibonacci sequence:\")\n",
    "    while count < inp:\n",
    "        #print(n1)\n",
    "        nth = n1 + n2\n",
    "        n1 = n2\n",
    "        n2 = nth\n",
    "        count += 1\n",
    "       # if(n1==0):\n",
    "        print(n1)\n",
    "       # else:\n",
    "        #    print(\"work done\")"
   ]
  },
  {
   "cell_type": "code",
   "execution_count": null,
   "id": "2fc9b0a4",
   "metadata": {},
   "outputs": [],
   "source": []
  },
  {
   "cell_type": "code",
   "execution_count": 21,
   "id": "ba93e108",
   "metadata": {},
   "outputs": [
    {
     "name": "stdout",
     "output_type": "stream",
     "text": [
      "2\n",
      "10\n",
      "10\n",
      "100\n",
      "44\n"
     ]
    }
   ],
   "source": [
    "#sum of even fibonacci numbers\n",
    "n1 = 1\n",
    "n2 = 1\n",
    "fib = n1 + n2\n",
    "even = []\n",
    "question = int(input().strip())\n",
    "for i in range(question):\n",
    "    ip = int(input().strip())\n",
    "    while fib < ip:\n",
    "        even.append(fib) if fib % 2 == 0 else False\n",
    "        n1 = n2\n",
    "        n2 = fib\n",
    "        fib = n1 + n2\n",
    "    print(sum(even))"
   ]
  },
  {
   "cell_type": "code",
   "execution_count": 106,
   "id": "1d8f0165",
   "metadata": {},
   "outputs": [
    {
     "name": "stdout",
     "output_type": "stream",
     "text": [
      "enter the number3\n",
      "[1, 2, 3]\n",
      "Sum of square of  elements in given list:  14\n",
      "Sum of all elements in given list:  6\n",
      "whole square of elements 36\n",
      "22\n"
     ]
    }
   ],
   "source": [
    "#difference in squares\n",
    "n=int(input(\"enter the number\"))\n",
    "a = range(1,n+1)\n",
    "output = list(a)\n",
    "print(output)\n",
    "total = 0\n",
    "\n",
    "list1 = output\n",
    "\n",
    "for ele in range(0, len(list1)):\n",
    "    #sum of squares (1,4,9)\n",
    "    total = total + list1[ele]*list1[ele]\n",
    "\n",
    "print(\"Sum of square of  elements in given list: \", total)\n",
    "\n",
    "\n",
    "tot = 0\n",
    "\n",
    "for ele in range(0, len(list1)):\n",
    "    tot = tot + list1[ele]\n",
    "\n",
    "print(\"Sum of all elements in given list: \", tot)\n",
    "tot=tot*tot\n",
    "print(\"whole square of elements\",tot)\n",
    "\n",
    "\n",
    "diff=tot-total\n",
    "print(diff)"
   ]
  },
  {
   "cell_type": "code",
   "execution_count": 2,
   "id": "f1e5388b",
   "metadata": {},
   "outputs": [
    {
     "name": "stdout",
     "output_type": "stream",
     "text": [
      "2\n",
      "3\n",
      "22\n",
      "10\n",
      "2640\n"
     ]
    }
   ],
   "source": [
    "#3rd\n",
    "noi = int(input().strip())\n",
    "for i in range(noi):\n",
    "    n = int(input().strip())\n",
    "    A = n*(n + 1)*(2*(n) + 1)/6\n",
    "    B = n*(n+1)/2\n",
    "    C = B*B\n",
    "    print(int(C-A))"
   ]
  },
  {
   "cell_type": "code",
   "execution_count": 3,
   "id": "4e96a738",
   "metadata": {},
   "outputs": [
    {
     "name": "stdout",
     "output_type": "stream",
     "text": [
      "enter how many numbers you want to enter2\n",
      "enter the numbers5\n",
      "10\n",
      "enter the numbers10\n",
      "17\n"
     ]
    }
   ],
   "source": [
    "#4 sum of prime numbers\n",
    "n = int(input(\"enter how many numbers you want to enter\").strip())\n",
    "for i in range(n):\n",
    "    ip = int(input(\"enter the numbers\").strip())\n",
    "    def prime_numbers(ip):\n",
    "    \n",
    "        primes = []\n",
    "        for i in range(2, ip + 1):\n",
    "            for j in range(2, int(i ** 0.5) + 1):\n",
    "                if i%j == 0:\n",
    "                    break\n",
    "            else:\n",
    "                primes.append(i)\n",
    "        return primes\n",
    "\n",
    "    prime_list = prime_numbers(ip)\n",
    "    print(sum(prime_list))\n",
    "    "
   ]
  },
  {
   "cell_type": "code",
   "execution_count": 23,
   "id": "3e334ae2",
   "metadata": {},
   "outputs": [
    {
     "name": "stdout",
     "output_type": "stream",
     "text": [
      "enter number times to run2\n",
      "enter numbers 3\n",
      "6\n",
      "enter numbers 4\n",
      "12\n"
     ]
    }
   ],
   "source": [
    "#5 smaller multiple\n",
    "t = int(input(\"enter number times to run\"))\n",
    "for ip in range(t):\n",
    "    n = int(input(\"enter numbers \").strip())\n",
    "    num = 0\n",
    "    while True:\n",
    "        num = num+1\n",
    "        Output = True\n",
    "        for i in range(1, n + 1):\n",
    "            if num % i != 0:                                                             \n",
    "                Output = False\n",
    "                break\n",
    "        if Output:\n",
    "            break\n",
    "    print(num)"
   ]
  },
  {
   "cell_type": "code",
   "execution_count": null,
   "id": "80201991",
   "metadata": {},
   "outputs": [],
   "source": []
  },
  {
   "cell_type": "code",
   "execution_count": null,
   "id": "7ad325d5",
   "metadata": {},
   "outputs": [],
   "source": []
  }
 ],
 "metadata": {
  "kernelspec": {
   "display_name": "Python 3 (ipykernel)",
   "language": "python",
   "name": "python3"
  },
  "language_info": {
   "codemirror_mode": {
    "name": "ipython",
    "version": 3
   },
   "file_extension": ".py",
   "mimetype": "text/x-python",
   "name": "python",
   "nbconvert_exporter": "python",
   "pygments_lexer": "ipython3",
   "version": "3.9.13"
  }
 },
 "nbformat": 4,
 "nbformat_minor": 5
}
