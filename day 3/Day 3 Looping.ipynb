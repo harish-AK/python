{
 "cells": [
  {
   "cell_type": "code",
   "execution_count": 6,
   "metadata": {},
   "outputs": [
    {
     "name": "stdout",
     "output_type": "stream",
     "text": [
      "words: python\n",
      "words: Java\n",
      "words: C\n"
     ]
    }
   ],
   "source": [
    "programming = ['python', 'Java', 'C'] # for loop using list\n",
    "for words in programming:\n",
    "    print(\"words:\", words)"
   ]
  },
  {
   "cell_type": "code",
   "execution_count": 1,
   "metadata": {},
   "outputs": [
    {
     "name": "stdout",
     "output_type": "stream",
     "text": [
      "my ex: she\n",
      "my ex: was\n",
      "my ex: beautiful\n"
     ]
    }
   ],
   "source": [
    "ex=['she','was','beautiful'] #print each words in each line\n",
    "for e in ex:\n",
    "    print(\"my ex:\",e)"
   ]
  },
  {
   "cell_type": "code",
   "execution_count": 6,
   "metadata": {},
   "outputs": [
    {
     "name": "stdout",
     "output_type": "stream",
     "text": [
      "1\n",
      "2\n",
      "3\n",
      "4\n",
      "5\n"
     ]
    }
   ],
   "source": [
    "e=(1,2,3,4,5)#print each number in each line\n",
    "for i in e:\n",
    "    print(i)"
   ]
  },
  {
   "cell_type": "code",
   "execution_count": 12,
   "metadata": {},
   "outputs": [
    {
     "name": "stdout",
     "output_type": "stream",
     "text": [
      "0\n",
      "1\n",
      "2\n",
      "3\n",
      "4\n",
      "5\n",
      "6\n",
      "7\n",
      "8\n",
      "9\n"
     ]
    }
   ],
   "source": [
    "x = range(10) # simple range using for loop\n",
    "for n in x:\n",
    "    print(n)"
   ]
  },
  {
   "cell_type": "code",
   "execution_count": 8,
   "metadata": {},
   "outputs": [
    {
     "name": "stdout",
     "output_type": "stream",
     "text": [
      "h\n",
      "a\n",
      "r\n",
      "i\n",
      "s\n",
      "h\n"
     ]
    }
   ],
   "source": [
    "for i in 'harish':#print every string in each line\n",
    "    print(i)"
   ]
  },
  {
   "cell_type": "code",
   "execution_count": 16,
   "metadata": {},
   "outputs": [
    {
     "name": "stdout",
     "output_type": "stream",
     "text": [
      "10\n",
      "11\n",
      "12\n",
      "13\n",
      "14\n",
      "15\n",
      "16\n",
      "17\n",
      "18\n",
      "19\n"
     ]
    }
   ],
   "source": [
    "x = range(10, 20) # (Start,stop)range using for loop\n",
    "for n in x:\n",
    "    print(n)"
   ]
  },
  {
   "cell_type": "code",
   "execution_count": 10,
   "metadata": {},
   "outputs": [
    {
     "name": "stdout",
     "output_type": "stream",
     "text": [
      "numbers are: 9\n",
      "numbers are: 10\n",
      "numbers are: 11\n",
      "numbers are: 12\n",
      "numbers are: 13\n",
      "numbers are: 14\n",
      "numbers are: 15\n",
      "numbers are: 16\n",
      "numbers are: 17\n",
      "numbers are: 18\n"
     ]
    }
   ],
   "source": [
    "x= range(9,19)#print the  numbers from 9 to 18 in each line \n",
    "for i in x:\n",
    "    print(\"numbers are:\",i)"
   ]
  },
  {
   "cell_type": "code",
   "execution_count": 24,
   "metadata": {},
   "outputs": [
    {
     "name": "stdout",
     "output_type": "stream",
     "text": [
      "10\n",
      "13\n",
      "16\n",
      "19\n"
     ]
    }
   ],
   "source": [
    "x = range(10, 20, 3) # (Start, Stop, Step)range using for loop\n",
    "for n in x:\n",
    "    print(n)"
   ]
  },
  {
   "cell_type": "code",
   "execution_count": 11,
   "metadata": {},
   "outputs": [
    {
     "name": "stdout",
     "output_type": "stream",
     "text": [
      "1\n",
      "5\n",
      "9\n",
      "13\n",
      "17\n"
     ]
    }
   ],
   "source": [
    "for i in range(1,20,4):#satrt=1,stop=20,step=4 prints the numbers from 1 to 20 in the divition of 4\n",
    "    print(i)"
   ]
  },
  {
   "cell_type": "code",
   "execution_count": 34,
   "metadata": {},
   "outputs": [
    {
     "name": "stdout",
     "output_type": "stream",
     "text": [
      "python,Java,C,"
     ]
    }
   ],
   "source": [
    "for words in range(len(programming)): #index using for loop \n",
    "    print(programming[words], end = ',')"
   ]
  },
  {
   "cell_type": "code",
   "execution_count": 15,
   "metadata": {},
   "outputs": [
    {
     "name": "stdout",
     "output_type": "stream",
     "text": [
      "aiml,2021,python,"
     ]
    }
   ],
   "source": [
    "harish=['aiml','2021','python']\n",
    "for go in range(len(harish)):\n",
    "    print(harish[go],end=',')"
   ]
  },
  {
   "cell_type": "code",
   "execution_count": 23,
   "metadata": {},
   "outputs": [
    {
     "name": "stdout",
     "output_type": "stream",
     "text": [
      "python\n",
      "java\n"
     ]
    }
   ],
   "source": [
    "books = ['python', 'java', 'Ruby']  # if condition and break statement using for loop\n",
    "for x in books:\n",
    "    print(x)\n",
    "    if(x == 'java'):\n",
    "        break"
   ]
  },
  {
   "cell_type": "code",
   "execution_count": 20,
   "metadata": {},
   "outputs": [
    {
     "name": "stdout",
     "output_type": "stream",
     "text": [
      "1\n",
      "2\n",
      "3\n",
      "4\n",
      "5\n",
      "6\n",
      "7\n",
      "8\n",
      "9\n",
      "0\n"
     ]
    }
   ],
   "source": [
    "b=[1,2,3,4,5,6,7,8,9,0]#conditional using for loop\n",
    "for i in b:\n",
    "    print(i)\n",
    "    if(i==5):\n",
    "        continue"
   ]
  },
  {
   "cell_type": "code",
   "execution_count": 29,
   "metadata": {},
   "outputs": [
    {
     "name": "stdout",
     "output_type": "stream",
     "text": [
      "p\n",
      "r\n",
      "o\n",
      "g\n",
      "r\n",
      "a\n",
      "m\n",
      "m\n",
      "i\n"
     ]
    }
   ],
   "source": [
    "for x in 'programming':#break in for loop of string\n",
    "    print(x)\n",
    "    if(x == 'i'):\n",
    "        break"
   ]
  },
  {
   "cell_type": "code",
   "execution_count": 32,
   "metadata": {},
   "outputs": [],
   "source": [
    "books = ['python', 'java', 'Ruby']  # if condition and break statement using for loop\n",
    "for x in books:\n",
    "    if(x == 'Ruby'):\n",
    "        break\n",
    "        print(x)\n",
    "    "
   ]
  },
  {
   "cell_type": "code",
   "execution_count": 27,
   "metadata": {},
   "outputs": [
    {
     "name": "stdout",
     "output_type": "stream",
     "text": [
      "not found\n"
     ]
    }
   ],
   "source": [
    "books = ['python', 'java', 'Ruby']  # if condition and break statement using for loop\n",
    "for x in books:\n",
    "    \n",
    "    if(x == 'C'):\n",
    "        break\n",
    "        print(x)\n",
    "else:\n",
    "    print('not found')"
   ]
  },
  {
   "cell_type": "code",
   "execution_count": 37,
   "metadata": {},
   "outputs": [
    {
     "name": "stdout",
     "output_type": "stream",
     "text": [
      "x s g\n",
      "x s h\n",
      "x s i\n",
      "x s j\n",
      "x s h\n"
     ]
    }
   ],
   "source": [
    "a = ['x', 'y', 'z']\n",
    "b = ['s','t', 'u', 'v']\n",
    "c = ['g', 'h', 'i', 'j', 'h']\n",
    "for n in a:\n",
    "    if( n == 'y'):\n",
    "        break\n",
    "    for m in b:\n",
    "        if(m == 't'):\n",
    "            break\n",
    "           # print(m,n)\n",
    "        for z in c:\n",
    "            print(n, m, z)"
   ]
  },
  {
   "cell_type": "code",
   "execution_count": 40,
   "metadata": {},
   "outputs": [
    {
     "name": "stdout",
     "output_type": "stream",
     "text": [
      "java\n",
      "Ruby\n"
     ]
    }
   ],
   "source": [
    "books = ['python', 'java', 'Ruby']  # if condition and continue statement using for loop\n",
    "for x in books:\n",
    "    if(x == 'python'):\n",
    "        continue #execute all statement except the word specifies in if statement\n",
    "    print(x)"
   ]
  },
  {
   "cell_type": "code",
   "execution_count": 81,
   "metadata": {},
   "outputs": [
    {
     "name": "stdout",
     "output_type": "stream",
     "text": [
      "python\n",
      "java\n",
      "Ruby\n"
     ]
    }
   ],
   "source": [
    "books = ['python', 'java', 'Ruby']  # if condition and continue statement using for loop\n",
    "for x in books:\n",
    "    print(x)\n",
    "    if(x == 'python'):\n",
    "        continue"
   ]
  },
  {
   "cell_type": "code",
   "execution_count": 43,
   "metadata": {},
   "outputs": [
    {
     "name": "stdout",
     "output_type": "stream",
     "text": [
      "python\n",
      "java\n",
      "Ruby\n"
     ]
    }
   ],
   "source": [
    "books = ['python', 'java', 'Ruby']  # if condition and pass statement using for loop\n",
    "for x in books:\n",
    "    if(x == 'java'):\n",
    "        pass  #prints nothing\n",
    "    print(x)"
   ]
  },
  {
   "cell_type": "code",
   "execution_count": 91,
   "metadata": {},
   "outputs": [],
   "source": [
    "for x in books:\n",
    "    pass\n"
   ]
  },
  {
   "cell_type": "code",
   "execution_count": 46,
   "metadata": {},
   "outputs": [],
   "source": [
    "a = 5 #pass simply do nothing \n",
    "b = 6\n",
    "if(a<b):\n",
    "    pass\n",
    "else:\n",
    "    print(b)"
   ]
  },
  {
   "cell_type": "code",
   "execution_count": null,
   "metadata": {},
   "outputs": [],
   "source": []
  }
 ],
 "metadata": {
  "kernelspec": {
   "display_name": "Python 3",
   "language": "python",
   "name": "python3"
  },
  "language_info": {
   "codemirror_mode": {
    "name": "ipython",
    "version": 3
   },
   "file_extension": ".py",
   "mimetype": "text/x-python",
   "name": "python",
   "nbconvert_exporter": "python",
   "pygments_lexer": "ipython3",
   "version": "3.8.8"
  }
 },
 "nbformat": 4,
 "nbformat_minor": 4
}
