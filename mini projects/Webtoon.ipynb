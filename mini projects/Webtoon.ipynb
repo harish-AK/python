{
 "cells": [
  {
   "cell_type": "code",
   "execution_count": 1,
   "id": "a6e46c3e",
   "metadata": {},
   "outputs": [],
   "source": [
    "import pandas as pd\n",
    "import matplotlib.pyplot as plt\n",
    "import seaborn as sns\n",
    "import numpy as np\n",
    "from sklearn.linear_model import LinearRegression\n",
    "from sklearn.model_selection import train_test_split\n",
    "from sklearn import metrics\n",
    "from sklearn.feature_extraction.text import CountVectorizer\n",
    "from sklearn.metrics.pairwise import cosine_similarity"
   ]
  },
  {
   "cell_type": "code",
   "execution_count": 2,
   "id": "75fbe3b9",
   "metadata": {},
   "outputs": [],
   "source": [
    "wt = pd.read_csv(\"WebtoonLR2 (1).csv\")"
   ]
  },
  {
   "cell_type": "code",
   "execution_count": 3,
   "id": "eb78d86a",
   "metadata": {},
   "outputs": [
    {
     "data": {
      "text/html": [
       "<div>\n",
       "<style scoped>\n",
       "    .dataframe tbody tr th:only-of-type {\n",
       "        vertical-align: middle;\n",
       "    }\n",
       "\n",
       "    .dataframe tbody tr th {\n",
       "        vertical-align: top;\n",
       "    }\n",
       "\n",
       "    .dataframe thead th {\n",
       "        text-align: right;\n",
       "    }\n",
       "</style>\n",
       "<table border=\"1\" class=\"dataframe\">\n",
       "  <thead>\n",
       "    <tr style=\"text-align: right;\">\n",
       "      <th></th>\n",
       "      <th>id</th>\n",
       "      <th>Name</th>\n",
       "      <th>Writer</th>\n",
       "      <th>Likes</th>\n",
       "      <th>Genre</th>\n",
       "      <th>Rating</th>\n",
       "      <th>Subscribers</th>\n",
       "      <th>Summary</th>\n",
       "      <th>Update</th>\n",
       "      <th>Reading Link</th>\n",
       "    </tr>\n",
       "  </thead>\n",
       "  <tbody>\n",
       "    <tr>\n",
       "      <th>0</th>\n",
       "      <td>0</td>\n",
       "      <td>Let's Play</td>\n",
       "      <td>Leeanne M. Krecic (Mongie)</td>\n",
       "      <td>30600000</td>\n",
       "      <td>Romance</td>\n",
       "      <td>9.62</td>\n",
       "      <td>4200000</td>\n",
       "      <td>She's young, single and about to achieve her d...</td>\n",
       "      <td>UP EVERY TUESDAY</td>\n",
       "      <td>https://www.webtoons.com/en/romance/letsplay/l...</td>\n",
       "    </tr>\n",
       "    <tr>\n",
       "      <th>1</th>\n",
       "      <td>1</td>\n",
       "      <td>True Beauty</td>\n",
       "      <td>Yaongyi</td>\n",
       "      <td>39900000</td>\n",
       "      <td>Romance</td>\n",
       "      <td>9.60</td>\n",
       "      <td>6400000</td>\n",
       "      <td>After binge-watching beauty videos online, a s...</td>\n",
       "      <td>UP EVERY WEDNESDAY</td>\n",
       "      <td>https://www.webtoons.com/en/romance/truebeauty...</td>\n",
       "    </tr>\n",
       "    <tr>\n",
       "      <th>2</th>\n",
       "      <td>2</td>\n",
       "      <td>Midnight Poppy Land</td>\n",
       "      <td>Lilydusk</td>\n",
       "      <td>10400000</td>\n",
       "      <td>Romance</td>\n",
       "      <td>9.81</td>\n",
       "      <td>2100000</td>\n",
       "      <td>After making a grisly discovery in the country...</td>\n",
       "      <td>UP EVERY SATURDAY</td>\n",
       "      <td>https://www.webtoons.com/en/romance/midnight-p...</td>\n",
       "    </tr>\n",
       "    <tr>\n",
       "      <th>3</th>\n",
       "      <td>3</td>\n",
       "      <td>Age Matters</td>\n",
       "      <td>Enjelicious</td>\n",
       "      <td>25900000</td>\n",
       "      <td>Romance</td>\n",
       "      <td>9.79</td>\n",
       "      <td>3500000</td>\n",
       "      <td>She's a hopeless romantic who's turning 30's  ...</td>\n",
       "      <td>UP EVERY WEDNESDAY</td>\n",
       "      <td>https://www.webtoons.com/en/romance/age-matter...</td>\n",
       "    </tr>\n",
       "    <tr>\n",
       "      <th>4</th>\n",
       "      <td>4</td>\n",
       "      <td>Unholy Blood</td>\n",
       "      <td>Lina Im / Jeonghyeon Kim</td>\n",
       "      <td>9900000</td>\n",
       "      <td>Supernatural</td>\n",
       "      <td>9.85</td>\n",
       "      <td>1500000</td>\n",
       "      <td>When vampires destroy her chance to have the n...</td>\n",
       "      <td>UP EVERY THURSDAY</td>\n",
       "      <td>https://www.webtoons.com/en/supernatural/unhol...</td>\n",
       "    </tr>\n",
       "    <tr>\n",
       "      <th>...</th>\n",
       "      <td>...</td>\n",
       "      <td>...</td>\n",
       "      <td>...</td>\n",
       "      <td>...</td>\n",
       "      <td>...</td>\n",
       "      <td>...</td>\n",
       "      <td>...</td>\n",
       "      <td>...</td>\n",
       "      <td>...</td>\n",
       "      <td>...</td>\n",
       "    </tr>\n",
       "    <tr>\n",
       "      <th>564</th>\n",
       "      <td>564</td>\n",
       "      <td>Third Shift Society</td>\n",
       "      <td>Meredith Moriarty</td>\n",
       "      <td>866428</td>\n",
       "      <td>Supernatural</td>\n",
       "      <td>9.78</td>\n",
       "      <td>376900</td>\n",
       "      <td>Life's funny. One minute you're jobless, deep ...</td>\n",
       "      <td>UP EVERY FRIDAY</td>\n",
       "      <td>https://www.webtoons.com/en/supernatural/third...</td>\n",
       "    </tr>\n",
       "    <tr>\n",
       "      <th>565</th>\n",
       "      <td>565</td>\n",
       "      <td>Adamsville</td>\n",
       "      <td>Michael Regina</td>\n",
       "      <td>184981</td>\n",
       "      <td>Mystery</td>\n",
       "      <td>9.32</td>\n",
       "      <td>60400</td>\n",
       "      <td>\"Adamsville\" is an all ages series about two m...</td>\n",
       "      <td>COMPLETED</td>\n",
       "      <td>https://www.webtoons.com/en/mystery/adamsville...</td>\n",
       "    </tr>\n",
       "    <tr>\n",
       "      <th>566</th>\n",
       "      <td>566</td>\n",
       "      <td>WEBTOON Now</td>\n",
       "      <td>LOZOLZ / Wyatt the Cat</td>\n",
       "      <td>1900000</td>\n",
       "      <td>Informative</td>\n",
       "      <td>9.25</td>\n",
       "      <td>459200</td>\n",
       "      <td>Get your WEBTOON news here!</td>\n",
       "      <td>UP EVERY MONDAY</td>\n",
       "      <td>https://www.webtoons.com/en/tiptoon/webtoon-no...</td>\n",
       "    </tr>\n",
       "    <tr>\n",
       "      <th>567</th>\n",
       "      <td>567</td>\n",
       "      <td>Staying Healthy Together</td>\n",
       "      <td>Various Artists</td>\n",
       "      <td>1500000</td>\n",
       "      <td>Informative</td>\n",
       "      <td>9.76</td>\n",
       "      <td>204600</td>\n",
       "      <td>A series of tips for staying safe during the C...</td>\n",
       "      <td>COMPLETED</td>\n",
       "      <td>https://www.webtoons.com/en/tiptoon/staying-he...</td>\n",
       "    </tr>\n",
       "    <tr>\n",
       "      <th>568</th>\n",
       "      <td>568</td>\n",
       "      <td>ã„´ã…‡ã„¹ã…‡ã„´ã„¹</td>\n",
       "      <td>LOZOLZ</td>\n",
       "      <td>265458</td>\n",
       "      <td>Informative</td>\n",
       "      <td>8.83</td>\n",
       "      <td>109100</td>\n",
       "      <td>The mysterious team that brings Webtoon to you...</td>\n",
       "      <td>COMPLETED</td>\n",
       "      <td>https://www.webtoons.com/en/tiptoon/lozolz/lis...</td>\n",
       "    </tr>\n",
       "  </tbody>\n",
       "</table>\n",
       "<p>569 rows × 10 columns</p>\n",
       "</div>"
      ],
      "text/plain": [
       "      id                      Name                      Writer     Likes  \\\n",
       "0      0                Let's Play  Leeanne M. Krecic (Mongie)  30600000   \n",
       "1      1               True Beauty                     Yaongyi  39900000   \n",
       "2      2       Midnight Poppy Land                    Lilydusk  10400000   \n",
       "3      3               Age Matters                 Enjelicious  25900000   \n",
       "4      4              Unholy Blood    Lina Im / Jeonghyeon Kim   9900000   \n",
       "..   ...                       ...                         ...       ...   \n",
       "564  564       Third Shift Society           Meredith Moriarty    866428   \n",
       "565  565                Adamsville              Michael Regina    184981   \n",
       "566  566               WEBTOON Now      LOZOLZ / Wyatt the Cat   1900000   \n",
       "567  567  Staying Healthy Together             Various Artists   1500000   \n",
       "568  568        ã„´ã…‡ã„¹ã…‡ã„´ã„¹                      LOZOLZ    265458   \n",
       "\n",
       "            Genre  Rating  Subscribers  \\\n",
       "0         Romance    9.62      4200000   \n",
       "1         Romance    9.60      6400000   \n",
       "2         Romance    9.81      2100000   \n",
       "3         Romance    9.79      3500000   \n",
       "4    Supernatural    9.85      1500000   \n",
       "..            ...     ...          ...   \n",
       "564  Supernatural    9.78       376900   \n",
       "565       Mystery    9.32        60400   \n",
       "566   Informative    9.25       459200   \n",
       "567   Informative    9.76       204600   \n",
       "568   Informative    8.83       109100   \n",
       "\n",
       "                                               Summary              Update  \\\n",
       "0    She's young, single and about to achieve her d...    UP EVERY TUESDAY   \n",
       "1    After binge-watching beauty videos online, a s...  UP EVERY WEDNESDAY   \n",
       "2    After making a grisly discovery in the country...   UP EVERY SATURDAY   \n",
       "3    She's a hopeless romantic who's turning 30's  ...  UP EVERY WEDNESDAY   \n",
       "4    When vampires destroy her chance to have the n...   UP EVERY THURSDAY   \n",
       "..                                                 ...                 ...   \n",
       "564  Life's funny. One minute you're jobless, deep ...     UP EVERY FRIDAY   \n",
       "565  \"Adamsville\" is an all ages series about two m...           COMPLETED   \n",
       "566                        Get your WEBTOON news here!     UP EVERY MONDAY   \n",
       "567  A series of tips for staying safe during the C...           COMPLETED   \n",
       "568  The mysterious team that brings Webtoon to you...           COMPLETED   \n",
       "\n",
       "                                          Reading Link  \n",
       "0    https://www.webtoons.com/en/romance/letsplay/l...  \n",
       "1    https://www.webtoons.com/en/romance/truebeauty...  \n",
       "2    https://www.webtoons.com/en/romance/midnight-p...  \n",
       "3    https://www.webtoons.com/en/romance/age-matter...  \n",
       "4    https://www.webtoons.com/en/supernatural/unhol...  \n",
       "..                                                 ...  \n",
       "564  https://www.webtoons.com/en/supernatural/third...  \n",
       "565  https://www.webtoons.com/en/mystery/adamsville...  \n",
       "566  https://www.webtoons.com/en/tiptoon/webtoon-no...  \n",
       "567  https://www.webtoons.com/en/tiptoon/staying-he...  \n",
       "568  https://www.webtoons.com/en/tiptoon/lozolz/lis...  \n",
       "\n",
       "[569 rows x 10 columns]"
      ]
     },
     "execution_count": 3,
     "metadata": {},
     "output_type": "execute_result"
    }
   ],
   "source": [
    "wt"
   ]
  },
  {
   "cell_type": "code",
   "execution_count": 4,
   "id": "91bf83ff",
   "metadata": {},
   "outputs": [
    {
     "data": {
      "text/plain": [
       "Index(['id', 'Name', 'Writer', 'Likes', 'Genre', 'Rating', 'Subscribers',\n",
       "       'Summary', 'Update', 'Reading Link'],\n",
       "      dtype='object')"
      ]
     },
     "execution_count": 4,
     "metadata": {},
     "output_type": "execute_result"
    }
   ],
   "source": [
    "wt.columns"
   ]
  },
  {
   "cell_type": "code",
   "execution_count": 5,
   "id": "38d826ba",
   "metadata": {},
   "outputs": [
    {
     "data": {
      "text/html": [
       "<div>\n",
       "<style scoped>\n",
       "    .dataframe tbody tr th:only-of-type {\n",
       "        vertical-align: middle;\n",
       "    }\n",
       "\n",
       "    .dataframe tbody tr th {\n",
       "        vertical-align: top;\n",
       "    }\n",
       "\n",
       "    .dataframe thead th {\n",
       "        text-align: right;\n",
       "    }\n",
       "</style>\n",
       "<table border=\"1\" class=\"dataframe\">\n",
       "  <thead>\n",
       "    <tr style=\"text-align: right;\">\n",
       "      <th></th>\n",
       "      <th>id</th>\n",
       "      <th>Name</th>\n",
       "      <th>Writer</th>\n",
       "      <th>Likes</th>\n",
       "      <th>Genre</th>\n",
       "      <th>Rating</th>\n",
       "      <th>Subscribers</th>\n",
       "      <th>Summary</th>\n",
       "      <th>Update</th>\n",
       "      <th>Reading Link</th>\n",
       "    </tr>\n",
       "  </thead>\n",
       "  <tbody>\n",
       "    <tr>\n",
       "      <th>0</th>\n",
       "      <td>0</td>\n",
       "      <td>Let's Play</td>\n",
       "      <td>Leeanne M. Krecic (Mongie)</td>\n",
       "      <td>30600000</td>\n",
       "      <td>Romance</td>\n",
       "      <td>9.62</td>\n",
       "      <td>4200000</td>\n",
       "      <td>She's young, single and about to achieve her d...</td>\n",
       "      <td>UP EVERY TUESDAY</td>\n",
       "      <td>https://www.webtoons.com/en/romance/letsplay/l...</td>\n",
       "    </tr>\n",
       "    <tr>\n",
       "      <th>1</th>\n",
       "      <td>1</td>\n",
       "      <td>True Beauty</td>\n",
       "      <td>Yaongyi</td>\n",
       "      <td>39900000</td>\n",
       "      <td>Romance</td>\n",
       "      <td>9.60</td>\n",
       "      <td>6400000</td>\n",
       "      <td>After binge-watching beauty videos online, a s...</td>\n",
       "      <td>UP EVERY WEDNESDAY</td>\n",
       "      <td>https://www.webtoons.com/en/romance/truebeauty...</td>\n",
       "    </tr>\n",
       "    <tr>\n",
       "      <th>2</th>\n",
       "      <td>2</td>\n",
       "      <td>Midnight Poppy Land</td>\n",
       "      <td>Lilydusk</td>\n",
       "      <td>10400000</td>\n",
       "      <td>Romance</td>\n",
       "      <td>9.81</td>\n",
       "      <td>2100000</td>\n",
       "      <td>After making a grisly discovery in the country...</td>\n",
       "      <td>UP EVERY SATURDAY</td>\n",
       "      <td>https://www.webtoons.com/en/romance/midnight-p...</td>\n",
       "    </tr>\n",
       "    <tr>\n",
       "      <th>3</th>\n",
       "      <td>3</td>\n",
       "      <td>Age Matters</td>\n",
       "      <td>Enjelicious</td>\n",
       "      <td>25900000</td>\n",
       "      <td>Romance</td>\n",
       "      <td>9.79</td>\n",
       "      <td>3500000</td>\n",
       "      <td>She's a hopeless romantic who's turning 30's  ...</td>\n",
       "      <td>UP EVERY WEDNESDAY</td>\n",
       "      <td>https://www.webtoons.com/en/romance/age-matter...</td>\n",
       "    </tr>\n",
       "    <tr>\n",
       "      <th>4</th>\n",
       "      <td>4</td>\n",
       "      <td>Unholy Blood</td>\n",
       "      <td>Lina Im / Jeonghyeon Kim</td>\n",
       "      <td>9900000</td>\n",
       "      <td>Supernatural</td>\n",
       "      <td>9.85</td>\n",
       "      <td>1500000</td>\n",
       "      <td>When vampires destroy her chance to have the n...</td>\n",
       "      <td>UP EVERY THURSDAY</td>\n",
       "      <td>https://www.webtoons.com/en/supernatural/unhol...</td>\n",
       "    </tr>\n",
       "  </tbody>\n",
       "</table>\n",
       "</div>"
      ],
      "text/plain": [
       "   id                 Name                      Writer     Likes  \\\n",
       "0   0           Let's Play  Leeanne M. Krecic (Mongie)  30600000   \n",
       "1   1          True Beauty                     Yaongyi  39900000   \n",
       "2   2  Midnight Poppy Land                    Lilydusk  10400000   \n",
       "3   3          Age Matters                 Enjelicious  25900000   \n",
       "4   4         Unholy Blood    Lina Im / Jeonghyeon Kim   9900000   \n",
       "\n",
       "          Genre  Rating  Subscribers  \\\n",
       "0       Romance    9.62      4200000   \n",
       "1       Romance    9.60      6400000   \n",
       "2       Romance    9.81      2100000   \n",
       "3       Romance    9.79      3500000   \n",
       "4  Supernatural    9.85      1500000   \n",
       "\n",
       "                                             Summary              Update  \\\n",
       "0  She's young, single and about to achieve her d...    UP EVERY TUESDAY   \n",
       "1  After binge-watching beauty videos online, a s...  UP EVERY WEDNESDAY   \n",
       "2  After making a grisly discovery in the country...   UP EVERY SATURDAY   \n",
       "3  She's a hopeless romantic who's turning 30's  ...  UP EVERY WEDNESDAY   \n",
       "4  When vampires destroy her chance to have the n...   UP EVERY THURSDAY   \n",
       "\n",
       "                                        Reading Link  \n",
       "0  https://www.webtoons.com/en/romance/letsplay/l...  \n",
       "1  https://www.webtoons.com/en/romance/truebeauty...  \n",
       "2  https://www.webtoons.com/en/romance/midnight-p...  \n",
       "3  https://www.webtoons.com/en/romance/age-matter...  \n",
       "4  https://www.webtoons.com/en/supernatural/unhol...  "
      ]
     },
     "execution_count": 5,
     "metadata": {},
     "output_type": "execute_result"
    }
   ],
   "source": [
    "wt.head()"
   ]
  },
  {
   "cell_type": "code",
   "execution_count": 6,
   "id": "b6d5561f",
   "metadata": {},
   "outputs": [
    {
     "data": {
      "text/html": [
       "<div>\n",
       "<style scoped>\n",
       "    .dataframe tbody tr th:only-of-type {\n",
       "        vertical-align: middle;\n",
       "    }\n",
       "\n",
       "    .dataframe tbody tr th {\n",
       "        vertical-align: top;\n",
       "    }\n",
       "\n",
       "    .dataframe thead th {\n",
       "        text-align: right;\n",
       "    }\n",
       "</style>\n",
       "<table border=\"1\" class=\"dataframe\">\n",
       "  <thead>\n",
       "    <tr style=\"text-align: right;\">\n",
       "      <th></th>\n",
       "      <th>id</th>\n",
       "      <th>Likes</th>\n",
       "      <th>Rating</th>\n",
       "      <th>Subscribers</th>\n",
       "    </tr>\n",
       "  </thead>\n",
       "  <tbody>\n",
       "    <tr>\n",
       "      <th>count</th>\n",
       "      <td>569.000000</td>\n",
       "      <td>5.690000e+02</td>\n",
       "      <td>569.000000</td>\n",
       "      <td>5.690000e+02</td>\n",
       "    </tr>\n",
       "    <tr>\n",
       "      <th>mean</th>\n",
       "      <td>284.000000</td>\n",
       "      <td>1.882686e+08</td>\n",
       "      <td>9.418998</td>\n",
       "      <td>4.786225e+05</td>\n",
       "    </tr>\n",
       "    <tr>\n",
       "      <th>std</th>\n",
       "      <td>164.400426</td>\n",
       "      <td>2.717342e+09</td>\n",
       "      <td>0.557571</td>\n",
       "      <td>6.805814e+05</td>\n",
       "    </tr>\n",
       "    <tr>\n",
       "      <th>min</th>\n",
       "      <td>0.000000</td>\n",
       "      <td>3.440000e+02</td>\n",
       "      <td>5.410000</td>\n",
       "      <td>1.700000e+03</td>\n",
       "    </tr>\n",
       "    <tr>\n",
       "      <th>25%</th>\n",
       "      <td>142.000000</td>\n",
       "      <td>2.696760e+05</td>\n",
       "      <td>9.310000</td>\n",
       "      <td>1.131000e+05</td>\n",
       "    </tr>\n",
       "    <tr>\n",
       "      <th>50%</th>\n",
       "      <td>284.000000</td>\n",
       "      <td>9.565540e+05</td>\n",
       "      <td>9.580000</td>\n",
       "      <td>2.549000e+05</td>\n",
       "    </tr>\n",
       "    <tr>\n",
       "      <th>75%</th>\n",
       "      <td>426.000000</td>\n",
       "      <td>3.454345e+06</td>\n",
       "      <td>9.730000</td>\n",
       "      <td>5.564000e+05</td>\n",
       "    </tr>\n",
       "    <tr>\n",
       "      <th>max</th>\n",
       "      <td>568.000000</td>\n",
       "      <td>5.192300e+10</td>\n",
       "      <td>9.930000</td>\n",
       "      <td>6.400000e+06</td>\n",
       "    </tr>\n",
       "  </tbody>\n",
       "</table>\n",
       "</div>"
      ],
      "text/plain": [
       "               id         Likes      Rating   Subscribers\n",
       "count  569.000000  5.690000e+02  569.000000  5.690000e+02\n",
       "mean   284.000000  1.882686e+08    9.418998  4.786225e+05\n",
       "std    164.400426  2.717342e+09    0.557571  6.805814e+05\n",
       "min      0.000000  3.440000e+02    5.410000  1.700000e+03\n",
       "25%    142.000000  2.696760e+05    9.310000  1.131000e+05\n",
       "50%    284.000000  9.565540e+05    9.580000  2.549000e+05\n",
       "75%    426.000000  3.454345e+06    9.730000  5.564000e+05\n",
       "max    568.000000  5.192300e+10    9.930000  6.400000e+06"
      ]
     },
     "execution_count": 6,
     "metadata": {},
     "output_type": "execute_result"
    }
   ],
   "source": [
    "wt.describe()"
   ]
  },
  {
   "cell_type": "code",
   "execution_count": 7,
   "id": "ad286ada",
   "metadata": {},
   "outputs": [
    {
     "data": {
      "text/plain": [
       "(569, 10)"
      ]
     },
     "execution_count": 7,
     "metadata": {},
     "output_type": "execute_result"
    }
   ],
   "source": [
    "wt.shape"
   ]
  },
  {
   "cell_type": "code",
   "execution_count": 8,
   "id": "3d167671",
   "metadata": {},
   "outputs": [
    {
     "data": {
      "text/plain": [
       "9.41899824253074"
      ]
     },
     "execution_count": 8,
     "metadata": {},
     "output_type": "execute_result"
    }
   ],
   "source": [
    "np.mean(wt['Rating'])"
   ]
  },
  {
   "cell_type": "code",
   "execution_count": 9,
   "id": "2e5b557f",
   "metadata": {},
   "outputs": [
    {
     "data": {
      "text/plain": [
       "array(['Leeanne M. Krecic (Mongie)', 'Yaongyi', 'Lilydusk', 'Enjelicious',\n",
       "       'Lina Im / Jeonghyeon Kim', 'Emma Krogell', 'Paola Batalla',\n",
       "       'YC / Rakyeon', 'Wishroomness', 'Quimchee', 'Lee Yone',\n",
       "       'Colourbee', 'Seokwoo', 'SAM', 'Remin', 'Jungyoon / Taegeon',\n",
       "       'Got W / Jocobong', 'SEOPASS / RAZEN', 'Carnby Kim / Hongpil',\n",
       "       'Sophia', 'Miranda Mundt', 'Yongtaek Chae / GARAM HAN',\n",
       "       'Taejun Pak', 'Ink. / Hyerim Sung', 'Ephemerys / Sophism',\n",
       "       'Morangji', 'MaracuyasArt', 'LuckS', '2F', 'HONGDUCK / NEMONE',\n",
       "       'Violet Karim', 'Nakano Mayaka', 'Maenggi Ki',\n",
       "       'the gom (happybooks2u) / jungmi', 'Taejun Pak / Kim Junghyun',\n",
       "       'Yunana / Heabun', 'Jjolee', 'MiTi / GUGU', 'Junk Ren / WmW',\n",
       "       'Honey B', 'ARI', 'MARO / kang jaegeon', 'Cafelatte / JINHA',\n",
       "       'MURO', 'Gisong / NemGa', 'echorise', 'Kawai Aporo',\n",
       "       'Chihiro Howe', 'Pani', 'Songah Min',\n",
       "       'Juin Kim / Taejun Pak Webtoon Company', 'WasakBasak / JANE',\n",
       "       'Nawa', 'Mel0h', 'Soonkki', 'Jimena Aranda', 'Bae Jin-Soo',\n",
       "       'Nicki Pau Preto / Foxkirin', 'Dalgonyak',\n",
       "       'GirlsOnFilm / ValeriaM', 'Eun Hyuk Park', 'Baek June / Thresher',\n",
       "       'Dongwoo Han / Dohee Lee', 'POGO / HOOPA', 'MandaRat / NoChanJoo',\n",
       "       'Na-eum So', 'Nikki Dibya Wardhana / Bryan Arfiandy', '52chu',\n",
       "       'JiEun Son', 'Jason King', 'RoseBean / One Punch Rabbit', 'Hahim',\n",
       "       'Dogado / Lucas', 'Gwangtanto / Maduru', 'JongBeom Lee',\n",
       "       'Keon Tan', 'EGA', 'Tupaikidal', 'YenKin', 'Marvin.W / caw-chan',\n",
       "       'JH', 'Song Geukjang', 'NeverDraws', 'kkanaria',\n",
       "       'Taejun Pak / SW Jeon', 'Vicente Miranda', 'Yellow sheep / So-p',\n",
       "       'Jeonyeok Lee', 'Carnby Kim / Youngchan Hwang', 'dagwa', 'Lee Hey',\n",
       "       'Big Hit Ent. / LICO', 'Yunhui Na', 'Hyeon A Cho', 'Arechan',\n",
       "       'instantmiso', 'lifelight', 'LEE WONSIK / GGULCHAN', 'HD3',\n",
       "       'HUN / ZHENA', 'Leehama', 'VANZIUN',\n",
       "       'saltacuentos / Lion Illustration', 'Ahyun', 'Jeongseo',\n",
       "       'zealforart', 'Lauren Schmidt', 'KPJ / Magmi', 'yunuji / haejin',\n",
       "       'Monica Gallagher', 'Hongchi', 'MÃ\\xadriam Bonastre Tur',\n",
       "       'Ilkwon Ha', 'Subong Park', 'H-P Lehkonen', 'COSMOS / VAN.J',\n",
       "       'suspu', 'Donggeon Lee', 'Tri Vuong', 'LICO', 'Jungle Julia',\n",
       "       'Patrick Flores-Scott / Little Corvus', 'OMYO', 'HP56',\n",
       "       'han kyoung chal', 'RaÃºl Trevino', 'WEBTOON / Various Artists',\n",
       "       'VIMEDDIEE', 'Sini / Hyeono', 'Hanna Alkaf / Nisrina A.N.', 'MiTi',\n",
       "       'Yangsoo Kim / Dogado', 'SUNGHO AN', 'SSO PARK',\n",
       "       'Thomas F. Zahler', 'Jewon Yeon', 'David Tischman / Audrey Mok',\n",
       "       'Pillwon Jung', 'Walter Ostlie', 'Molly Brooks',\n",
       "       'Rod Hannah / stratosmacca', 'seri / Biwan',\n",
       "       \"Camilla d'Errico / Stephen W. Martin\", 'Youngpaka',\n",
       "       'Inwan Youn / Sunhee Kim', 'James Maddox / David Stoll',\n",
       "       'Jason Brubaker', 'Common / Noble Transmission', 'Various Artists',\n",
       "       'Brayden Sato', 'Nicky Soh', 'A.K. Lovelace / Shaun Noel', 'GMOW',\n",
       "       'Alphatart / Sumpul', 'Lumaga', 'Ebae Kim',\n",
       "       'Anne Delseit / Marissa Delbressine', 'Mai Hirschfeld_', 'Ushio',\n",
       "       'Stephen McCranie', 'Swansgarden', 'Rorita', 'Kat / Ali', 'Nylana',\n",
       "       'dewkneelight', 'M. Victoria Robado', 'Hellothisisangle',\n",
       "       'Rachel Smythe', 'Junepurrr', 'Purpah', 'LambCat',\n",
       "       'Yeoseulki / Early Flower', 'Wendy Lian Martin', 'Yongje Park',\n",
       "       'Bangguseok Gimssi / Omagam', 'MSG / Teava', 'HARIHEEN / MOKGAMGI',\n",
       "       'sing N song / UMI', 'HYEONG EUN / JUDER', 'Fupin / Eunji',\n",
       "       'Dalsaeowl / Hwaeum', 'HereLee / Alphatart', 'Blue-Deep', 'SIU',\n",
       "       'Jeho Son / ZHENA', 'New lung / Dimang', 'Hyun hoo Joo / Kumtata',\n",
       "       'JYUN / Hong Cha', 'Bloomy / INUS', 'Sehoon Kim',\n",
       "       'Zerowater / UMKY', 'XUANN', 'Kkulbeol / Beolkkul',\n",
       "       'RenÃ©e Ahdieh / SilvesterVitale', 'Moonsia', 'Jaerim / Bulsa',\n",
       "       'Hwang DoTol / Jeongseo', 'Kitaeon / Frost Mourne',\n",
       "       'Bulsa / Yomgary', 'Hannah Patten / Violet Matter',\n",
       "       'JEON Segi / JEON Hoyun', 'Merryweather / MAYUI', 'UMKY / SEHON',\n",
       "       'Merryweather / PeaCH', 'WmW / Silke Tara', 'KAKON / RYU HEON',\n",
       "       'Yeoul / ODI', 'Jimmy Sin / Karin Park', 'Lion Illustration',\n",
       "       'Cibeles', 'Jinwoo Kim / Gonbung', 'Dodomoon / doip', 'Atterozen',\n",
       "       'Yankifull', 'Brent Bristol', 'dedart / Chanwook Jeon', 'Suosu',\n",
       "       'eon', 'roousuu / WmW', 'Gosha / Solem', 'Sam Bragg', 'Hwandaeng',\n",
       "       'K. Oliver', 'Kim su bak / Kan', 'JAEAH / GARAM HAN', 'Goaten',\n",
       "       'HAN KIJOO / 1', 'Titasupp', 'Dalbong', 'NAGATERBANG',\n",
       "       'B.Y / JRobin', 'Nekucciola', nan, 'Song Hyunju', 'WmW / Thabfu',\n",
       "       'Captain Juuter', 'Hyunseok Yun', 'PORTO / Junki Hong',\n",
       "       'kiki / E-um', 'Katie Cook',\n",
       "       'Jingle & DOXOâ™¥ï¸\\x8f / Brian Koffler', 'HadeToons', 'Maf',\n",
       "       'Yeri', 'Kaisar', 'AC Stuart / Victor Rosas II', 'zelbasen',\n",
       "       'Matthew J. Rainwater', 'Mihi', 'Currygom', 'Jeong Summer',\n",
       "       'Gasfard', 'Youngsoon Yang', 'Chaeeun Lee',\n",
       "       'Jeho Son / Kwangsu Lee', 'Giun Ryu / Mun Jeong Hoo',\n",
       "       'Kris Nguyen', 'Madeleine Rosca', 'Whitherling', 'walkingnorth',\n",
       "       'Rurisen (L. Zhu)', 'Haga', 'Ahniki', 'Josh Ulrich', 'Chris McCoy',\n",
       "       'Pink_Alien', 'Merryweather / Porforever', 'Snailords', 'ccustard',\n",
       "       'SAKK', 'Hongjacga', 'smbryms', 'POGO', 'Bryan Golden', 'SimzArt',\n",
       "       'Beth Behrs & Matt Doyle / Sid Kotian',\n",
       "       'Richard Dinnick / Magda Price & Miguel Sepulveda',\n",
       "       'Kevin Grevioux / Ryan Benjamin', 'Chuck Brown / Sanford Greene',\n",
       "       'Haram / Youngji Kim', 'Paul Tobin / Ray Nadine', 'Michelle Phan',\n",
       "       'Ghost Wintersnow',\n",
       "       'Sean Galloway / â€‹ Ian Hopps / Leonel Castellani',\n",
       "       'Jaekyeong Um / Beom Sick Cheon',\n",
       "       'Jessica Chobot& Erika Lewis / Claudia Aguirre', 'Sungmin Kim',\n",
       "       'Serae Kim', 'Joseph Grabowski / Colin Lawler', 'Kyusam Kim',\n",
       "       'Maria Riccio / Tommaso Bennato', 'Bradley Mason / SCE',\n",
       "       'John Barrowman / Carole Barrowman and Erika Lewis', 'M. Nires',\n",
       "       'mame Â´ï½¥Ï‰ï½¥`', 'J.oori', 'OHKATES', 'Cynthia J.S.',\n",
       "       'Heylenne', 'Isakytm', 'StarBite / CRC Payne', 'Color_LES',\n",
       "       'fishball', 'Zaanart', 'Momozerii', 'AENGO', 'Curryuku', 'Namsoo',\n",
       "       'Teo / Corey', 'Jaerim / Eunjeong Kim', 'Shen', 'Nimni',\n",
       "       'Shen / David Mercier', 'keitalia', 'KenneDuck / Gia', 'Murrz',\n",
       "       '911', 'Steak / Sang beom', 'ST', 'RE ME', 'Meritxell Garcia',\n",
       "       'AHNJOO', 'Guy / Teo', 'Danielle Corsetto / Monica Gallagher',\n",
       "       'littlebobler / soaporsalad', 'Shren Patel / Emi MG',\n",
       "       'Yun-chang Lee', 'Dami Lee', 'Boredman', 'Deya Muniz',\n",
       "       'Madeline Ince', 'Cutbu', 'joho', 'Olso', 'Sokomin',\n",
       "       'Mikey Heller', 'DT Saranya', 'Benji Nate', 'Muffin Girl',\n",
       "       'Ryan Pagelow', 'kyutepastry', 'Dustin Rogers', 'Dorris McComics',\n",
       "       'Sarah Bollinger / Tara Kurtzhals', 'Cho Seok', 'animalsk',\n",
       "       'AC Stuart / Kat Swenski', 'David Mercier',\n",
       "       'Sara Zimmerman/Unearthed Comics', 'samchon', 'Wes', 'Julia Kaye',\n",
       "       'Reza Farazmand', 'Mallowboo / Diggymungo', 'John McNamee',\n",
       "       'Megan McKay', 'James Squires', 'Mahoney & Akel / Ryan Dunlavey',\n",
       "       'Devin Bosco Le',\n",
       "       'Crystal Skillman / Fred Van Lente / Fernando Pinto',\n",
       "       'The Awkward Yeti', 'Cherng', 'lallirrr', 'Ardtron / GNICE',\n",
       "       'David Danemen', 'Lunarbaboon', 'Le Brown', 'BuzzFeed Comics',\n",
       "       'Robert Feldman', 'Nichola Gwon', 'Teo / Guy', 'unfins',\n",
       "       'Sangyoung Seong / Sang-A', 'Lupicut', 'Yongseok Jo', 'KimDazzi',\n",
       "       'ZOYANG', 'Hyeseong / Sukjae Lee', 'Angel Tovar',\n",
       "       'Yongtaek Chae / Jaehan Kim', 'explodikid',\n",
       "       'Justin Jordan / John Amor', 'Yoon Hyun-seung / Bang Seung-hyun',\n",
       "       'Tovon', 'Benjamin Fleuter', 'Cavan Scott / Zhang Ran / BigN',\n",
       "       'Matt Hawkins / Stjepan Sejic', 'IRON Shin',\n",
       "       'Luke Lancaster / Orlando Caicedo', 'Dean Haspiel',\n",
       "       'Vito Delsante / Ricardo VenÃ¢ncio',\n",
       "       'Tony Karnowski / Orlando Caicedo', 'Sandra Diaz', 'uru-chan',\n",
       "       '66', 'Kennycomics(Paul Jun) / SilentMaru', 'Sherard Jackson',\n",
       "       'Stan Lee / Tom Akel / Andie Tong', 'refrainbow', 'Miku Yuki',\n",
       "       'Wonsun Jin', 'yee seon', 'waroo', 'Josie Fox',\n",
       "       'Wony / Yoonsoo Sim', 'cho', 'Tyler Capps', 'Bonnie Pang',\n",
       "       'Hanna-Pirita Lehkonen', 'Yulius Efferven', 'it sun',\n",
       "       'Alex Norris', 'Yongjin Kim', 'Mr.D', 'Penguin',\n",
       "       'Rachel Song / Maria Nguyen', 'Hanza Art', 'lilredbeany', 'Jouki',\n",
       "       'Deya Muniz / Emily Erdos', 'VOKIVORMOK', 'YONGCHAN',\n",
       "       'Shinshinhye', 'Blau', 'Jinha / Hepon', 'Chris Geroux', 'Sejung',\n",
       "       'Speremint', 'Sae In Lee / Soo Bean Lim', 'Ann', 'sing-nanda',\n",
       "       'VAN.J', 'Jay Boulton & Laurel Boulton', 'Hayeon / Charles', 'Mai',\n",
       "       'Vivian Darlin', 'jangjin / woombeee', 'Archie the Redcat',\n",
       "       'massstar', 'Maripaz Villar', 'SilentMaru', 'antlerella',\n",
       "       'Pookie Senpai', 'Ingrid Ochoa', 'Austen Marie', 'Dan Schkade',\n",
       "       'Victoria Lee / SaraDeek', 'Sgt.', 'CHU KWON',\n",
       "       'Seth Kushner / Shamus Beyale', 'Top Cow Productions',\n",
       "       'Fabian Nicieza / Reilly Brown', 'Michi', 'Goda', 'Said P.',\n",
       "       'Mike Birchall', 'R Schaeffer / Glamist', 'GRAVEWEAVER',\n",
       "       'Ms. Freaky', '10PARK', 'Toffuo', 'Sungdae Oh',\n",
       "       'Garth the Geek / Kenan Halilovic', 'Herhumanist', 'Joo Dong-geun',\n",
       "       'Jeonghoon Hwang', 'Rangddo', 'A.Rasen', 'Junho Hwang',\n",
       "       'Carnby Kim / Beom Sick Cheon', 'Horang', 'Goodguy',\n",
       "       'Taylor Grant / Alempe', 'Jorge Jaramillo', 'QTT', 'DEY',\n",
       "       'AffectedMind', 'Sadaham', 'TOWOO / Tae Heon Kim',\n",
       "       'Warren Ellis / Colleen Doran', 'Kate Glasheen', 'Myung Hee',\n",
       "       'Ryoung', 'InksOwl comics', 'Punko', 'Ryan Cady / Morgan Beem',\n",
       "       'Meredith Moriarty', 'Michael Regina', 'LOZOLZ / Wyatt the Cat',\n",
       "       'LOZOLZ'], dtype=object)"
      ]
     },
     "execution_count": 9,
     "metadata": {},
     "output_type": "execute_result"
    }
   ],
   "source": [
    "wt['Writer'].unique()"
   ]
  },
  {
   "cell_type": "code",
   "execution_count": 10,
   "id": "3e7aa13e",
   "metadata": {},
   "outputs": [
    {
     "data": {
      "text/html": [
       "<div>\n",
       "<style scoped>\n",
       "    .dataframe tbody tr th:only-of-type {\n",
       "        vertical-align: middle;\n",
       "    }\n",
       "\n",
       "    .dataframe tbody tr th {\n",
       "        vertical-align: top;\n",
       "    }\n",
       "\n",
       "    .dataframe thead th {\n",
       "        text-align: right;\n",
       "    }\n",
       "</style>\n",
       "<table border=\"1\" class=\"dataframe\">\n",
       "  <thead>\n",
       "    <tr style=\"text-align: right;\">\n",
       "      <th></th>\n",
       "      <th>id</th>\n",
       "      <th>Name</th>\n",
       "      <th>Writer</th>\n",
       "      <th>Likes</th>\n",
       "      <th>Genre</th>\n",
       "      <th>Rating</th>\n",
       "      <th>Subscribers</th>\n",
       "      <th>Summary</th>\n",
       "      <th>Update</th>\n",
       "      <th>Reading Link</th>\n",
       "    </tr>\n",
       "  </thead>\n",
       "  <tbody>\n",
       "    <tr>\n",
       "      <th>40</th>\n",
       "      <td>40</td>\n",
       "      <td>To You Who Swallowed a Star</td>\n",
       "      <td>ARI</td>\n",
       "      <td>1500000</td>\n",
       "      <td>Romance</td>\n",
       "      <td>9.51</td>\n",
       "      <td>321900</td>\n",
       "      <td>When Jiu Seo moves out of her childhood friend...</td>\n",
       "      <td>UP EVERY MONDAY</td>\n",
       "      <td>https://www.webtoons.com/en/romance/to-you-who...</td>\n",
       "    </tr>\n",
       "  </tbody>\n",
       "</table>\n",
       "</div>"
      ],
      "text/plain": [
       "    id                         Name Writer    Likes    Genre  Rating  \\\n",
       "40  40  To You Who Swallowed a Star    ARI  1500000  Romance    9.51   \n",
       "\n",
       "    Subscribers                                            Summary  \\\n",
       "40       321900  When Jiu Seo moves out of her childhood friend...   \n",
       "\n",
       "             Update                                       Reading Link  \n",
       "40  UP EVERY MONDAY  https://www.webtoons.com/en/romance/to-you-who...  "
      ]
     },
     "execution_count": 10,
     "metadata": {},
     "output_type": "execute_result"
    }
   ],
   "source": [
    "wt[wt['Writer'] == 'ARI']"
   ]
  },
  {
   "cell_type": "code",
   "execution_count": 28,
   "id": "91582bf3",
   "metadata": {},
   "outputs": [
    {
     "data": {
      "text/html": [
       "<div>\n",
       "<style scoped>\n",
       "    .dataframe tbody tr th:only-of-type {\n",
       "        vertical-align: middle;\n",
       "    }\n",
       "\n",
       "    .dataframe tbody tr th {\n",
       "        vertical-align: top;\n",
       "    }\n",
       "\n",
       "    .dataframe thead th {\n",
       "        text-align: right;\n",
       "    }\n",
       "</style>\n",
       "<table border=\"1\" class=\"dataframe\">\n",
       "  <thead>\n",
       "    <tr style=\"text-align: right;\">\n",
       "      <th></th>\n",
       "      <th>Name</th>\n",
       "      <th>Rating</th>\n",
       "      <th>Genre</th>\n",
       "      <th>Summary</th>\n",
       "    </tr>\n",
       "  </thead>\n",
       "  <tbody>\n",
       "    <tr>\n",
       "      <th>0</th>\n",
       "      <td>Let's Play</td>\n",
       "      <td>9.62</td>\n",
       "      <td>Romance</td>\n",
       "      <td>She's young, single and about to achieve her d...</td>\n",
       "    </tr>\n",
       "    <tr>\n",
       "      <th>1</th>\n",
       "      <td>True Beauty</td>\n",
       "      <td>9.60</td>\n",
       "      <td>Romance</td>\n",
       "      <td>After binge-watching beauty videos online, a s...</td>\n",
       "    </tr>\n",
       "    <tr>\n",
       "      <th>2</th>\n",
       "      <td>Midnight Poppy Land</td>\n",
       "      <td>9.81</td>\n",
       "      <td>Romance</td>\n",
       "      <td>After making a grisly discovery in the country...</td>\n",
       "    </tr>\n",
       "  </tbody>\n",
       "</table>\n",
       "</div>"
      ],
      "text/plain": [
       "                  Name  Rating    Genre  \\\n",
       "0           Let's Play    9.62  Romance   \n",
       "1          True Beauty    9.60  Romance   \n",
       "2  Midnight Poppy Land    9.81  Romance   \n",
       "\n",
       "                                             Summary  \n",
       "0  She's young, single and about to achieve her d...  \n",
       "1  After binge-watching beauty videos online, a s...  \n",
       "2  After making a grisly discovery in the country...  "
      ]
     },
     "execution_count": 28,
     "metadata": {},
     "output_type": "execute_result"
    }
   ],
   "source": [
    "df = wt[['Name','Rating', 'Genre', 'Summary']]\n",
    "df.head(3)"
   ]
  },
  {
   "cell_type": "code",
   "execution_count": 11,
   "id": "4b517944",
   "metadata": {},
   "outputs": [
    {
     "data": {
      "text/html": [
       "<div>\n",
       "<style scoped>\n",
       "    .dataframe tbody tr th:only-of-type {\n",
       "        vertical-align: middle;\n",
       "    }\n",
       "\n",
       "    .dataframe tbody tr th {\n",
       "        vertical-align: top;\n",
       "    }\n",
       "\n",
       "    .dataframe thead th {\n",
       "        text-align: right;\n",
       "    }\n",
       "</style>\n",
       "<table border=\"1\" class=\"dataframe\">\n",
       "  <thead>\n",
       "    <tr style=\"text-align: right;\">\n",
       "      <th></th>\n",
       "      <th>Name</th>\n",
       "      <th>Writer</th>\n",
       "      <th>Genre</th>\n",
       "      <th>Update</th>\n",
       "      <th>Summary</th>\n",
       "    </tr>\n",
       "  </thead>\n",
       "  <tbody>\n",
       "    <tr>\n",
       "      <th>0</th>\n",
       "      <td>Let's Play</td>\n",
       "      <td>Leeanne M. Krecic (Mongie)</td>\n",
       "      <td>Romance</td>\n",
       "      <td>UP EVERY TUESDAY</td>\n",
       "      <td>She's young, single and about to achieve her d...</td>\n",
       "    </tr>\n",
       "    <tr>\n",
       "      <th>1</th>\n",
       "      <td>True Beauty</td>\n",
       "      <td>Yaongyi</td>\n",
       "      <td>Romance</td>\n",
       "      <td>UP EVERY WEDNESDAY</td>\n",
       "      <td>After binge-watching beauty videos online, a s...</td>\n",
       "    </tr>\n",
       "    <tr>\n",
       "      <th>2</th>\n",
       "      <td>Midnight Poppy Land</td>\n",
       "      <td>Lilydusk</td>\n",
       "      <td>Romance</td>\n",
       "      <td>UP EVERY SATURDAY</td>\n",
       "      <td>After making a grisly discovery in the country...</td>\n",
       "    </tr>\n",
       "  </tbody>\n",
       "</table>\n",
       "</div>"
      ],
      "text/plain": [
       "                  Name                      Writer    Genre  \\\n",
       "0           Let's Play  Leeanne M. Krecic (Mongie)  Romance   \n",
       "1          True Beauty                     Yaongyi  Romance   \n",
       "2  Midnight Poppy Land                    Lilydusk  Romance   \n",
       "\n",
       "               Update                                            Summary  \n",
       "0    UP EVERY TUESDAY  She's young, single and about to achieve her d...  \n",
       "1  UP EVERY WEDNESDAY  After binge-watching beauty videos online, a s...  \n",
       "2   UP EVERY SATURDAY  After making a grisly discovery in the country...  "
      ]
     },
     "execution_count": 11,
     "metadata": {},
     "output_type": "execute_result"
    }
   ],
   "source": [
    "columns = [\"Name\", \"Writer\", \"Genre\", \"Update\", \"Summary\"]\n",
    "wt[columns].head(3)"
   ]
  },
  {
   "cell_type": "code",
   "execution_count": 12,
   "id": "391678e0",
   "metadata": {},
   "outputs": [
    {
     "data": {
      "text/plain": [
       "Name       0\n",
       "Writer     1\n",
       "Genre      0\n",
       "Update     0\n",
       "Summary    0\n",
       "dtype: int64"
      ]
     },
     "execution_count": 12,
     "metadata": {},
     "output_type": "execute_result"
    }
   ],
   "source": [
    "wt[columns].isnull().sum()"
   ]
  },
  {
   "cell_type": "code",
   "execution_count": 13,
   "id": "77586a70",
   "metadata": {},
   "outputs": [
    {
     "data": {
      "text/plain": [
       "Genre\n",
       "Action           9.577447\n",
       "Comedy           9.148846\n",
       "Drama            9.537167\n",
       "Fantasy          9.531474\n",
       "Heartwarming     9.675000\n",
       "Historical       9.450000\n",
       "Horror           9.516000\n",
       "Informative      9.360000\n",
       "Mystery          9.476667\n",
       "Romance          9.544778\n",
       "Sci-fi           9.394375\n",
       "Slice of life    9.226122\n",
       "Sports           9.171000\n",
       "Superhero        8.908077\n",
       "Supernatural     9.419394\n",
       "Thriller         9.438857\n",
       "Name: Rating, dtype: float64"
      ]
     },
     "execution_count": 13,
     "metadata": {},
     "output_type": "execute_result"
    }
   ],
   "source": [
    "mean_genre= wt.groupby('Genre')['Rating'].mean()\n",
    "mean_genre"
   ]
  },
  {
   "cell_type": "code",
   "execution_count": 14,
   "id": "188a0249",
   "metadata": {},
   "outputs": [
    {
     "data": {
      "text/plain": [
       "<AxesSubplot:xlabel='count', ylabel='Genre'>"
      ]
     },
     "execution_count": 14,
     "metadata": {},
     "output_type": "execute_result"
    },
    {
     "data": {
      "image/png": "[encoded data removed]",
      "text/plain": [
       "<Figure size 432x288 with 1 Axes>"
      ]
     },
     "metadata": {
      "needs_background": "light"
     },
     "output_type": "display_data"
    }
   ],
   "source": [
    "sns.countplot(y=\"Genre\",data=wt)"
   ]
  },
  {
   "cell_type": "code",
   "execution_count": 15,
   "id": "955ac472",
   "metadata": {},
   "outputs": [
    {
     "data": {
      "text/plain": [
       "<seaborn.axisgrid.PairGrid at 0x2602a5893d0>"
      ]
     },
     "execution_count": 15,
     "metadata": {},
     "output_type": "execute_result"
    },
    {
     "data": {
      "image/png": "[encoded data removed]",
      "text/plain": [
       "<Figure size 827.25x720 with 20 Axes>"
      ]
     },
     "metadata": {
      "needs_background": "light"
     },
     "output_type": "display_data"
    }
   ],
   "source": [
    "sns.pairplot(wt,hue='Genre',palette=\"coolwarm\")"
   ]
  },
  {
   "cell_type": "code",
   "execution_count": 18,
   "id": "f7558c3a",
   "metadata": {},
   "outputs": [
    {
     "data": {
      "text/plain": [
       "<AxesSubplot:>"
      ]
     },
     "execution_count": 18,
     "metadata": {},
     "output_type": "execute_result"
    },
    {
     "data": {
      "image/png": "[encoded data removed]",
      "text/plain": [
       "<Figure size 432x288 with 2 Axes>"
      ]
     },
     "metadata": {
      "needs_background": "light"
     },
     "output_type": "display_data"
    }
   ],
   "source": [
    "sns.heatmap(wt.corr())"
   ]
  },
  {
   "cell_type": "code",
   "execution_count": 19,
   "id": "a9daa5e0",
   "metadata": {},
   "outputs": [
    {
     "data": {
      "text/plain": [
       "<AxesSubplot:xlabel='Rating', ylabel='id'>"
      ]
     },
     "execution_count": 19,
     "metadata": {},
     "output_type": "execute_result"
    },
    {
     "data": {
      "image/png": "[encoded data removed]",
      "text/plain": [
       "<Figure size 432x288 with 1 Axes>"
      ]
     },
     "metadata": {
      "needs_background": "light"
     },
     "output_type": "display_data"
    }
   ],
   "source": [
    "sns.kdeplot(x='Rating', y='id', data=wt, cmap = 'plasma', shade=True, thresh=0.05)"
   ]
  },
  {
   "cell_type": "code",
   "execution_count": null,
   "id": "87f3bd9e",
   "metadata": {},
   "outputs": [],
   "source": []
  },
  {
   "cell_type": "code",
   "execution_count": null,
   "id": "e89a89e9",
   "metadata": {},
   "outputs": [],
   "source": []
  }
 ],
 "metadata": {
  "kernelspec": {
   "display_name": "Python 3",
   "language": "python",
   "name": "python3"
  },
  "language_info": {
   "codemirror_mode": {
    "name": "ipython",
    "version": 3
   },
   "file_extension": ".py",
   "mimetype": "text/x-python",
   "name": "python",
   "nbconvert_exporter": "python",
   "pygments_lexer": "ipython3",
   "version": "3.8.8"
  }
 },
 "nbformat": 4,
 "nbformat_minor": 5
}
