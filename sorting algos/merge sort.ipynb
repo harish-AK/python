{
 "cells": [
  {
   "cell_type": "code",
   "execution_count": 2,
   "id": "b79cc9fa-4624-472d-9ba0-5c88c98d1fd4",
   "metadata": {},
   "outputs": [
    {
     "name": "stdout",
     "output_type": "stream",
     "text": [
      "[3, 9, 10, 27, 38, 43, 82]\n"
     ]
    }
   ],
   "source": [
    "def merge_sort(arr):\n",
    "    if len(arr) <= 1:\n",
    "        return arr\n",
    "\n",
    "    mid = len(arr) // 2\n",
    "    left_half = merge_sort(arr[:mid])\n",
    "    right_half = merge_sort(arr[mid:])\n",
    "\n",
    "    merged = []\n",
    "    left_index = 0\n",
    "    right_index = 0\n",
    "\n",
    "    while left_index < len(left_half) and right_index < len(right_half):\n",
    "        if left_half[left_index] < right_half[right_index]:\n",
    "            merged.append(left_half[left_index])\n",
    "            left_index += 1\n",
    "        else:\n",
    "            merged.append(right_half[right_index])\n",
    "            right_index += 1\n",
    "\n",
    "    # Append the remaining elements from both halves\n",
    "    merged.extend(left_half[left_index:])\n",
    "    merged.extend(right_half[right_index:])\n",
    "\n",
    "    return merged\n",
    "\n",
    "input_array = [38, 27, 43, 3, 9, 82, 10]\n",
    "sorted_array = merge_sort(input_array)\n",
    "print(sorted_array)\n"
   ]
  },
  {
   "cell_type": "code",
   "execution_count": null,
   "id": "0013acc9-e2a4-4bb7-8ab8-bc19636a7855",
   "metadata": {},
   "outputs": [],
   "source": [
    "# class Solution:\n",
    "#     def merge(self, arr, l, m, r):\n",
    "#         # Function to merge two halves of the array\n",
    "#         n1 = m - l + 1\n",
    "#         n2 = r - m\n",
    "\n",
    "#         # Create temporary arrays\n",
    "#         L = [0] * n1\n",
    "#         R = [0] * n2\n",
    "\n",
    "#         # Copy data to temporary arrays L[] and R[]\n",
    "#         for i in range(n1):\n",
    "#             L[i] = arr[l + i]\n",
    "#         for j in range(n2):\n",
    "#             R[j] = arr[m + 1 + j]\n",
    "\n",
    "#         # Merge the temporary arrays back into arr[l..r]\n",
    "#         i = j = 0\n",
    "#         k = l\n",
    "#         while i < n1 and j < n2:\n",
    "#             if L[i] <= R[j]:\n",
    "#                 arr[k] = L[i]\n",
    "#                 i += 1\n",
    "#             else:\n",
    "#                 arr[k] = R[j]\n",
    "#                 j += 1\n",
    "#             k += 1\n",
    "\n",
    "#         # Copy the remaining elements of L[], if there are any\n",
    "#         while i < n1:\n",
    "#             arr[k] = L[i]\n",
    "#             i += 1\n",
    "#             k += 1\n",
    "\n",
    "#         # Copy the remaining elements of R[], if there are any\n",
    "#         while j < n2:\n",
    "#             arr[k] = R[j]\n",
    "#             j += 1\n",
    "#             k += 1\n",
    "\n",
    "#     def mergeSort(self, arr, l, r):\n",
    "#         # Function to perform merge sort on the array\n",
    "#         if l < r:\n",
    "#             m = (l + r) // 2\n",
    "\n",
    "#             # Recursive call on the left and right halves\n",
    "#             self.mergeSort(arr, l, m)\n",
    "#             self.mergeSort(arr, m + 1, r)\n",
    "\n",
    "#             # Merge the sorted halves\n",
    "#             self.merge(arr, l, m, r)\n"
   ]
  },
  {
   "cell_type": "code",
   "execution_count": 4,
   "id": "93792a3a-778f-4fe6-8673-cb384650fbff",
   "metadata": {},
   "outputs": [],
   "source": []
  },
  {
   "cell_type": "code",
   "execution_count": null,
   "id": "fb2c3405-39de-4074-8e43-0053c0a76dce",
   "metadata": {},
   "outputs": [],
   "source": []
  }
 ],
 "metadata": {
  "kernelspec": {
   "display_name": "Python 3 (ipykernel)",
   "language": "python",
   "name": "python3"
  },
  "language_info": {
   "codemirror_mode": {
    "name": "ipython",
    "version": 3
   },
   "file_extension": ".py",
   "mimetype": "text/x-python",
   "name": "python",
   "nbconvert_exporter": "python",
   "pygments_lexer": "ipython3",
   "version": "3.9.18"
  },
  "widgets": {
   "application/vnd.jupyter.widget-state+json": {
    "state": {},
    "version_major": 2,
    "version_minor": 0
   }
  }
 },
 "nbformat": 4,
 "nbformat_minor": 5
}
