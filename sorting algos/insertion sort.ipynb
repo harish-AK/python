{
 "cells": [
  {
   "cell_type": "markdown",
   "id": "d4accc22-c527-4b8d-b758-ad4b9a55a455",
   "metadata": {},
   "source": [
    "# Time complexity for insertion sort at worst case O(n^2), best case O(n) - array is already sorted"
   ]
  },
  {
   "cell_type": "code",
   "execution_count": 7,
   "id": "5b7ae25f-0dda-4280-89af-8c006f788584",
   "metadata": {},
   "outputs": [
    {
     "data": {
      "text/plain": [
       "[1, 2, 3]"
      ]
     },
     "execution_count": 7,
     "metadata": {},
     "output_type": "execute_result"
    }
   ],
   "source": [
    "arr=[3,2,1]\n",
    "for i in range(1, len(arr)):\n",
    " \n",
    "    key = arr[i] # arr[i]= arr[1] which is 3 in first iteration\n",
    "    \n",
    "    j = i-1  # j = 1-1  = 0 at 1st iteration\n",
    "    while j >= 0 and key < arr[j] : #j is 0 ,  0>=0 and key = 3 < arr[0] (arr[j]) is also 3 \n",
    "            arr[j + 1] = arr[j] # swapping 2 and 3\n",
    "            j -= 1 # j=0-1=-1\n",
    "    arr[j + 1] = key #j[-1+1]=0 now key will be 2 which is j[0]\n",
    "arr\n",
    "# def insert(self, alist, index, n):\n",
    "#         # Function to insert the element at the specified index\n",
    "#         alist.insert(index, n)\n",
    "\n",
    "#     # Function to sort the list using insertion sort algorithm.\n",
    "#     def insertionSort(self, alist, n):\n",
    "#         # Traverse through 1 to len(alist)\n",
    "#         for i in range(1, n):\n",
    "#             key = alist[i]\n",
    "#             j = i - 1\n",
    "\n",
    "#             # Move elements of alist[0..i-1] that are greater than key\n",
    "#             # to one position ahead of their current position\n",
    "#             while j >= 0 and key < alist[j]:\n",
    "#                 alist[j + 1] = alist[j]\n",
    "#                 j -= 1\n",
    "#             alist[j + 1] = key"
   ]
  },
  {
   "cell_type": "code",
   "execution_count": null,
   "id": "953321d9-08c1-434b-bc87-369146bf97cd",
   "metadata": {},
   "outputs": [],
   "source": []
  },
  {
   "cell_type": "code",
   "execution_count": null,
   "id": "e958e723-54a9-4d39-928b-341a66351c9a",
   "metadata": {},
   "outputs": [],
   "source": []
  }
 ],
 "metadata": {
  "kernelspec": {
   "display_name": "Python 3 (ipykernel)",
   "language": "python",
   "name": "python3"
  },
  "language_info": {
   "codemirror_mode": {
    "name": "ipython",
    "version": 3
   },
   "file_extension": ".py",
   "mimetype": "text/x-python",
   "name": "python",
   "nbconvert_exporter": "python",
   "pygments_lexer": "ipython3",
   "version": "3.9.18"
  },
  "widgets": {
   "application/vnd.jupyter.widget-state+json": {
    "state": {},
    "version_major": 2,
    "version_minor": 0
   }
  }
 },
 "nbformat": 4,
 "nbformat_minor": 5
}
