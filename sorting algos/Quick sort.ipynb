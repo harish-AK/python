{
 "cells": [
  {
   "cell_type": "markdown",
   "id": "1f06bcc0-34ac-44af-9c9c-1b8b795662fa",
   "metadata": {},
   "source": [
    "In quick sort best case O(n^2)  worst case O(nlogn)"
   ]
  },
  {
   "cell_type": "code",
   "execution_count": 1,
   "id": "ad5ae019-8da3-4f0c-bd20-b78c35c44948",
   "metadata": {},
   "outputs": [
    {
     "name": "stdout",
     "output_type": "stream",
     "text": [
      "[3, 9, 10, 27, 38, 43, 82]\n"
     ]
    }
   ],
   "source": []
  },
  {
   "cell_type": "code",
   "execution_count": null,
   "id": "c462fdaa-4fa7-4f65-ae81-bc23855a6833",
   "metadata": {},
   "outputs": [],
   "source": []
  }
 ],
 "metadata": {
  "kernelspec": {
   "display_name": "Python 3 (ipykernel)",
   "language": "python",
   "name": "python3"
  },
  "language_info": {
   "codemirror_mode": {
    "name": "ipython",
    "version": 3
   },
   "file_extension": ".py",
   "mimetype": "text/x-python",
   "name": "python",
   "nbconvert_exporter": "python",
   "pygments_lexer": "ipython3",
   "version": "3.9.18"
  },
  "widgets": {
   "application/vnd.jupyter.widget-state+json": {
    "state": {},
    "version_major": 2,
    "version_minor": 0
   }
  }
 },
 "nbformat": 4,
 "nbformat_minor": 5
}
