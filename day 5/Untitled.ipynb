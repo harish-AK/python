{
 "cells": [
  {
   "cell_type": "code",
   "execution_count": 1,
   "id": "39cb90a3",
   "metadata": {},
   "outputs": [
    {
     "name": "stdout",
     "output_type": "stream",
     "text": [
      "Enter the number 1:1\n",
      "Enter the number 2:2\n",
      "0.5\n",
      "Index not found\n"
     ]
    }
   ],
   "source": [
    "try:\n",
    "    num1 = int(input(\"Enter the number 1:\"))\n",
    "    num2 = int(input(\"Enter the number 2:\"))\n",
    "    num3 = num1/num2\n",
    "    print(num3)\n",
    "    \n",
    "    \n",
    "    List = [1,2,3]\n",
    "    print(\"List Value:\", List[3])\n",
    "    \n",
    "    print(num)\n",
    "    \n",
    "except ZeroDivisionError:\n",
    "    print(\"one is not divisible by zero\")\n",
    "\n",
    "except NameError:\n",
    "    print(\"Name is not defined\")\n",
    "    \n",
    "except IndexError:\n",
    "    print(\"Index not found\")\n",
    "\n",
    "        \n",
    "    "
   ]
  },
  {
   "cell_type": "code",
   "execution_count": 8,
   "id": "3eb882ec",
   "metadata": {},
   "outputs": [
    {
     "name": "stdout",
     "output_type": "stream",
     "text": [
      "2.0\n"
     ]
    }
   ],
   "source": [
    "try:\n",
    "    a=20\n",
    "    b=10\n",
    "    c=a/b\n",
    "    print(c)\n",
    "except ZeroDivisionError:\n",
    "    print(\"no zero division\")\n",
    "except NameError:\n",
    "    print(\"use defined vaeiable\")"
   ]
  },
  {
   "cell_type": "code",
   "execution_count": null,
   "id": "a4823987",
   "metadata": {},
   "outputs": [],
   "source": []
  }
 ],
 "metadata": {
  "kernelspec": {
   "display_name": "Python 3",
   "language": "python",
   "name": "python3"
  },
  "language_info": {
   "codemirror_mode": {
    "name": "ipython",
    "version": 3
   },
   "file_extension": ".py",
   "mimetype": "text/x-python",
   "name": "python",
   "nbconvert_exporter": "python",
   "pygments_lexer": "ipython3",
   "version": "3.8.8"
  }
 },
 "nbformat": 4,
 "nbformat_minor": 5
}
