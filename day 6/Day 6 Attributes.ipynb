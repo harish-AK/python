{
 "cells": [
  {
   "cell_type": "code",
   "execution_count": 1,
   "metadata": {},
   "outputs": [
    {
     "data": {
      "text/plain": [
       "'abceeeee'"
      ]
     },
     "execution_count": 1,
     "metadata": {},
     "output_type": "execute_result"
    }
   ],
   "source": [
    "\"lllllabceeeee\".lstrip('l')#remove l from the statement"
   ]
  },
  {
   "cell_type": "code",
   "execution_count": 2,
   "metadata": {},
   "outputs": [
    {
     "data": {
      "text/plain": [
       "'lllllabc'"
      ]
     },
     "execution_count": 2,
     "metadata": {},
     "output_type": "execute_result"
    }
   ],
   "source": [
    "\"lllllabceeeee\".rstrip('e') # removes e from right "
   ]
  },
  {
   "cell_type": "code",
   "execution_count": 3,
   "metadata": {},
   "outputs": [
    {
     "data": {
      "text/plain": [
       "'abc'"
      ]
     },
     "execution_count": 3,
     "metadata": {},
     "output_type": "execute_result"
    }
   ],
   "source": [
    "\"lllllabceeeee\".lstrip('l').rstrip('e')"
   ]
  },
  {
   "cell_type": "code",
   "execution_count": 5,
   "metadata": {},
   "outputs": [
    {
     "name": "stdout",
     "output_type": "stream",
     "text": [
      "enter dept: AI\n",
      "josh\n",
      "Raj\n"
     ]
    }
   ],
   "source": [
    "names = {'josh':'AI', 'Danie':'DA', 'Abi':'DA', 'Raj':'AI'}\n",
    "x=input('enter dept: ')\n",
    "for i in names:\n",
    "    if names[i]==x:\n",
    "        print(i)"
   ]
  },
  {
   "cell_type": "code",
   "execution_count": 5,
   "metadata": {},
   "outputs": [],
   "source": [
    "class Person:  #instance attributes: the attributes which is present inside the function\n",
    "    def __init__(self, age, name): #instance attribute\n",
    "        self.age = age\n",
    "        self.name = name"
   ]
  },
  {
   "cell_type": "code",
   "execution_count": 6,
   "metadata": {},
   "outputs": [
    {
     "data": {
      "text/plain": [
       "'personal_details'"
      ]
     },
     "execution_count": 6,
     "metadata": {},
     "output_type": "execute_result"
    }
   ],
   "source": [
    "class Person:  #class attributes: the attributes which is present outside the function\n",
    "    details = 'personal_details' #class attribute\n",
    "    def __init__(self, age, name):\n",
    "        self.age = age\n",
    "        self.name = name\n",
    "Person.details"
   ]
  },
  {
   "cell_type": "code",
   "execution_count": 7,
   "metadata": {},
   "outputs": [
    {
     "name": "stdout",
     "output_type": "stream",
     "text": [
      "30\n"
     ]
    }
   ],
   "source": [
    "class Rectangle:\n",
    "    def __init__(sel, length, breadth):\n",
    "        sel.length = length\n",
    "        sel.breadth = breadth\n",
    "        \n",
    "    def get_area(sel):\n",
    "        return sel.length * sel.breadth\n",
    "    \n",
    "Area = Rectangle(5,6)\n",
    "print(Area.get_area())"
   ]
  },
  {
   "cell_type": "code",
   "execution_count": 9,
   "metadata": {},
   "outputs": [
    {
     "name": "stdout",
     "output_type": "stream",
     "text": [
      "1\n",
      "2\n",
      "2\n"
     ]
    }
   ],
   "source": [
    "class classattribute:\n",
    "    count = 0\n",
    "    #print(count)\n",
    "    def increment(self):\n",
    "        classattribute.count += 1\n",
    "c1 = classattribute()\n",
    "c1.increment()\n",
    "print(c1.count)\n",
    "c2 = classattribute()\n",
    "c2.increment()\n",
    "print(c2.count)\n",
    "print(classattribute.count)"
   ]
  },
  {
   "cell_type": "code",
   "execution_count": null,
   "metadata": {},
   "outputs": [],
   "source": []
  }
 ],
 "metadata": {
  "kernelspec": {
   "display_name": "Python 3",
   "language": "python",
   "name": "python3"
  },
  "language_info": {
   "codemirror_mode": {
    "name": "ipython",
    "version": 3
   },
   "file_extension": ".py",
   "mimetype": "text/x-python",
   "name": "python",
   "nbconvert_exporter": "python",
   "pygments_lexer": "ipython3",
   "version": "3.8.8"
  }
 },
 "nbformat": 4,
 "nbformat_minor": 4
}
